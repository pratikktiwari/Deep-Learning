{
  "nbformat": 4,
  "nbformat_minor": 0,
  "metadata": {
    "colab": {
      "name": "01_Neural Network Regression.ipynb",
      "provenance": [],
      "collapsed_sections": [],
      "authorship_tag": "ABX9TyNXTvNolMLvWqBqUK9QUM3c",
      "include_colab_link": true
    },
    "kernelspec": {
      "name": "python3",
      "display_name": "Python 3"
    },
    "language_info": {
      "name": "python"
    }
  },
  "cells": [
    {
      "cell_type": "markdown",
      "metadata": {
        "id": "view-in-github",
        "colab_type": "text"
      },
      "source": [
        "<a href=\"https://colab.research.google.com/github/pratikktiwari/ML-Learnings/blob/main/01_Neural_Network_Regression.ipynb\" target=\"_parent\"><img src=\"https://colab.research.google.com/assets/colab-badge.svg\" alt=\"Open In Colab\"/></a>"
      ]
    },
    {
      "cell_type": "markdown",
      "source": [
        "# Introduction to Regression with Neural Networks in TensorFlow\n",
        "There are many definitions for a regression problem but in our case, we're going to to simplify it: predicting numerical variables based on some other combination of variables, even shorter... predicting number."
      ],
      "metadata": {
        "id": "Jo5yDLGLPhgt"
      }
    },
    {
      "cell_type": "code",
      "source": [
        "# Import TensforFlow\n",
        "import tensorflow as tf\n",
        "print(tf.__version__)"
      ],
      "metadata": {
        "colab": {
          "base_uri": "https://localhost:8080/"
        },
        "id": "wWnLOMKwQIz5",
        "outputId": "bf61cef6-4800-4da8-f916-93636481f353"
      },
      "execution_count": 1,
      "outputs": [
        {
          "output_type": "stream",
          "name": "stdout",
          "text": [
            "2.8.2\n"
          ]
        }
      ]
    },
    {
      "cell_type": "markdown",
      "source": [
        "## Creating data to view and fit"
      ],
      "metadata": {
        "id": "UuEvUrlAQeAJ"
      }
    },
    {
      "cell_type": "code",
      "source": [
        "import numpy as np\n",
        "import matplotlib.pyplot as plt\n",
        "\n",
        "# Create features\n",
        "X = np.array([-7.0, -4.0, -1, 2.0, 5.0, 8.0, 11.0, 14.0])\n",
        "\n",
        "# Create labels\n",
        "y = np.array([3.0, 6.0, 9.0, 12.0, 15.0, 18.0, 21.0, 24.0])\n",
        "\n",
        "# Visualize it\n",
        "plt.scatter(X,y)"
      ],
      "metadata": {
        "colab": {
          "base_uri": "https://localhost:8080/",
          "height": 287
        },
        "id": "3uTbTCFNQwoX",
        "outputId": "d3fa7a04-075f-4a3e-f21b-177a28cd1025"
      },
      "execution_count": 2,
      "outputs": [
        {
          "output_type": "execute_result",
          "data": {
            "text/plain": [
              "<matplotlib.collections.PathCollection at 0x7f3a8d49fbd0>"
            ]
          },
          "metadata": {},
          "execution_count": 2
        },
        {
          "output_type": "display_data",
          "data": {
            "text/plain": [
              "<Figure size 432x288 with 1 Axes>"
            ],
            "image/png": "[encoded data removed]"
          },
          "metadata": {
            "needs_background": "light"
          }
        }
      ]
    },
    {
      "cell_type": "code",
      "source": [
        "# Relationship\n",
        "\n",
        "y == X + 10"
      ],
      "metadata": {
        "colab": {
          "base_uri": "https://localhost:8080/"
        },
        "id": "ckFcQ18TRTz0",
        "outputId": "7c12248a-317b-4a9a-c3db-61af975200fb"
      },
      "execution_count": 3,
      "outputs": [
        {
          "output_type": "execute_result",
          "data": {
            "text/plain": [
              "array([ True,  True,  True,  True,  True,  True,  True,  True])"
            ]
          },
          "metadata": {},
          "execution_count": 3
        }
      ]
    },
    {
      "cell_type": "markdown",
      "source": [
        "## Input and output shapes"
      ],
      "metadata": {
        "id": "F-G5QsghRmm1"
      }
    },
    {
      "cell_type": "code",
      "source": [
        "# Create a demo tensor for our housing price prediction problem\n",
        "house_info = tf.constant([\"bedroom\", \"bathroom\", \"garage\"])\n",
        "house_price = tf.constant([939700])\n",
        "\n",
        "house_info, house_price"
      ],
      "metadata": {
        "colab": {
          "base_uri": "https://localhost:8080/"
        },
        "id": "gamcQ4niRtCR",
        "outputId": "b827115e-4adb-4ca4-ff40-8cf4d675cc17"
      },
      "execution_count": 4,
      "outputs": [
        {
          "output_type": "execute_result",
          "data": {
            "text/plain": [
              "(<tf.Tensor: shape=(3,), dtype=string, numpy=array([b'bedroom', b'bathroom', b'garage'], dtype=object)>,\n",
              " <tf.Tensor: shape=(1,), dtype=int32, numpy=array([939700], dtype=int32)>)"
            ]
          },
          "metadata": {},
          "execution_count": 4
        }
      ]
    },
    {
      "cell_type": "code",
      "source": [
        "X[0], y[0]"
      ],
      "metadata": {
        "colab": {
          "base_uri": "https://localhost:8080/"
        },
        "id": "w0jYKXIHSiVU",
        "outputId": "d6b18f9a-04d5-478f-f68d-875c6868c9b5"
      },
      "execution_count": 5,
      "outputs": [
        {
          "output_type": "execute_result",
          "data": {
            "text/plain": [
              "(-7.0, 3.0)"
            ]
          },
          "metadata": {},
          "execution_count": 5
        }
      ]
    },
    {
      "cell_type": "code",
      "source": [
        "X[1], y[1]"
      ],
      "metadata": {
        "colab": {
          "base_uri": "https://localhost:8080/"
        },
        "id": "hCVgC1ymSlhU",
        "outputId": "0b47e597-c1e0-4289-802b-acb6406c2eb9"
      },
      "execution_count": 6,
      "outputs": [
        {
          "output_type": "execute_result",
          "data": {
            "text/plain": [
              "(-4.0, 6.0)"
            ]
          },
          "metadata": {},
          "execution_count": 6
        }
      ]
    },
    {
      "cell_type": "code",
      "source": [
        "input_shape = X[0].shape\n",
        "output_shape = y[0].shape\n",
        "\n",
        "input_shape, output_shape"
      ],
      "metadata": {
        "colab": {
          "base_uri": "https://localhost:8080/"
        },
        "id": "RONv4K2zSQ-5",
        "outputId": "271bbd8e-1bc1-47a0-b507-ef8af749632a"
      },
      "execution_count": 7,
      "outputs": [
        {
          "output_type": "execute_result",
          "data": {
            "text/plain": [
              "((), ())"
            ]
          },
          "metadata": {},
          "execution_count": 7
        }
      ]
    },
    {
      "cell_type": "code",
      "source": [
        "# Scalar has no shape\n",
        "X[0].ndim"
      ],
      "metadata": {
        "colab": {
          "base_uri": "https://localhost:8080/"
        },
        "id": "p8XnSMNNSdLo",
        "outputId": "fb79935c-406c-452f-f84d-3a3a3025f777"
      },
      "execution_count": 8,
      "outputs": [
        {
          "output_type": "execute_result",
          "data": {
            "text/plain": [
              "0"
            ]
          },
          "metadata": {},
          "execution_count": 8
        }
      ]
    },
    {
      "cell_type": "code",
      "source": [
        "X[0], y[0]"
      ],
      "metadata": {
        "colab": {
          "base_uri": "https://localhost:8080/"
        },
        "id": "ut_Bm9FbS5sK",
        "outputId": "edac2c2a-0d32-40b4-fa5a-89a753aacf3d"
      },
      "execution_count": 9,
      "outputs": [
        {
          "output_type": "execute_result",
          "data": {
            "text/plain": [
              "(-7.0, 3.0)"
            ]
          },
          "metadata": {},
          "execution_count": 9
        }
      ]
    },
    {
      "cell_type": "code",
      "source": [
        "# Turn our NumPy arrays into tensors\n",
        "X = tf.cast(tf.constant(X), dtype=tf.float32)\n",
        "y = tf.cast(tf.constant(y), dtype=tf.float32)\n",
        "X, y"
      ],
      "metadata": {
        "colab": {
          "base_uri": "https://localhost:8080/"
        },
        "id": "bBOvLcfyS8Sa",
        "outputId": "21d1b511-d3aa-470d-87b5-c78ebce13737"
      },
      "execution_count": 10,
      "outputs": [
        {
          "output_type": "execute_result",
          "data": {
            "text/plain": [
              "(<tf.Tensor: shape=(8,), dtype=float32, numpy=array([-7., -4., -1.,  2.,  5.,  8., 11., 14.], dtype=float32)>,\n",
              " <tf.Tensor: shape=(8,), dtype=float32, numpy=array([ 3.,  6.,  9., 12., 15., 18., 21., 24.], dtype=float32)>)"
            ]
          },
          "metadata": {},
          "execution_count": 10
        }
      ]
    },
    {
      "cell_type": "code",
      "source": [
        "input_shape = X[0].shape\n",
        "output_shape = y[0].shape\n",
        "\n",
        "input_shape, output_shape"
      ],
      "metadata": {
        "colab": {
          "base_uri": "https://localhost:8080/"
        },
        "id": "nVES0d0wTSu0",
        "outputId": "1e6f17d7-b5be-4ff8-e247-4eab1a5296e0"
      },
      "execution_count": 11,
      "outputs": [
        {
          "output_type": "execute_result",
          "data": {
            "text/plain": [
              "(TensorShape([]), TensorShape([]))"
            ]
          },
          "metadata": {},
          "execution_count": 11
        }
      ]
    },
    {
      "cell_type": "code",
      "source": [
        "plt.scatter(X, y)"
      ],
      "metadata": {
        "colab": {
          "base_uri": "https://localhost:8080/",
          "height": 287
        },
        "id": "7AW5wdd-Tiw7",
        "outputId": "aba410c1-fdff-4cef-d4d8-5633d0134097"
      },
      "execution_count": 12,
      "outputs": [
        {
          "output_type": "execute_result",
          "data": {
            "text/plain": [
              "<matplotlib.collections.PathCollection at 0x7f3a8d49fa50>"
            ]
          },
          "metadata": {},
          "execution_count": 12
        },
        {
          "output_type": "display_data",
          "data": {
            "text/plain": [
              "<Figure size 432x288 with 1 Axes>"
            ],
            "image/png": "[encoded data removed]"
          },
          "metadata": {
            "needs_background": "light"
          }
        }
      ]
    },
    {
      "cell_type": "markdown",
      "source": [
        "## Steps in modelling with TensorFlow\n",
        "1. **Creating a model** - define the input and output layers, as well as the hidden layers of a deep learning model.\n",
        "2. **Compiling a model** - define the ***loss function*** (in other words, the function which tells out model how wrong it is) and the ***optimizer*** (tells our model how to improve the patterns it is learning) and ***evaluation metrics*** (what we can use to interpret the performance of our model).\n",
        "3. **Fitting a model** - letting the model try to find patterns between X & y (features and labels).\n",
        "\n",
        "![image.png](https://raw.githubusercontent.com/pratikktiwari/ML-Learnings/main/resources/regression-steps.png?token=GHSAT0AAAAAABQ3M2PPCKOGBQU5BDUWWXZUYVURCGA)"
      ],
      "metadata": {
        "id": "j02MadiSTkE9"
      }
    },
    {
      "cell_type": "markdown",
      "source": [
        "* **Loss**: How wrong the model's predictions are compared to the truth labels (this should be minimized)\n",
        "* **Optimizer**: How the model should update its internal patterns to better its predictions\n",
        "* **Metrics**: Human interpretable values for how well the model is doing\n",
        "* **Epochs**: How many times the model will go through all of the training examples"
      ],
      "metadata": {
        "id": "-jrRmI2xK5xo"
      }
    },
    {
      "cell_type": "code",
      "source": [
        "# Set random seed\n",
        "tf.random.set_seed(42)\n",
        "\n",
        "# 1. Create a model using the Sequential API\n",
        "\n",
        "model = tf.keras.Sequential(\n",
        "    [tf.keras.layers.Dense(1, input_shape=[1])] # take 1 neuron, shape of a single feature\n",
        ")\n",
        "\n",
        "# 2. Compile the model\n",
        "model.compile(loss=tf.keras.losses.mae, # Mean absolute error => comparision of predicted vs observed => loss = mean(abs(y_true - y_pred), axis=-1)\n",
        "              optimizer=tf.keras.optimizers.SGD(), # SGD is short for stochasitc gradient descent => tells neural network how it should improve\n",
        "              metrics=[\"mae\"]) \n",
        "\n",
        "# Fit the model\n",
        "model.fit(X, y, epochs=5) # Look at X and y and figure out pattern. Try 5 times.\n",
        "\n"
      ],
      "metadata": {
        "id": "shdpqzI6UGP-",
        "colab": {
          "base_uri": "https://localhost:8080/"
        },
        "outputId": "aafdbba6-6b69-4fbf-e7be-0a4c75c66a65"
      },
      "execution_count": 13,
      "outputs": [
        {
          "output_type": "stream",
          "name": "stdout",
          "text": [
            "Epoch 1/5\n",
            "1/1 [==============================] - 1s 542ms/step - loss: 11.5048 - mae: 11.5048\n",
            "Epoch 2/5\n",
            "1/1 [==============================] - 0s 9ms/step - loss: 11.3723 - mae: 11.3723\n",
            "Epoch 3/5\n",
            "1/1 [==============================] - 0s 17ms/step - loss: 11.2398 - mae: 11.2398\n",
            "Epoch 4/5\n",
            "1/1 [==============================] - 0s 24ms/step - loss: 11.1073 - mae: 11.1073\n",
            "Epoch 5/5\n",
            "1/1 [==============================] - 0s 11ms/step - loss: 10.9748 - mae: 10.9748\n"
          ]
        },
        {
          "output_type": "execute_result",
          "data": {
            "text/plain": [
              "<keras.callbacks.History at 0x7f3a890f7890>"
            ]
          },
          "metadata": {},
          "execution_count": 13
        }
      ]
    },
    {
      "cell_type": "code",
      "source": [
        "X, y"
      ],
      "metadata": {
        "colab": {
          "base_uri": "https://localhost:8080/"
        },
        "id": "2_1jEJKVCDpC",
        "outputId": "4d68d5a7-c0af-4975-b0ae-ba0eff309751"
      },
      "execution_count": 14,
      "outputs": [
        {
          "output_type": "execute_result",
          "data": {
            "text/plain": [
              "(<tf.Tensor: shape=(8,), dtype=float32, numpy=array([-7., -4., -1.,  2.,  5.,  8., 11., 14.], dtype=float32)>,\n",
              " <tf.Tensor: shape=(8,), dtype=float32, numpy=array([ 3.,  6.,  9., 12., 15., 18., 21., 24.], dtype=float32)>)"
            ]
          },
          "metadata": {},
          "execution_count": 14
        }
      ]
    },
    {
      "cell_type": "code",
      "source": [
        "# Try and make a prediction using our trained model\n",
        "y_pred = model.predict([17.0])\n",
        "y_pred"
      ],
      "metadata": {
        "colab": {
          "base_uri": "https://localhost:8080/"
        },
        "id": "gLN1DnQ8D6IJ",
        "outputId": "3c39c587-5c3e-44f7-b3c6-bc3a279f909d"
      },
      "execution_count": 15,
      "outputs": [
        {
          "output_type": "execute_result",
          "data": {
            "text/plain": [
              "array([[12.716021]], dtype=float32)"
            ]
          },
          "metadata": {},
          "execution_count": 15
        }
      ]
    },
    {
      "cell_type": "code",
      "source": [
        "y_pred + 11 # loss = 10.9 ~ 11"
      ],
      "metadata": {
        "colab": {
          "base_uri": "https://localhost:8080/"
        },
        "id": "zrVr4zzSG1MH",
        "outputId": "de960462-cd49-4431-af5a-9c9cd07220ef"
      },
      "execution_count": 16,
      "outputs": [
        {
          "output_type": "execute_result",
          "data": {
            "text/plain": [
              "array([[23.71602]], dtype=float32)"
            ]
          },
          "metadata": {},
          "execution_count": 16
        }
      ]
    },
    {
      "cell_type": "markdown",
      "source": [
        "## Improving our model\n",
        "We can improve our mode, by altering the steps we took to create a model.\n",
        "1. **Creating a model** - we might add more layers, increase the number of hidden units (also called neurons) within each of the hidden layers, change the activation function of each layer.\n",
        "3. **Compiling a model** - we might change the optimization function or perhaps the **learning rate** of the optimization function.\n",
        "4. **Fitting a model** - we might fit a model for more **epochs** (leave it training for longer) or on more data (give more examples to the model to learn from)"
      ],
      "metadata": {
        "id": "bYvf-4rBHPWp"
      }
    },
    {
      "cell_type": "code",
      "source": [
        "# Let's rebuild our model with higher epoch for fitting\n",
        "\n",
        "# Create the model\n",
        "model = tf.keras.Sequential(\n",
        "  [tf.keras.layers.Dense(1, input_shape=[1])]\n",
        ")\n",
        "\n",
        "# Compile the model\n",
        "model.compile(loss=tf.keras.losses.mae,\n",
        "              optimizer=tf.keras.optimizers.SGD(),\n",
        "              metrics=[\"mae\"]\n",
        ")\n",
        "model.fit(X, y, epochs=100)"
      ],
      "metadata": {
        "colab": {
          "base_uri": "https://localhost:8080/"
        },
        "id": "Vj9XW-ZMHeel",
        "outputId": "64cf24dd-acd1-4b1e-ece2-57abe42b0ff1"
      },
      "execution_count": 17,
      "outputs": [
        {
          "output_type": "stream",
          "name": "stdout",
          "text": [
            "Epoch 1/100\n",
            "1/1 [==============================] - 1s 550ms/step - loss: 11.2219 - mae: 11.2219\n",
            "Epoch 2/100\n",
            "1/1 [==============================] - 0s 12ms/step - loss: 11.0894 - mae: 11.0894\n",
            "Epoch 3/100\n",
            "1/1 [==============================] - 0s 10ms/step - loss: 10.9569 - mae: 10.9569\n",
            "Epoch 4/100\n",
            "1/1 [==============================] - 0s 12ms/step - loss: 10.8244 - mae: 10.8244\n",
            "Epoch 5/100\n",
            "1/1 [==============================] - 0s 16ms/step - loss: 10.6919 - mae: 10.6919\n",
            "Epoch 6/100\n",
            "1/1 [==============================] - 0s 10ms/step - loss: 10.5594 - mae: 10.5594\n",
            "Epoch 7/100\n",
            "1/1 [==============================] - 0s 14ms/step - loss: 10.4269 - mae: 10.4269\n",
            "Epoch 8/100\n",
            "1/1 [==============================] - 0s 20ms/step - loss: 10.2944 - mae: 10.2944\n",
            "Epoch 9/100\n",
            "1/1 [==============================] - 0s 28ms/step - loss: 10.1619 - mae: 10.1619\n",
            "Epoch 10/100\n",
            "1/1 [==============================] - 0s 35ms/step - loss: 10.0294 - mae: 10.0294\n",
            "Epoch 11/100\n",
            "1/1 [==============================] - 0s 7ms/step - loss: 9.8969 - mae: 9.8969\n",
            "Epoch 12/100\n",
            "1/1 [==============================] - 0s 7ms/step - loss: 9.7644 - mae: 9.7644\n",
            "Epoch 13/100\n",
            "1/1 [==============================] - 0s 13ms/step - loss: 9.6319 - mae: 9.6319\n",
            "Epoch 14/100\n",
            "1/1 [==============================] - 0s 13ms/step - loss: 9.4994 - mae: 9.4994\n",
            "Epoch 15/100\n",
            "1/1 [==============================] - 0s 16ms/step - loss: 9.3669 - mae: 9.3669\n",
            "Epoch 16/100\n",
            "1/1 [==============================] - 0s 17ms/step - loss: 9.2344 - mae: 9.2344\n",
            "Epoch 17/100\n",
            "1/1 [==============================] - 0s 15ms/step - loss: 9.1019 - mae: 9.1019\n",
            "Epoch 18/100\n",
            "1/1 [==============================] - 0s 15ms/step - loss: 8.9694 - mae: 8.9694\n",
            "Epoch 19/100\n",
            "1/1 [==============================] - 0s 17ms/step - loss: 8.8369 - mae: 8.8369\n",
            "Epoch 20/100\n",
            "1/1 [==============================] - 0s 15ms/step - loss: 8.7044 - mae: 8.7044\n",
            "Epoch 21/100\n",
            "1/1 [==============================] - 0s 28ms/step - loss: 8.5719 - mae: 8.5719\n",
            "Epoch 22/100\n",
            "1/1 [==============================] - 0s 23ms/step - loss: 8.4394 - mae: 8.4394\n",
            "Epoch 23/100\n",
            "1/1 [==============================] - 0s 12ms/step - loss: 8.3069 - mae: 8.3069\n",
            "Epoch 24/100\n",
            "1/1 [==============================] - 0s 19ms/step - loss: 8.1744 - mae: 8.1744\n",
            "Epoch 25/100\n",
            "1/1 [==============================] - 0s 21ms/step - loss: 8.0419 - mae: 8.0419\n",
            "Epoch 26/100\n",
            "1/1 [==============================] - 0s 18ms/step - loss: 7.9094 - mae: 7.9094\n",
            "Epoch 27/100\n",
            "1/1 [==============================] - 0s 23ms/step - loss: 7.7769 - mae: 7.7769\n",
            "Epoch 28/100\n",
            "1/1 [==============================] - 0s 16ms/step - loss: 7.6444 - mae: 7.6444\n",
            "Epoch 29/100\n",
            "1/1 [==============================] - 0s 18ms/step - loss: 7.5119 - mae: 7.5119\n",
            "Epoch 30/100\n",
            "1/1 [==============================] - 0s 18ms/step - loss: 7.3794 - mae: 7.3794\n",
            "Epoch 31/100\n",
            "1/1 [==============================] - 0s 20ms/step - loss: 7.2750 - mae: 7.2750\n",
            "Epoch 32/100\n",
            "1/1 [==============================] - 0s 23ms/step - loss: 7.2694 - mae: 7.2694\n",
            "Epoch 33/100\n",
            "1/1 [==============================] - 0s 18ms/step - loss: 7.2638 - mae: 7.2638\n",
            "Epoch 34/100\n",
            "1/1 [==============================] - 0s 19ms/step - loss: 7.2581 - mae: 7.2581\n",
            "Epoch 35/100\n",
            "1/1 [==============================] - 0s 22ms/step - loss: 7.2525 - mae: 7.2525\n",
            "Epoch 36/100\n",
            "1/1 [==============================] - 0s 18ms/step - loss: 7.2469 - mae: 7.2469\n",
            "Epoch 37/100\n",
            "1/1 [==============================] - 0s 16ms/step - loss: 7.2412 - mae: 7.2412\n",
            "Epoch 38/100\n",
            "1/1 [==============================] - 0s 22ms/step - loss: 7.2356 - mae: 7.2356\n",
            "Epoch 39/100\n",
            "1/1 [==============================] - 0s 25ms/step - loss: 7.2300 - mae: 7.2300\n",
            "Epoch 40/100\n",
            "1/1 [==============================] - 0s 12ms/step - loss: 7.2244 - mae: 7.2244\n",
            "Epoch 41/100\n",
            "1/1 [==============================] - 0s 9ms/step - loss: 7.2188 - mae: 7.2188\n",
            "Epoch 42/100\n",
            "1/1 [==============================] - 0s 13ms/step - loss: 7.2131 - mae: 7.2131\n",
            "Epoch 43/100\n",
            "1/1 [==============================] - 0s 7ms/step - loss: 7.2075 - mae: 7.2075\n",
            "Epoch 44/100\n",
            "1/1 [==============================] - 0s 11ms/step - loss: 7.2019 - mae: 7.2019\n",
            "Epoch 45/100\n",
            "1/1 [==============================] - 0s 11ms/step - loss: 7.1962 - mae: 7.1962\n",
            "Epoch 46/100\n",
            "1/1 [==============================] - 0s 10ms/step - loss: 7.1906 - mae: 7.1906\n",
            "Epoch 47/100\n",
            "1/1 [==============================] - 0s 9ms/step - loss: 7.1850 - mae: 7.1850\n",
            "Epoch 48/100\n",
            "1/1 [==============================] - 0s 9ms/step - loss: 7.1794 - mae: 7.1794\n",
            "Epoch 49/100\n",
            "1/1 [==============================] - 0s 12ms/step - loss: 7.1737 - mae: 7.1737\n",
            "Epoch 50/100\n",
            "1/1 [==============================] - 0s 18ms/step - loss: 7.1681 - mae: 7.1681\n",
            "Epoch 51/100\n",
            "1/1 [==============================] - 0s 14ms/step - loss: 7.1625 - mae: 7.1625\n",
            "Epoch 52/100\n",
            "1/1 [==============================] - 0s 9ms/step - loss: 7.1569 - mae: 7.1569\n",
            "Epoch 53/100\n",
            "1/1 [==============================] - 0s 28ms/step - loss: 7.1512 - mae: 7.1512\n",
            "Epoch 54/100\n",
            "1/1 [==============================] - 0s 28ms/step - loss: 7.1456 - mae: 7.1456\n",
            "Epoch 55/100\n",
            "1/1 [==============================] - 0s 23ms/step - loss: 7.1400 - mae: 7.1400\n",
            "Epoch 56/100\n",
            "1/1 [==============================] - 0s 7ms/step - loss: 7.1344 - mae: 7.1344\n",
            "Epoch 57/100\n",
            "1/1 [==============================] - 0s 6ms/step - loss: 7.1287 - mae: 7.1287\n",
            "Epoch 58/100\n",
            "1/1 [==============================] - 0s 14ms/step - loss: 7.1231 - mae: 7.1231\n",
            "Epoch 59/100\n",
            "1/1 [==============================] - 0s 15ms/step - loss: 7.1175 - mae: 7.1175\n",
            "Epoch 60/100\n",
            "1/1 [==============================] - 0s 9ms/step - loss: 7.1119 - mae: 7.1119\n",
            "Epoch 61/100\n",
            "1/1 [==============================] - 0s 7ms/step - loss: 7.1062 - mae: 7.1062\n",
            "Epoch 62/100\n",
            "1/1 [==============================] - 0s 6ms/step - loss: 7.1006 - mae: 7.1006\n",
            "Epoch 63/100\n",
            "1/1 [==============================] - 0s 7ms/step - loss: 7.0950 - mae: 7.0950\n",
            "Epoch 64/100\n",
            "1/1 [==============================] - 0s 13ms/step - loss: 7.0894 - mae: 7.0894\n",
            "Epoch 65/100\n",
            "1/1 [==============================] - 0s 6ms/step - loss: 7.0838 - mae: 7.0838\n",
            "Epoch 66/100\n",
            "1/1 [==============================] - 0s 14ms/step - loss: 7.0781 - mae: 7.0781\n",
            "Epoch 67/100\n",
            "1/1 [==============================] - 0s 10ms/step - loss: 7.0725 - mae: 7.0725\n",
            "Epoch 68/100\n",
            "1/1 [==============================] - 0s 12ms/step - loss: 7.0669 - mae: 7.0669\n",
            "Epoch 69/100\n",
            "1/1 [==============================] - 0s 16ms/step - loss: 7.0613 - mae: 7.0613\n",
            "Epoch 70/100\n",
            "1/1 [==============================] - 0s 7ms/step - loss: 7.0556 - mae: 7.0556\n",
            "Epoch 71/100\n",
            "1/1 [==============================] - 0s 6ms/step - loss: 7.0500 - mae: 7.0500\n",
            "Epoch 72/100\n",
            "1/1 [==============================] - 0s 6ms/step - loss: 7.0444 - mae: 7.0444\n",
            "Epoch 73/100\n",
            "1/1 [==============================] - 0s 6ms/step - loss: 7.0388 - mae: 7.0388\n",
            "Epoch 74/100\n",
            "1/1 [==============================] - 0s 6ms/step - loss: 7.0331 - mae: 7.0331\n",
            "Epoch 75/100\n",
            "1/1 [==============================] - 0s 8ms/step - loss: 7.0275 - mae: 7.0275\n",
            "Epoch 76/100\n",
            "1/1 [==============================] - 0s 7ms/step - loss: 7.0219 - mae: 7.0219\n",
            "Epoch 77/100\n",
            "1/1 [==============================] - 0s 6ms/step - loss: 7.0163 - mae: 7.0163\n",
            "Epoch 78/100\n",
            "1/1 [==============================] - 0s 6ms/step - loss: 7.0106 - mae: 7.0106\n",
            "Epoch 79/100\n",
            "1/1 [==============================] - 0s 6ms/step - loss: 7.0050 - mae: 7.0050\n",
            "Epoch 80/100\n",
            "1/1 [==============================] - 0s 6ms/step - loss: 6.9994 - mae: 6.9994\n",
            "Epoch 81/100\n",
            "1/1 [==============================] - 0s 10ms/step - loss: 6.9938 - mae: 6.9938\n",
            "Epoch 82/100\n",
            "1/1 [==============================] - 0s 6ms/step - loss: 6.9881 - mae: 6.9881\n",
            "Epoch 83/100\n",
            "1/1 [==============================] - 0s 12ms/step - loss: 6.9825 - mae: 6.9825\n",
            "Epoch 84/100\n",
            "1/1 [==============================] - 0s 6ms/step - loss: 6.9769 - mae: 6.9769\n",
            "Epoch 85/100\n",
            "1/1 [==============================] - 0s 6ms/step - loss: 6.9713 - mae: 6.9713\n",
            "Epoch 86/100\n",
            "1/1 [==============================] - 0s 7ms/step - loss: 6.9656 - mae: 6.9656\n",
            "Epoch 87/100\n",
            "1/1 [==============================] - 0s 6ms/step - loss: 6.9600 - mae: 6.9600\n",
            "Epoch 88/100\n",
            "1/1 [==============================] - 0s 6ms/step - loss: 6.9544 - mae: 6.9544\n",
            "Epoch 89/100\n",
            "1/1 [==============================] - 0s 6ms/step - loss: 6.9488 - mae: 6.9488\n",
            "Epoch 90/100\n",
            "1/1 [==============================] - 0s 6ms/step - loss: 6.9431 - mae: 6.9431\n",
            "Epoch 91/100\n",
            "1/1 [==============================] - 0s 6ms/step - loss: 6.9375 - mae: 6.9375\n",
            "Epoch 92/100\n",
            "1/1 [==============================] - 0s 7ms/step - loss: 6.9319 - mae: 6.9319\n",
            "Epoch 93/100\n",
            "1/1 [==============================] - 0s 6ms/step - loss: 6.9263 - mae: 6.9263\n",
            "Epoch 94/100\n",
            "1/1 [==============================] - 0s 6ms/step - loss: 6.9206 - mae: 6.9206\n",
            "Epoch 95/100\n",
            "1/1 [==============================] - 0s 6ms/step - loss: 6.9150 - mae: 6.9150\n",
            "Epoch 96/100\n",
            "1/1 [==============================] - 0s 6ms/step - loss: 6.9094 - mae: 6.9094\n",
            "Epoch 97/100\n",
            "1/1 [==============================] - 0s 6ms/step - loss: 6.9038 - mae: 6.9038\n",
            "Epoch 98/100\n",
            "1/1 [==============================] - 0s 6ms/step - loss: 6.8981 - mae: 6.8981\n",
            "Epoch 99/100\n",
            "1/1 [==============================] - 0s 6ms/step - loss: 6.8925 - mae: 6.8925\n",
            "Epoch 100/100\n",
            "1/1 [==============================] - 0s 5ms/step - loss: 6.8869 - mae: 6.8869\n"
          ]
        },
        {
          "output_type": "execute_result",
          "data": {
            "text/plain": [
              "<keras.callbacks.History at 0x7f3a8901fb90>"
            ]
          },
          "metadata": {},
          "execution_count": 17
        }
      ]
    },
    {
      "cell_type": "code",
      "source": [
        "X, y"
      ],
      "metadata": {
        "colab": {
          "base_uri": "https://localhost:8080/"
        },
        "id": "MhWaknOIH7uI",
        "outputId": "21eb4159-9a90-4d6f-9420-47072f39610a"
      },
      "execution_count": 18,
      "outputs": [
        {
          "output_type": "execute_result",
          "data": {
            "text/plain": [
              "(<tf.Tensor: shape=(8,), dtype=float32, numpy=array([-7., -4., -1.,  2.,  5.,  8., 11., 14.], dtype=float32)>,\n",
              " <tf.Tensor: shape=(8,), dtype=float32, numpy=array([ 3.,  6.,  9., 12., 15., 18., 21., 24.], dtype=float32)>)"
            ]
          },
          "metadata": {},
          "execution_count": 18
        }
      ]
    },
    {
      "cell_type": "code",
      "source": [
        "# Check if model prediction has improved\n",
        "model.predict([17.0])"
      ],
      "metadata": {
        "colab": {
          "base_uri": "https://localhost:8080/"
        },
        "id": "6Tq87-B9N0lQ",
        "outputId": "cf6c18bb-7671-4865-ff5b-0c3ab223c3b6"
      },
      "execution_count": 19,
      "outputs": [
        {
          "output_type": "execute_result",
          "data": {
            "text/plain": [
              "array([[29.739855]], dtype=float32)"
            ]
          },
          "metadata": {},
          "execution_count": 19
        }
      ]
    },
    {
      "cell_type": "code",
      "source": [
        "# Alter layers and check accuracy\n",
        "model = tf.keras.Sequential([\n",
        "  tf.keras.layers.Dense(500, input_shape=[1]), # 500 neurons in the first layer\n",
        "  tf.keras.layers.Dense(20, input_shape=[1]), # 20 neurons in the second layer\n",
        "  tf.keras.layers.Dense(1, input_shape=[1]), # 1 neuron in the last layer\n",
        "])\n",
        "model.compile(loss=tf.keras.losses.mae,\n",
        "              optimizer=tf.keras.optimizers.SGD(),\n",
        "              metrics=[\"mae\"])\n",
        "model.fit(X, y, epochs=100)"
      ],
      "metadata": {
        "colab": {
          "base_uri": "https://localhost:8080/"
        },
        "id": "BfLDh-a7N29C",
        "outputId": "5d54833b-d283-4ab8-857b-bf55f8f10d1b"
      },
      "execution_count": 20,
      "outputs": [
        {
          "output_type": "stream",
          "name": "stdout",
          "text": [
            "Epoch 1/100\n",
            "1/1 [==============================] - 1s 788ms/step - loss: 13.2105 - mae: 13.2105\n",
            "Epoch 2/100\n",
            "1/1 [==============================] - 0s 17ms/step - loss: 12.3126 - mae: 12.3126\n",
            "Epoch 3/100\n",
            "1/1 [==============================] - 0s 13ms/step - loss: 11.3932 - mae: 11.3932\n",
            "Epoch 4/100\n",
            "1/1 [==============================] - 0s 22ms/step - loss: 10.4251 - mae: 10.4251\n",
            "Epoch 5/100\n",
            "1/1 [==============================] - 0s 16ms/step - loss: 9.3787 - mae: 9.3787\n",
            "Epoch 6/100\n",
            "1/1 [==============================] - 0s 23ms/step - loss: 8.2201 - mae: 8.2201\n",
            "Epoch 7/100\n",
            "1/1 [==============================] - 0s 22ms/step - loss: 7.1861 - mae: 7.1861\n",
            "Epoch 8/100\n",
            "1/1 [==============================] - 0s 12ms/step - loss: 7.1421 - mae: 7.1421\n",
            "Epoch 9/100\n",
            "1/1 [==============================] - 0s 14ms/step - loss: 7.0978 - mae: 7.0978\n",
            "Epoch 10/100\n",
            "1/1 [==============================] - 0s 24ms/step - loss: 7.0531 - mae: 7.0531\n",
            "Epoch 11/100\n",
            "1/1 [==============================] - 0s 22ms/step - loss: 7.0081 - mae: 7.0081\n",
            "Epoch 12/100\n",
            "1/1 [==============================] - 0s 20ms/step - loss: 6.9626 - mae: 6.9626\n",
            "Epoch 13/100\n",
            "1/1 [==============================] - 0s 9ms/step - loss: 6.9166 - mae: 6.9166\n",
            "Epoch 14/100\n",
            "1/1 [==============================] - 0s 20ms/step - loss: 6.8701 - mae: 6.8701\n",
            "Epoch 15/100\n",
            "1/1 [==============================] - 0s 8ms/step - loss: 6.8230 - mae: 6.8230\n",
            "Epoch 16/100\n",
            "1/1 [==============================] - 0s 22ms/step - loss: 6.7752 - mae: 6.7752\n",
            "Epoch 17/100\n",
            "1/1 [==============================] - 0s 14ms/step - loss: 6.7472 - mae: 6.7472\n",
            "Epoch 18/100\n",
            "1/1 [==============================] - 0s 24ms/step - loss: 7.1419 - mae: 7.1419\n",
            "Epoch 19/100\n",
            "1/1 [==============================] - 0s 17ms/step - loss: 6.9096 - mae: 6.9096\n",
            "Epoch 20/100\n",
            "1/1 [==============================] - 0s 30ms/step - loss: 6.7543 - mae: 6.7543\n",
            "Epoch 21/100\n",
            "1/1 [==============================] - 0s 26ms/step - loss: 7.0822 - mae: 7.0822\n",
            "Epoch 22/100\n",
            "1/1 [==============================] - 0s 12ms/step - loss: 6.5217 - mae: 6.5217\n",
            "Epoch 23/100\n",
            "1/1 [==============================] - 0s 25ms/step - loss: 6.4713 - mae: 6.4713\n",
            "Epoch 24/100\n",
            "1/1 [==============================] - 0s 14ms/step - loss: 6.4199 - mae: 6.4199\n",
            "Epoch 25/100\n",
            "1/1 [==============================] - 0s 12ms/step - loss: 6.3674 - mae: 6.3674\n",
            "Epoch 26/100\n",
            "1/1 [==============================] - 0s 11ms/step - loss: 6.3139 - mae: 6.3139\n",
            "Epoch 27/100\n",
            "1/1 [==============================] - 0s 13ms/step - loss: 6.2591 - mae: 6.2591\n",
            "Epoch 28/100\n",
            "1/1 [==============================] - 0s 20ms/step - loss: 6.2031 - mae: 6.2031\n",
            "Epoch 29/100\n",
            "1/1 [==============================] - 0s 17ms/step - loss: 6.1862 - mae: 6.1862\n",
            "Epoch 30/100\n",
            "1/1 [==============================] - 0s 15ms/step - loss: 6.6262 - mae: 6.6262\n",
            "Epoch 31/100\n",
            "1/1 [==============================] - 0s 23ms/step - loss: 6.3803 - mae: 6.3803\n",
            "Epoch 32/100\n",
            "1/1 [==============================] - 0s 12ms/step - loss: 6.1643 - mae: 6.1643\n",
            "Epoch 33/100\n",
            "1/1 [==============================] - 0s 19ms/step - loss: 6.5869 - mae: 6.5869\n",
            "Epoch 34/100\n",
            "1/1 [==============================] - 0s 16ms/step - loss: 5.9070 - mae: 5.9070\n",
            "Epoch 35/100\n",
            "1/1 [==============================] - 0s 18ms/step - loss: 5.8441 - mae: 5.8441\n",
            "Epoch 36/100\n",
            "1/1 [==============================] - 0s 11ms/step - loss: 5.7794 - mae: 5.7794\n",
            "Epoch 37/100\n",
            "1/1 [==============================] - 0s 16ms/step - loss: 5.7128 - mae: 5.7128\n",
            "Epoch 38/100\n",
            "1/1 [==============================] - 0s 16ms/step - loss: 5.6873 - mae: 5.6873\n",
            "Epoch 39/100\n",
            "1/1 [==============================] - 0s 20ms/step - loss: 6.2193 - mae: 6.2193\n",
            "Epoch 40/100\n",
            "1/1 [==============================] - 0s 16ms/step - loss: 5.9044 - mae: 5.9044\n",
            "Epoch 41/100\n",
            "1/1 [==============================] - 0s 16ms/step - loss: 5.6851 - mae: 5.6851\n",
            "Epoch 42/100\n",
            "1/1 [==============================] - 0s 16ms/step - loss: 6.2270 - mae: 6.2270\n",
            "Epoch 43/100\n",
            "1/1 [==============================] - 0s 15ms/step - loss: 6.1385 - mae: 6.1385\n",
            "Epoch 44/100\n",
            "1/1 [==============================] - 0s 19ms/step - loss: 5.5994 - mae: 5.5994\n",
            "Epoch 45/100\n",
            "1/1 [==============================] - 0s 11ms/step - loss: 5.5780 - mae: 5.5780\n",
            "Epoch 46/100\n",
            "1/1 [==============================] - 0s 10ms/step - loss: 5.9087 - mae: 5.9087\n",
            "Epoch 47/100\n",
            "1/1 [==============================] - 0s 8ms/step - loss: 6.0229 - mae: 6.0229\n",
            "Epoch 48/100\n",
            "1/1 [==============================] - 0s 9ms/step - loss: 5.3005 - mae: 5.3005\n",
            "Epoch 49/100\n",
            "1/1 [==============================] - 0s 11ms/step - loss: 5.4316 - mae: 5.4316\n",
            "Epoch 50/100\n",
            "1/1 [==============================] - 0s 14ms/step - loss: 5.6191 - mae: 5.6191\n",
            "Epoch 51/100\n",
            "1/1 [==============================] - 0s 14ms/step - loss: 5.8717 - mae: 5.8717\n",
            "Epoch 52/100\n",
            "1/1 [==============================] - 0s 8ms/step - loss: 5.0020 - mae: 5.0020\n",
            "Epoch 53/100\n",
            "1/1 [==============================] - 0s 23ms/step - loss: 5.2445 - mae: 5.2445\n",
            "Epoch 54/100\n",
            "1/1 [==============================] - 0s 24ms/step - loss: 5.3522 - mae: 5.3522\n",
            "Epoch 55/100\n",
            "1/1 [==============================] - 0s 17ms/step - loss: 5.6835 - mae: 5.6835\n",
            "Epoch 56/100\n",
            "1/1 [==============================] - 0s 16ms/step - loss: 4.6983 - mae: 4.6983\n",
            "Epoch 57/100\n",
            "1/1 [==============================] - 0s 30ms/step - loss: 5.0146 - mae: 5.0146\n",
            "Epoch 58/100\n",
            "1/1 [==============================] - 0s 13ms/step - loss: 5.1025 - mae: 5.1025\n",
            "Epoch 59/100\n",
            "1/1 [==============================] - 0s 14ms/step - loss: 5.4560 - mae: 5.4560\n",
            "Epoch 60/100\n",
            "1/1 [==============================] - 0s 15ms/step - loss: 4.3829 - mae: 4.3829\n",
            "Epoch 61/100\n",
            "1/1 [==============================] - 0s 9ms/step - loss: 4.7386 - mae: 4.7386\n",
            "Epoch 62/100\n",
            "1/1 [==============================] - 0s 18ms/step - loss: 4.8643 - mae: 4.8643\n",
            "Epoch 63/100\n",
            "1/1 [==============================] - 0s 15ms/step - loss: 5.1867 - mae: 5.1867\n",
            "Epoch 64/100\n",
            "1/1 [==============================] - 0s 23ms/step - loss: 4.0490 - mae: 4.0490\n",
            "Epoch 65/100\n",
            "1/1 [==============================] - 0s 7ms/step - loss: 4.4126 - mae: 4.4126\n",
            "Epoch 66/100\n",
            "1/1 [==============================] - 0s 17ms/step - loss: 4.6316 - mae: 4.6316\n",
            "Epoch 67/100\n",
            "1/1 [==============================] - 0s 24ms/step - loss: 4.8717 - mae: 4.8717\n",
            "Epoch 68/100\n",
            "1/1 [==============================] - 0s 13ms/step - loss: 3.6883 - mae: 3.6883\n",
            "Epoch 69/100\n",
            "1/1 [==============================] - 0s 8ms/step - loss: 4.0315 - mae: 4.0315\n",
            "Epoch 70/100\n",
            "1/1 [==============================] - 0s 7ms/step - loss: 4.3978 - mae: 4.3978\n",
            "Epoch 71/100\n",
            "1/1 [==============================] - 0s 23ms/step - loss: 4.5067 - mae: 4.5067\n",
            "Epoch 72/100\n",
            "1/1 [==============================] - 0s 19ms/step - loss: 3.3628 - mae: 3.3628\n",
            "Epoch 73/100\n",
            "1/1 [==============================] - 0s 11ms/step - loss: 4.9685 - mae: 4.9685\n",
            "Epoch 74/100\n",
            "1/1 [==============================] - 0s 11ms/step - loss: 2.6519 - mae: 2.6519\n",
            "Epoch 75/100\n",
            "1/1 [==============================] - 0s 11ms/step - loss: 2.5744 - mae: 2.5744\n",
            "Epoch 76/100\n",
            "1/1 [==============================] - 0s 8ms/step - loss: 3.7490 - mae: 3.7490\n",
            "Epoch 77/100\n",
            "1/1 [==============================] - 0s 8ms/step - loss: 3.2331 - mae: 3.2331\n",
            "Epoch 78/100\n",
            "1/1 [==============================] - 0s 30ms/step - loss: 4.2566 - mae: 4.2566\n",
            "Epoch 79/100\n",
            "1/1 [==============================] - 0s 14ms/step - loss: 2.0809 - mae: 2.0809\n",
            "Epoch 80/100\n",
            "1/1 [==============================] - 0s 10ms/step - loss: 3.1913 - mae: 3.1913\n",
            "Epoch 81/100\n",
            "1/1 [==============================] - 0s 11ms/step - loss: 3.1164 - mae: 3.1164\n",
            "Epoch 82/100\n",
            "1/1 [==============================] - 0s 11ms/step - loss: 5.7432 - mae: 5.7432\n",
            "Epoch 83/100\n",
            "1/1 [==============================] - 0s 11ms/step - loss: 2.9753 - mae: 2.9753\n",
            "Epoch 84/100\n",
            "1/1 [==============================] - 0s 9ms/step - loss: 5.6169 - mae: 5.6169\n",
            "Epoch 85/100\n",
            "1/1 [==============================] - 0s 22ms/step - loss: 2.8423 - mae: 2.8423\n",
            "Epoch 86/100\n",
            "1/1 [==============================] - 0s 15ms/step - loss: 5.5029 - mae: 5.5029\n",
            "Epoch 87/100\n",
            "1/1 [==============================] - 0s 11ms/step - loss: 2.7170 - mae: 2.7170\n",
            "Epoch 88/100\n",
            "1/1 [==============================] - 0s 7ms/step - loss: 5.3997 - mae: 5.3997\n",
            "Epoch 89/100\n",
            "1/1 [==============================] - 0s 7ms/step - loss: 2.5988 - mae: 2.5988\n",
            "Epoch 90/100\n",
            "1/1 [==============================] - 0s 14ms/step - loss: 5.3058 - mae: 5.3058\n",
            "Epoch 91/100\n",
            "1/1 [==============================] - 0s 11ms/step - loss: 2.4873 - mae: 2.4873\n",
            "Epoch 92/100\n",
            "1/1 [==============================] - 0s 13ms/step - loss: 5.2200 - mae: 5.2200\n",
            "Epoch 93/100\n",
            "1/1 [==============================] - 0s 11ms/step - loss: 2.3820 - mae: 2.3820\n",
            "Epoch 94/100\n",
            "1/1 [==============================] - 0s 11ms/step - loss: 5.1414 - mae: 5.1414\n",
            "Epoch 95/100\n",
            "1/1 [==============================] - 0s 11ms/step - loss: 2.2936 - mae: 2.2936\n",
            "Epoch 96/100\n",
            "1/1 [==============================] - 0s 11ms/step - loss: 3.7737 - mae: 3.7737\n",
            "Epoch 97/100\n",
            "1/1 [==============================] - 0s 11ms/step - loss: 2.8308 - mae: 2.8308\n",
            "Epoch 98/100\n",
            "1/1 [==============================] - 0s 11ms/step - loss: 4.5757 - mae: 4.5757\n",
            "Epoch 99/100\n",
            "1/1 [==============================] - 0s 10ms/step - loss: 2.7165 - mae: 2.7165\n",
            "Epoch 100/100\n",
            "1/1 [==============================] - 0s 10ms/step - loss: 4.5236 - mae: 4.5236\n"
          ]
        },
        {
          "output_type": "execute_result",
          "data": {
            "text/plain": [
              "<keras.callbacks.History at 0x7f3a88f4aa90>"
            ]
          },
          "metadata": {},
          "execution_count": 20
        }
      ]
    },
    {
      "cell_type": "code",
      "source": [
        "X, y"
      ],
      "metadata": {
        "colab": {
          "base_uri": "https://localhost:8080/"
        },
        "id": "YZfPVuKHPaV6",
        "outputId": "9f7b2436-48ef-4532-cac9-87b4ae3f4e5e"
      },
      "execution_count": 21,
      "outputs": [
        {
          "output_type": "execute_result",
          "data": {
            "text/plain": [
              "(<tf.Tensor: shape=(8,), dtype=float32, numpy=array([-7., -4., -1.,  2.,  5.,  8., 11., 14.], dtype=float32)>,\n",
              " <tf.Tensor: shape=(8,), dtype=float32, numpy=array([ 3.,  6.,  9., 12., 15., 18., 21., 24.], dtype=float32)>)"
            ]
          },
          "metadata": {},
          "execution_count": 21
        }
      ]
    },
    {
      "cell_type": "code",
      "source": [
        "model.predict([17.0])\n",
        "\n",
        "# Previous output [29.739855]\n",
        "# Current output [31.389563]\n",
        "\n",
        "# Current model accuracy is lower than previous as the actual value if 17 + 10 = 27\n",
        "# and 29 is closer to 27 than 31"
      ],
      "metadata": {
        "colab": {
          "base_uri": "https://localhost:8080/"
        },
        "id": "OZ01ajV7PbsP",
        "outputId": "9467e2cb-f715-407c-8bf3-76463af3119d"
      },
      "execution_count": 22,
      "outputs": [
        {
          "output_type": "execute_result",
          "data": {
            "text/plain": [
              "array([[32.760986]], dtype=float32)"
            ]
          },
          "metadata": {},
          "execution_count": 22
        }
      ]
    },
    {
      "cell_type": "code",
      "source": [
        "# Adding activation function to the layers\n",
        "model = tf.keras.Sequential([\n",
        "  tf.keras.layers.Dense(100, activation=\"relu\", input_shape=[1]), # ReLU - rectified linear unit activation function\n",
        "  tf.keras.layers.Dense(100, activation=\"relu\", input_shape=[1]),\n",
        "  tf.keras.layers.Dense(100, activation=\"relu\", input_shape=[1]),\n",
        "  tf.keras.layers.Dense(1, activation=\"relu\", input_shape=[1])\n",
        "])\n",
        "model.compile(optimizer=tf.keras.optimizers.SGD(), \n",
        "              loss=tf.keras.losses.mae,\n",
        "              metrics=[\"mae\"]\n",
        ")\n",
        "model.fit(X, y, epochs=100)"
      ],
      "metadata": {
        "id": "CtTN3yxDPeBK",
        "colab": {
          "base_uri": "https://localhost:8080/"
        },
        "outputId": "f1b9e1de-5cd0-475c-f290-253111b3cdcb"
      },
      "execution_count": 23,
      "outputs": [
        {
          "output_type": "stream",
          "name": "stdout",
          "text": [
            "Epoch 1/100\n",
            "1/1 [==============================] - 1s 933ms/step - loss: 13.0174 - mae: 13.0174\n",
            "Epoch 2/100\n",
            "1/1 [==============================] - 0s 13ms/step - loss: 12.4341 - mae: 12.4341\n",
            "Epoch 3/100\n",
            "1/1 [==============================] - 0s 15ms/step - loss: 11.7819 - mae: 11.7819\n",
            "Epoch 4/100\n",
            "1/1 [==============================] - 0s 9ms/step - loss: 11.1084 - mae: 11.1084\n",
            "Epoch 5/100\n",
            "1/1 [==============================] - 0s 17ms/step - loss: 10.3339 - mae: 10.3339\n",
            "Epoch 6/100\n",
            "1/1 [==============================] - 0s 20ms/step - loss: 9.3706 - mae: 9.3706\n",
            "Epoch 7/100\n",
            "1/1 [==============================] - 0s 13ms/step - loss: 8.1696 - mae: 8.1696\n",
            "Epoch 8/100\n",
            "1/1 [==============================] - 0s 12ms/step - loss: 6.6309 - mae: 6.6309\n",
            "Epoch 9/100\n",
            "1/1 [==============================] - 0s 10ms/step - loss: 4.7516 - mae: 4.7516\n",
            "Epoch 10/100\n",
            "1/1 [==============================] - 0s 10ms/step - loss: 4.1795 - mae: 4.1795\n",
            "Epoch 11/100\n",
            "1/1 [==============================] - 0s 8ms/step - loss: 3.9479 - mae: 3.9479\n",
            "Epoch 12/100\n",
            "1/1 [==============================] - 0s 8ms/step - loss: 4.0351 - mae: 4.0351\n",
            "Epoch 13/100\n",
            "1/1 [==============================] - 0s 8ms/step - loss: 3.9573 - mae: 3.9573\n",
            "Epoch 14/100\n",
            "1/1 [==============================] - 0s 6ms/step - loss: 3.9829 - mae: 3.9829\n",
            "Epoch 15/100\n",
            "1/1 [==============================] - 0s 6ms/step - loss: 3.9686 - mae: 3.9686\n",
            "Epoch 16/100\n",
            "1/1 [==============================] - 0s 27ms/step - loss: 3.9286 - mae: 3.9286\n",
            "Epoch 17/100\n",
            "1/1 [==============================] - 0s 13ms/step - loss: 3.9809 - mae: 3.9809\n",
            "Epoch 18/100\n",
            "1/1 [==============================] - 0s 17ms/step - loss: 3.8737 - mae: 3.8737\n",
            "Epoch 19/100\n",
            "1/1 [==============================] - 0s 14ms/step - loss: 3.9942 - mae: 3.9942\n",
            "Epoch 20/100\n",
            "1/1 [==============================] - 0s 18ms/step - loss: 3.8165 - mae: 3.8165\n",
            "Epoch 21/100\n",
            "1/1 [==============================] - 0s 20ms/step - loss: 4.0089 - mae: 4.0089\n",
            "Epoch 22/100\n",
            "1/1 [==============================] - 0s 9ms/step - loss: 3.7937 - mae: 3.7937\n",
            "Epoch 23/100\n",
            "1/1 [==============================] - 0s 10ms/step - loss: 3.9755 - mae: 3.9755\n",
            "Epoch 24/100\n",
            "1/1 [==============================] - 0s 12ms/step - loss: 3.8092 - mae: 3.8092\n",
            "Epoch 25/100\n",
            "1/1 [==============================] - 0s 16ms/step - loss: 3.9184 - mae: 3.9184\n",
            "Epoch 26/100\n",
            "1/1 [==============================] - 0s 23ms/step - loss: 3.8262 - mae: 3.8262\n",
            "Epoch 27/100\n",
            "1/1 [==============================] - 0s 18ms/step - loss: 3.8713 - mae: 3.8713\n",
            "Epoch 28/100\n",
            "1/1 [==============================] - 0s 34ms/step - loss: 3.8837 - mae: 3.8837\n",
            "Epoch 29/100\n",
            "1/1 [==============================] - 0s 19ms/step - loss: 3.7738 - mae: 3.7738\n",
            "Epoch 30/100\n",
            "1/1 [==============================] - 0s 13ms/step - loss: 3.9023 - mae: 3.9023\n",
            "Epoch 31/100\n",
            "1/1 [==============================] - 0s 15ms/step - loss: 3.7108 - mae: 3.7108\n",
            "Epoch 32/100\n",
            "1/1 [==============================] - 0s 29ms/step - loss: 3.9214 - mae: 3.9214\n",
            "Epoch 33/100\n",
            "1/1 [==============================] - 0s 14ms/step - loss: 3.7094 - mae: 3.7094\n",
            "Epoch 34/100\n",
            "1/1 [==============================] - 0s 27ms/step - loss: 3.8650 - mae: 3.8650\n",
            "Epoch 35/100\n",
            "1/1 [==============================] - 0s 19ms/step - loss: 3.7297 - mae: 3.7297\n",
            "Epoch 36/100\n",
            "1/1 [==============================] - 0s 15ms/step - loss: 3.8017 - mae: 3.8017\n",
            "Epoch 37/100\n",
            "1/1 [==============================] - 0s 38ms/step - loss: 3.7901 - mae: 3.7901\n",
            "Epoch 38/100\n",
            "1/1 [==============================] - 0s 26ms/step - loss: 3.7096 - mae: 3.7096\n",
            "Epoch 39/100\n",
            "1/1 [==============================] - 0s 29ms/step - loss: 3.8121 - mae: 3.8121\n",
            "Epoch 40/100\n",
            "1/1 [==============================] - 0s 15ms/step - loss: 3.6396 - mae: 3.6396\n",
            "Epoch 41/100\n",
            "1/1 [==============================] - 0s 16ms/step - loss: 3.8359 - mae: 3.8359\n",
            "Epoch 42/100\n",
            "1/1 [==============================] - 0s 15ms/step - loss: 3.6292 - mae: 3.6292\n",
            "Epoch 43/100\n",
            "1/1 [==============================] - 0s 23ms/step - loss: 3.7840 - mae: 3.7840\n",
            "Epoch 44/100\n",
            "1/1 [==============================] - 0s 22ms/step - loss: 3.6524 - mae: 3.6524\n",
            "Epoch 45/100\n",
            "1/1 [==============================] - 0s 24ms/step - loss: 3.7101 - mae: 3.7101\n",
            "Epoch 46/100\n",
            "1/1 [==============================] - 0s 15ms/step - loss: 3.6790 - mae: 3.6790\n",
            "Epoch 47/100\n",
            "1/1 [==============================] - 0s 14ms/step - loss: 3.6382 - mae: 3.6382\n",
            "Epoch 48/100\n",
            "1/1 [==============================] - 0s 18ms/step - loss: 3.7059 - mae: 3.7059\n",
            "Epoch 49/100\n",
            "1/1 [==============================] - 0s 22ms/step - loss: 3.5658 - mae: 3.5658\n",
            "Epoch 50/100\n",
            "1/1 [==============================] - 0s 27ms/step - loss: 3.7737 - mae: 3.7737\n",
            "Epoch 51/100\n",
            "1/1 [==============================] - 0s 21ms/step - loss: 3.5679 - mae: 3.5679\n",
            "Epoch 52/100\n",
            "1/1 [==============================] - 0s 22ms/step - loss: 3.6807 - mae: 3.6807\n",
            "Epoch 53/100\n",
            "1/1 [==============================] - 0s 22ms/step - loss: 3.5937 - mae: 3.5937\n",
            "Epoch 54/100\n",
            "1/1 [==============================] - 0s 22ms/step - loss: 3.6036 - mae: 3.6036\n",
            "Epoch 55/100\n",
            "1/1 [==============================] - 0s 26ms/step - loss: 3.6212 - mae: 3.6212\n",
            "Epoch 56/100\n",
            "1/1 [==============================] - 0s 23ms/step - loss: 3.5245 - mae: 3.5245\n",
            "Epoch 57/100\n",
            "1/1 [==============================] - 0s 21ms/step - loss: 3.6516 - mae: 3.6516\n",
            "Epoch 58/100\n",
            "1/1 [==============================] - 0s 22ms/step - loss: 3.4559 - mae: 3.4559\n",
            "Epoch 59/100\n",
            "1/1 [==============================] - 0s 19ms/step - loss: 3.6710 - mae: 3.6710\n",
            "Epoch 60/100\n",
            "1/1 [==============================] - 0s 24ms/step - loss: 3.5252 - mae: 3.5252\n",
            "Epoch 61/100\n",
            "1/1 [==============================] - 0s 20ms/step - loss: 3.5499 - mae: 3.5499\n",
            "Epoch 62/100\n",
            "1/1 [==============================] - 0s 20ms/step - loss: 3.5542 - mae: 3.5542\n",
            "Epoch 63/100\n",
            "1/1 [==============================] - 0s 20ms/step - loss: 3.4654 - mae: 3.4654\n",
            "Epoch 64/100\n",
            "1/1 [==============================] - 0s 40ms/step - loss: 3.5846 - mae: 3.5846\n",
            "Epoch 65/100\n",
            "1/1 [==============================] - 0s 13ms/step - loss: 3.3921 - mae: 3.3921\n",
            "Epoch 66/100\n",
            "1/1 [==============================] - 0s 13ms/step - loss: 3.5885 - mae: 3.5885\n",
            "Epoch 67/100\n",
            "1/1 [==============================] - 0s 12ms/step - loss: 3.4224 - mae: 3.4224\n",
            "Epoch 68/100\n",
            "1/1 [==============================] - 0s 15ms/step - loss: 3.5011 - mae: 3.5011\n",
            "Epoch 69/100\n",
            "1/1 [==============================] - 0s 12ms/step - loss: 3.4552 - mae: 3.4552\n",
            "Epoch 70/100\n",
            "1/1 [==============================] - 0s 13ms/step - loss: 3.4173 - mae: 3.4173\n",
            "Epoch 71/100\n",
            "1/1 [==============================] - 0s 26ms/step - loss: 3.5276 - mae: 3.5276\n",
            "Epoch 72/100\n",
            "1/1 [==============================] - 0s 22ms/step - loss: 3.3365 - mae: 3.3365\n",
            "Epoch 73/100\n",
            "1/1 [==============================] - 0s 34ms/step - loss: 3.5074 - mae: 3.5074\n",
            "Epoch 74/100\n",
            "1/1 [==============================] - 0s 18ms/step - loss: 3.3690 - mae: 3.3690\n",
            "Epoch 75/100\n",
            "1/1 [==============================] - 0s 18ms/step - loss: 3.4152 - mae: 3.4152\n",
            "Epoch 76/100\n",
            "1/1 [==============================] - 0s 21ms/step - loss: 3.4018 - mae: 3.4018\n",
            "Epoch 77/100\n",
            "1/1 [==============================] - 0s 23ms/step - loss: 3.3199 - mae: 3.3199\n",
            "Epoch 78/100\n",
            "1/1 [==============================] - 0s 19ms/step - loss: 3.4381 - mae: 3.4381\n",
            "Epoch 79/100\n",
            "1/1 [==============================] - 0s 17ms/step - loss: 3.2513 - mae: 3.2513\n",
            "Epoch 80/100\n",
            "1/1 [==============================] - 0s 19ms/step - loss: 3.4448 - mae: 3.4448\n",
            "Epoch 81/100\n",
            "1/1 [==============================] - 0s 12ms/step - loss: 3.3245 - mae: 3.3245\n",
            "Epoch 82/100\n",
            "1/1 [==============================] - 0s 25ms/step - loss: 3.3121 - mae: 3.3121\n",
            "Epoch 83/100\n",
            "1/1 [==============================] - 0s 13ms/step - loss: 3.3598 - mae: 3.3598\n",
            "Epoch 84/100\n",
            "1/1 [==============================] - 0s 27ms/step - loss: 3.2066 - mae: 3.2066\n",
            "Epoch 85/100\n",
            "1/1 [==============================] - 0s 12ms/step - loss: 3.3969 - mae: 3.3969\n",
            "Epoch 86/100\n",
            "1/1 [==============================] - 0s 14ms/step - loss: 3.2079 - mae: 3.2079\n",
            "Epoch 87/100\n",
            "1/1 [==============================] - 0s 19ms/step - loss: 3.3144 - mae: 3.3144\n",
            "Epoch 88/100\n",
            "1/1 [==============================] - 0s 17ms/step - loss: 3.2456 - mae: 3.2456\n",
            "Epoch 89/100\n",
            "1/1 [==============================] - 0s 21ms/step - loss: 3.2088 - mae: 3.2088\n",
            "Epoch 90/100\n",
            "1/1 [==============================] - 0s 20ms/step - loss: 3.2849 - mae: 3.2849\n",
            "Epoch 91/100\n",
            "1/1 [==============================] - 0s 23ms/step - loss: 3.1056 - mae: 3.1056\n",
            "Epoch 92/100\n",
            "1/1 [==============================] - 0s 19ms/step - loss: 3.3290 - mae: 3.3290\n",
            "Epoch 93/100\n",
            "1/1 [==============================] - 0s 32ms/step - loss: 3.1800 - mae: 3.1800\n",
            "Epoch 94/100\n",
            "1/1 [==============================] - 0s 23ms/step - loss: 3.1789 - mae: 3.1789\n",
            "Epoch 95/100\n",
            "1/1 [==============================] - 0s 37ms/step - loss: 3.2175 - mae: 3.2175\n",
            "Epoch 96/100\n",
            "1/1 [==============================] - 0s 31ms/step - loss: 3.0647 - mae: 3.0647\n",
            "Epoch 97/100\n",
            "1/1 [==============================] - 0s 38ms/step - loss: 3.2568 - mae: 3.2568\n",
            "Epoch 98/100\n",
            "1/1 [==============================] - 0s 26ms/step - loss: 3.0715 - mae: 3.0715\n",
            "Epoch 99/100\n",
            "1/1 [==============================] - 0s 24ms/step - loss: 3.1593 - mae: 3.1593\n",
            "Epoch 100/100\n",
            "1/1 [==============================] - 0s 47ms/step - loss: 3.1112 - mae: 3.1112\n"
          ]
        },
        {
          "output_type": "execute_result",
          "data": {
            "text/plain": [
              "<keras.callbacks.History at 0x7f3a880f25d0>"
            ]
          },
          "metadata": {},
          "execution_count": 23
        }
      ]
    },
    {
      "cell_type": "code",
      "source": [
        "model.predict([17.0])"
      ],
      "metadata": {
        "colab": {
          "base_uri": "https://localhost:8080/"
        },
        "id": "I1AU7TVHUtAM",
        "outputId": "e6e87d3d-ed43-4738-ef35-3c03b199e45d"
      },
      "execution_count": 24,
      "outputs": [
        {
          "output_type": "execute_result",
          "data": {
            "text/plain": [
              "array([[30.335194]], dtype=float32)"
            ]
          },
          "metadata": {},
          "execution_count": 24
        }
      ]
    },
    {
      "cell_type": "code",
      "source": [
        "# Previous highest accuracy result = [29.739855]\n",
        "# Current accuracy result = [29.215181]\n",
        "\n",
        "# Current is better but just by a small margin"
      ],
      "metadata": {
        "id": "8T927VZUU3k6"
      },
      "execution_count": 25,
      "outputs": []
    },
    {
      "cell_type": "code",
      "source": [
        "# change the optimizer during compilation\n",
        "\n",
        "model = tf.keras.Sequential([\n",
        "  tf.keras.layers.Dense(1, input_shape=[1]) #, activation=\"relu\"\n",
        "])\n",
        "\n",
        "model.compile(\n",
        "    loss=tf.keras.losses.mae,\n",
        "    optimizer=tf.keras.optimizers.Adam(lr=0.0001),\n",
        "    metrics=[\"mae\"]\n",
        ")\n",
        "\n",
        "model.fit(X, y, epochs=100)"
      ],
      "metadata": {
        "colab": {
          "base_uri": "https://localhost:8080/"
        },
        "id": "x_GHLf7dVNMV",
        "outputId": "47fff846-0d07-445b-d1b7-349c418c3697"
      },
      "execution_count": 26,
      "outputs": [
        {
          "output_type": "stream",
          "name": "stdout",
          "text": [
            "Epoch 1/100\n"
          ]
        },
        {
          "output_type": "stream",
          "name": "stderr",
          "text": [
            "/usr/local/lib/python3.7/dist-packages/keras/optimizer_v2/adam.py:105: UserWarning: The `lr` argument is deprecated, use `learning_rate` instead.\n",
            "  super(Adam, self).__init__(name, **kwargs)\n"
          ]
        },
        {
          "output_type": "stream",
          "name": "stdout",
          "text": [
            "1/1 [==============================] - 1s 875ms/step - loss: 19.5190 - mae: 19.5190\n",
            "Epoch 2/100\n",
            "1/1 [==============================] - 0s 23ms/step - loss: 19.5184 - mae: 19.5184\n",
            "Epoch 3/100\n",
            "1/1 [==============================] - 0s 16ms/step - loss: 19.5178 - mae: 19.5178\n",
            "Epoch 4/100\n",
            "1/1 [==============================] - 0s 18ms/step - loss: 19.5172 - mae: 19.5172\n",
            "Epoch 5/100\n",
            "1/1 [==============================] - 0s 18ms/step - loss: 19.5166 - mae: 19.5166\n",
            "Epoch 6/100\n",
            "1/1 [==============================] - 0s 12ms/step - loss: 19.5160 - mae: 19.5160\n",
            "Epoch 7/100\n",
            "1/1 [==============================] - 0s 14ms/step - loss: 19.5154 - mae: 19.5154\n",
            "Epoch 8/100\n",
            "1/1 [==============================] - 0s 17ms/step - loss: 19.5148 - mae: 19.5148\n",
            "Epoch 9/100\n",
            "1/1 [==============================] - 0s 11ms/step - loss: 19.5142 - mae: 19.5142\n",
            "Epoch 10/100\n",
            "1/1 [==============================] - 0s 17ms/step - loss: 19.5136 - mae: 19.5136\n",
            "Epoch 11/100\n",
            "1/1 [==============================] - 0s 23ms/step - loss: 19.5130 - mae: 19.5130\n",
            "Epoch 12/100\n",
            "1/1 [==============================] - 0s 14ms/step - loss: 19.5124 - mae: 19.5124\n",
            "Epoch 13/100\n",
            "1/1 [==============================] - 0s 13ms/step - loss: 19.5118 - mae: 19.5118\n",
            "Epoch 14/100\n",
            "1/1 [==============================] - 0s 19ms/step - loss: 19.5112 - mae: 19.5112\n",
            "Epoch 15/100\n",
            "1/1 [==============================] - 0s 10ms/step - loss: 19.5106 - mae: 19.5106\n",
            "Epoch 16/100\n",
            "1/1 [==============================] - 0s 32ms/step - loss: 19.5100 - mae: 19.5100\n",
            "Epoch 17/100\n",
            "1/1 [==============================] - 0s 22ms/step - loss: 19.5094 - mae: 19.5094\n",
            "Epoch 18/100\n",
            "1/1 [==============================] - 0s 12ms/step - loss: 19.5088 - mae: 19.5088\n",
            "Epoch 19/100\n",
            "1/1 [==============================] - 0s 11ms/step - loss: 19.5082 - mae: 19.5082\n",
            "Epoch 20/100\n",
            "1/1 [==============================] - 0s 13ms/step - loss: 19.5076 - mae: 19.5076\n",
            "Epoch 21/100\n",
            "1/1 [==============================] - 0s 17ms/step - loss: 19.5070 - mae: 19.5070\n",
            "Epoch 22/100\n",
            "1/1 [==============================] - 0s 16ms/step - loss: 19.5064 - mae: 19.5064\n",
            "Epoch 23/100\n",
            "1/1 [==============================] - 0s 16ms/step - loss: 19.5058 - mae: 19.5058\n",
            "Epoch 24/100\n",
            "1/1 [==============================] - 0s 19ms/step - loss: 19.5052 - mae: 19.5052\n",
            "Epoch 25/100\n",
            "1/1 [==============================] - 0s 16ms/step - loss: 19.5046 - mae: 19.5046\n",
            "Epoch 26/100\n",
            "1/1 [==============================] - 0s 28ms/step - loss: 19.5040 - mae: 19.5040\n",
            "Epoch 27/100\n",
            "1/1 [==============================] - 0s 17ms/step - loss: 19.5034 - mae: 19.5034\n",
            "Epoch 28/100\n",
            "1/1 [==============================] - 0s 10ms/step - loss: 19.5028 - mae: 19.5028\n",
            "Epoch 29/100\n",
            "1/1 [==============================] - 0s 11ms/step - loss: 19.5022 - mae: 19.5022\n",
            "Epoch 30/100\n",
            "1/1 [==============================] - 0s 14ms/step - loss: 19.5016 - mae: 19.5016\n",
            "Epoch 31/100\n",
            "1/1 [==============================] - 0s 14ms/step - loss: 19.5010 - mae: 19.5010\n",
            "Epoch 32/100\n",
            "1/1 [==============================] - 0s 14ms/step - loss: 19.5004 - mae: 19.5004\n",
            "Epoch 33/100\n",
            "1/1 [==============================] - 0s 14ms/step - loss: 19.4998 - mae: 19.4998\n",
            "Epoch 34/100\n",
            "1/1 [==============================] - 0s 20ms/step - loss: 19.4992 - mae: 19.4992\n",
            "Epoch 35/100\n",
            "1/1 [==============================] - 0s 36ms/step - loss: 19.4986 - mae: 19.4986\n",
            "Epoch 36/100\n",
            "1/1 [==============================] - 0s 7ms/step - loss: 19.4980 - mae: 19.4980\n",
            "Epoch 37/100\n",
            "1/1 [==============================] - 0s 6ms/step - loss: 19.4974 - mae: 19.4974\n",
            "Epoch 38/100\n",
            "1/1 [==============================] - 0s 11ms/step - loss: 19.4968 - mae: 19.4968\n",
            "Epoch 39/100\n",
            "1/1 [==============================] - 0s 10ms/step - loss: 19.4962 - mae: 19.4962\n",
            "Epoch 40/100\n",
            "1/1 [==============================] - 0s 12ms/step - loss: 19.4956 - mae: 19.4956\n",
            "Epoch 41/100\n",
            "1/1 [==============================] - 0s 11ms/step - loss: 19.4950 - mae: 19.4950\n",
            "Epoch 42/100\n",
            "1/1 [==============================] - 0s 8ms/step - loss: 19.4944 - mae: 19.4944\n",
            "Epoch 43/100\n",
            "1/1 [==============================] - 0s 8ms/step - loss: 19.4938 - mae: 19.4938\n",
            "Epoch 44/100\n",
            "1/1 [==============================] - 0s 8ms/step - loss: 19.4932 - mae: 19.4932\n",
            "Epoch 45/100\n",
            "1/1 [==============================] - 0s 18ms/step - loss: 19.4926 - mae: 19.4926\n",
            "Epoch 46/100\n",
            "1/1 [==============================] - 0s 9ms/step - loss: 19.4920 - mae: 19.4920\n",
            "Epoch 47/100\n",
            "1/1 [==============================] - 0s 8ms/step - loss: 19.4914 - mae: 19.4914\n",
            "Epoch 48/100\n",
            "1/1 [==============================] - 0s 9ms/step - loss: 19.4908 - mae: 19.4908\n",
            "Epoch 49/100\n",
            "1/1 [==============================] - 0s 9ms/step - loss: 19.4902 - mae: 19.4902\n",
            "Epoch 50/100\n",
            "1/1 [==============================] - 0s 14ms/step - loss: 19.4896 - mae: 19.4896\n",
            "Epoch 51/100\n",
            "1/1 [==============================] - 0s 14ms/step - loss: 19.4890 - mae: 19.4890\n",
            "Epoch 52/100\n",
            "1/1 [==============================] - 0s 14ms/step - loss: 19.4884 - mae: 19.4884\n",
            "Epoch 53/100\n",
            "1/1 [==============================] - 0s 15ms/step - loss: 19.4878 - mae: 19.4878\n",
            "Epoch 54/100\n",
            "1/1 [==============================] - 0s 15ms/step - loss: 19.4872 - mae: 19.4872\n",
            "Epoch 55/100\n",
            "1/1 [==============================] - 0s 12ms/step - loss: 19.4866 - mae: 19.4866\n",
            "Epoch 56/100\n",
            "1/1 [==============================] - 0s 13ms/step - loss: 19.4860 - mae: 19.4860\n",
            "Epoch 57/100\n",
            "1/1 [==============================] - 0s 13ms/step - loss: 19.4854 - mae: 19.4854\n",
            "Epoch 58/100\n",
            "1/1 [==============================] - 0s 9ms/step - loss: 19.4848 - mae: 19.4848\n",
            "Epoch 59/100\n",
            "1/1 [==============================] - 0s 9ms/step - loss: 19.4842 - mae: 19.4842\n",
            "Epoch 60/100\n",
            "1/1 [==============================] - 0s 10ms/step - loss: 19.4836 - mae: 19.4836\n",
            "Epoch 61/100\n",
            "1/1 [==============================] - 0s 9ms/step - loss: 19.4830 - mae: 19.4830\n",
            "Epoch 62/100\n",
            "1/1 [==============================] - 0s 19ms/step - loss: 19.4824 - mae: 19.4824\n",
            "Epoch 63/100\n",
            "1/1 [==============================] - 0s 13ms/step - loss: 19.4818 - mae: 19.4818\n",
            "Epoch 64/100\n",
            "1/1 [==============================] - 0s 21ms/step - loss: 19.4812 - mae: 19.4812\n",
            "Epoch 65/100\n",
            "1/1 [==============================] - 0s 17ms/step - loss: 19.4806 - mae: 19.4806\n",
            "Epoch 66/100\n",
            "1/1 [==============================] - 0s 18ms/step - loss: 19.4800 - mae: 19.4800\n",
            "Epoch 67/100\n",
            "1/1 [==============================] - 0s 21ms/step - loss: 19.4794 - mae: 19.4794\n",
            "Epoch 68/100\n",
            "1/1 [==============================] - 0s 14ms/step - loss: 19.4788 - mae: 19.4788\n",
            "Epoch 69/100\n",
            "1/1 [==============================] - 0s 15ms/step - loss: 19.4782 - mae: 19.4782\n",
            "Epoch 70/100\n",
            "1/1 [==============================] - 0s 29ms/step - loss: 19.4776 - mae: 19.4776\n",
            "Epoch 71/100\n",
            "1/1 [==============================] - 0s 28ms/step - loss: 19.4770 - mae: 19.4770\n",
            "Epoch 72/100\n",
            "1/1 [==============================] - 0s 56ms/step - loss: 19.4764 - mae: 19.4764\n",
            "Epoch 73/100\n",
            "1/1 [==============================] - 0s 21ms/step - loss: 19.4758 - mae: 19.4758\n",
            "Epoch 74/100\n",
            "1/1 [==============================] - 0s 19ms/step - loss: 19.4752 - mae: 19.4752\n",
            "Epoch 75/100\n",
            "1/1 [==============================] - 0s 48ms/step - loss: 19.4746 - mae: 19.4746\n",
            "Epoch 76/100\n",
            "1/1 [==============================] - 0s 44ms/step - loss: 19.4740 - mae: 19.4740\n",
            "Epoch 77/100\n",
            "1/1 [==============================] - 0s 28ms/step - loss: 19.4734 - mae: 19.4734\n",
            "Epoch 78/100\n",
            "1/1 [==============================] - 0s 16ms/step - loss: 19.4728 - mae: 19.4728\n",
            "Epoch 79/100\n",
            "1/1 [==============================] - 0s 19ms/step - loss: 19.4722 - mae: 19.4722\n",
            "Epoch 80/100\n",
            "1/1 [==============================] - 0s 18ms/step - loss: 19.4716 - mae: 19.4716\n",
            "Epoch 81/100\n",
            "1/1 [==============================] - 0s 38ms/step - loss: 19.4710 - mae: 19.4710\n",
            "Epoch 82/100\n",
            "1/1 [==============================] - 0s 53ms/step - loss: 19.4704 - mae: 19.4704\n",
            "Epoch 83/100\n",
            "1/1 [==============================] - 0s 17ms/step - loss: 19.4698 - mae: 19.4698\n",
            "Epoch 84/100\n",
            "1/1 [==============================] - 0s 21ms/step - loss: 19.4692 - mae: 19.4692\n",
            "Epoch 85/100\n",
            "1/1 [==============================] - 0s 10ms/step - loss: 19.4686 - mae: 19.4686\n",
            "Epoch 86/100\n",
            "1/1 [==============================] - 0s 14ms/step - loss: 19.4680 - mae: 19.4680\n",
            "Epoch 87/100\n",
            "1/1 [==============================] - 0s 9ms/step - loss: 19.4674 - mae: 19.4674\n",
            "Epoch 88/100\n",
            "1/1 [==============================] - 0s 14ms/step - loss: 19.4668 - mae: 19.4668\n",
            "Epoch 89/100\n",
            "1/1 [==============================] - 0s 9ms/step - loss: 19.4662 - mae: 19.4662\n",
            "Epoch 90/100\n",
            "1/1 [==============================] - 0s 8ms/step - loss: 19.4656 - mae: 19.4656\n",
            "Epoch 91/100\n",
            "1/1 [==============================] - 0s 9ms/step - loss: 19.4650 - mae: 19.4650\n",
            "Epoch 92/100\n",
            "1/1 [==============================] - 0s 17ms/step - loss: 19.4644 - mae: 19.4644\n",
            "Epoch 93/100\n",
            "1/1 [==============================] - 0s 16ms/step - loss: 19.4638 - mae: 19.4638\n",
            "Epoch 94/100\n",
            "1/1 [==============================] - 0s 12ms/step - loss: 19.4632 - mae: 19.4632\n",
            "Epoch 95/100\n",
            "1/1 [==============================] - 0s 17ms/step - loss: 19.4626 - mae: 19.4626\n",
            "Epoch 96/100\n",
            "1/1 [==============================] - 0s 25ms/step - loss: 19.4620 - mae: 19.4620\n",
            "Epoch 97/100\n",
            "1/1 [==============================] - 0s 34ms/step - loss: 19.4614 - mae: 19.4614\n",
            "Epoch 98/100\n",
            "1/1 [==============================] - 0s 22ms/step - loss: 19.4608 - mae: 19.4608\n",
            "Epoch 99/100\n",
            "1/1 [==============================] - 0s 18ms/step - loss: 19.4602 - mae: 19.4602\n",
            "Epoch 100/100\n",
            "1/1 [==============================] - 0s 19ms/step - loss: 19.4596 - mae: 19.4596\n"
          ]
        },
        {
          "output_type": "execute_result",
          "data": {
            "text/plain": [
              "<keras.callbacks.History at 0x7f3a85e143d0>"
            ]
          },
          "metadata": {},
          "execution_count": 26
        }
      ]
    },
    {
      "cell_type": "code",
      "source": [
        "model.predict([17.0])"
      ],
      "metadata": {
        "colab": {
          "base_uri": "https://localhost:8080/"
        },
        "id": "5KzTrKGdV2De",
        "outputId": "9afbe6e4-cbf5-4280-c7ed-925624b00e64"
      },
      "execution_count": 27,
      "outputs": [
        {
          "output_type": "stream",
          "name": "stdout",
          "text": [
            "WARNING:tensorflow:5 out of the last 5 calls to <function Model.make_predict_function.<locals>.predict_function at 0x7f3a85eaf440> triggered tf.function retracing. Tracing is expensive and the excessive number of tracings could be due to (1) creating @tf.function repeatedly in a loop, (2) passing tensors with different shapes, (3) passing Python objects instead of tensors. For (1), please define your @tf.function outside of the loop. For (2), @tf.function has experimental_relax_shapes=True option that relaxes argument shapes that can avoid unnecessary retracing. For (3), please refer to https://www.tensorflow.org/guide/function#controlling_retracing and https://www.tensorflow.org/api_docs/python/tf/function for  more details.\n"
          ]
        },
        {
          "output_type": "execute_result",
          "data": {
            "text/plain": [
              "array([[-21.738567]], dtype=float32)"
            ]
          },
          "metadata": {},
          "execution_count": 27
        }
      ]
    },
    {
      "cell_type": "code",
      "source": [
        "# Previous result = 29.215181\n",
        "# Current result = 21.924559\n",
        "\n",
        "# previous_difference = 2.215181\n",
        "# current_difference = 6.924559\n",
        "\n",
        "# Previous model was better"
      ],
      "metadata": {
        "id": "MUhCYTAfV5cS"
      },
      "execution_count": 28,
      "outputs": []
    },
    {
      "cell_type": "code",
      "source": [
        "# Combining all above model optimization techniques\n",
        "\n",
        "model = tf.keras.Sequential([\n",
        "  tf.keras.layers.Dense(100, input_shape=[1], activation=\"relu\"),\n",
        "  tf.keras.layers.Dense(100, input_shape=[1], activation=\"relu\"),\n",
        "  tf.keras.layers.Dense(100, input_shape=[1], activation=\"relu\"),\n",
        "  tf.keras.layers.Dense(1, input_shape=[1])\n",
        "])\n",
        "\n",
        "model.compile(\n",
        "    loss=tf.keras.losses.mae,\n",
        "    optimizer=tf.keras.optimizers.Adam(lr=0.0001), # lr=learning rate, by how much should model improve\n",
        "    metrics=[\"mae\"]\n",
        ")\n",
        "\n",
        "model.fit(X, y, epochs=100)\n"
      ],
      "metadata": {
        "colab": {
          "base_uri": "https://localhost:8080/"
        },
        "id": "hRz8XPwRWSKb",
        "outputId": "e7704876-964b-41e8-9539-9020df5c5882"
      },
      "execution_count": 29,
      "outputs": [
        {
          "output_type": "stream",
          "name": "stderr",
          "text": [
            "/usr/local/lib/python3.7/dist-packages/keras/optimizer_v2/adam.py:105: UserWarning: The `lr` argument is deprecated, use `learning_rate` instead.\n",
            "  super(Adam, self).__init__(name, **kwargs)\n"
          ]
        },
        {
          "output_type": "stream",
          "name": "stdout",
          "text": [
            "Epoch 1/100\n",
            "1/1 [==============================] - 1s 991ms/step - loss: 13.5566 - mae: 13.5566\n",
            "Epoch 2/100\n",
            "1/1 [==============================] - 0s 27ms/step - loss: 13.5251 - mae: 13.5251\n",
            "Epoch 3/100\n",
            "1/1 [==============================] - 0s 23ms/step - loss: 13.4937 - mae: 13.4937\n",
            "Epoch 4/100\n",
            "1/1 [==============================] - 0s 16ms/step - loss: 13.4625 - mae: 13.4625\n",
            "Epoch 5/100\n",
            "1/1 [==============================] - 0s 43ms/step - loss: 13.4317 - mae: 13.4317\n",
            "Epoch 6/100\n",
            "1/1 [==============================] - 0s 30ms/step - loss: 13.4009 - mae: 13.4009\n",
            "Epoch 7/100\n",
            "1/1 [==============================] - 0s 28ms/step - loss: 13.3702 - mae: 13.3702\n",
            "Epoch 8/100\n",
            "1/1 [==============================] - 0s 23ms/step - loss: 13.3400 - mae: 13.3400\n",
            "Epoch 9/100\n",
            "1/1 [==============================] - 0s 22ms/step - loss: 13.3102 - mae: 13.3102\n",
            "Epoch 10/100\n",
            "1/1 [==============================] - 0s 22ms/step - loss: 13.2813 - mae: 13.2813\n",
            "Epoch 11/100\n",
            "1/1 [==============================] - 0s 21ms/step - loss: 13.2524 - mae: 13.2524\n",
            "Epoch 12/100\n",
            "1/1 [==============================] - 0s 23ms/step - loss: 13.2239 - mae: 13.2239\n",
            "Epoch 13/100\n",
            "1/1 [==============================] - 0s 22ms/step - loss: 13.1954 - mae: 13.1954\n",
            "Epoch 14/100\n",
            "1/1 [==============================] - 0s 37ms/step - loss: 13.1668 - mae: 13.1668\n",
            "Epoch 15/100\n",
            "1/1 [==============================] - 0s 25ms/step - loss: 13.1384 - mae: 13.1384\n",
            "Epoch 16/100\n",
            "1/1 [==============================] - 0s 40ms/step - loss: 13.1093 - mae: 13.1093\n",
            "Epoch 17/100\n",
            "1/1 [==============================] - 0s 26ms/step - loss: 13.0796 - mae: 13.0796\n",
            "Epoch 18/100\n",
            "1/1 [==============================] - 0s 24ms/step - loss: 13.0496 - mae: 13.0496\n",
            "Epoch 19/100\n",
            "1/1 [==============================] - 0s 34ms/step - loss: 13.0196 - mae: 13.0196\n",
            "Epoch 20/100\n",
            "1/1 [==============================] - 0s 19ms/step - loss: 12.9889 - mae: 12.9889\n",
            "Epoch 21/100\n",
            "1/1 [==============================] - 0s 27ms/step - loss: 12.9581 - mae: 12.9581\n",
            "Epoch 22/100\n",
            "1/1 [==============================] - 0s 31ms/step - loss: 12.9271 - mae: 12.9271\n",
            "Epoch 23/100\n",
            "1/1 [==============================] - 0s 21ms/step - loss: 12.8961 - mae: 12.8961\n",
            "Epoch 24/100\n",
            "1/1 [==============================] - 0s 11ms/step - loss: 12.8650 - mae: 12.8650\n",
            "Epoch 25/100\n",
            "1/1 [==============================] - 0s 32ms/step - loss: 12.8340 - mae: 12.8340\n",
            "Epoch 26/100\n",
            "1/1 [==============================] - 0s 13ms/step - loss: 12.8032 - mae: 12.8032\n",
            "Epoch 27/100\n",
            "1/1 [==============================] - 0s 28ms/step - loss: 12.7722 - mae: 12.7722\n",
            "Epoch 28/100\n",
            "1/1 [==============================] - 0s 32ms/step - loss: 12.7412 - mae: 12.7412\n",
            "Epoch 29/100\n",
            "1/1 [==============================] - 0s 17ms/step - loss: 12.7100 - mae: 12.7100\n",
            "Epoch 30/100\n",
            "1/1 [==============================] - 0s 20ms/step - loss: 12.6788 - mae: 12.6788\n",
            "Epoch 31/100\n",
            "1/1 [==============================] - 0s 25ms/step - loss: 12.6475 - mae: 12.6475\n",
            "Epoch 32/100\n",
            "1/1 [==============================] - 0s 23ms/step - loss: 12.6159 - mae: 12.6159\n",
            "Epoch 33/100\n",
            "1/1 [==============================] - 0s 31ms/step - loss: 12.5843 - mae: 12.5843\n",
            "Epoch 34/100\n",
            "1/1 [==============================] - 0s 15ms/step - loss: 12.5529 - mae: 12.5529\n",
            "Epoch 35/100\n",
            "1/1 [==============================] - 0s 17ms/step - loss: 12.5222 - mae: 12.5222\n",
            "Epoch 36/100\n",
            "1/1 [==============================] - 0s 15ms/step - loss: 12.4914 - mae: 12.4914\n",
            "Epoch 37/100\n",
            "1/1 [==============================] - 0s 14ms/step - loss: 12.4606 - mae: 12.4606\n",
            "Epoch 38/100\n",
            "1/1 [==============================] - 0s 17ms/step - loss: 12.4296 - mae: 12.4296\n",
            "Epoch 39/100\n",
            "1/1 [==============================] - 0s 23ms/step - loss: 12.3986 - mae: 12.3986\n",
            "Epoch 40/100\n",
            "1/1 [==============================] - 0s 21ms/step - loss: 12.3677 - mae: 12.3677\n",
            "Epoch 41/100\n",
            "1/1 [==============================] - 0s 14ms/step - loss: 12.3365 - mae: 12.3365\n",
            "Epoch 42/100\n",
            "1/1 [==============================] - 0s 15ms/step - loss: 12.3047 - mae: 12.3047\n",
            "Epoch 43/100\n",
            "1/1 [==============================] - 0s 24ms/step - loss: 12.2726 - mae: 12.2726\n",
            "Epoch 44/100\n",
            "1/1 [==============================] - 0s 18ms/step - loss: 12.2402 - mae: 12.2402\n",
            "Epoch 45/100\n",
            "1/1 [==============================] - 0s 12ms/step - loss: 12.2076 - mae: 12.2076\n",
            "Epoch 46/100\n",
            "1/1 [==============================] - 0s 14ms/step - loss: 12.1749 - mae: 12.1749\n",
            "Epoch 47/100\n",
            "1/1 [==============================] - 0s 13ms/step - loss: 12.1422 - mae: 12.1422\n",
            "Epoch 48/100\n",
            "1/1 [==============================] - 0s 16ms/step - loss: 12.1093 - mae: 12.1093\n",
            "Epoch 49/100\n",
            "1/1 [==============================] - 0s 17ms/step - loss: 12.0763 - mae: 12.0763\n",
            "Epoch 50/100\n",
            "1/1 [==============================] - 0s 26ms/step - loss: 12.0436 - mae: 12.0436\n",
            "Epoch 51/100\n",
            "1/1 [==============================] - 0s 26ms/step - loss: 12.0111 - mae: 12.0111\n",
            "Epoch 52/100\n",
            "1/1 [==============================] - 0s 33ms/step - loss: 11.9783 - mae: 11.9783\n",
            "Epoch 53/100\n",
            "1/1 [==============================] - 0s 25ms/step - loss: 11.9454 - mae: 11.9454\n",
            "Epoch 54/100\n",
            "1/1 [==============================] - 0s 24ms/step - loss: 11.9124 - mae: 11.9124\n",
            "Epoch 55/100\n",
            "1/1 [==============================] - 0s 20ms/step - loss: 11.8791 - mae: 11.8791\n",
            "Epoch 56/100\n",
            "1/1 [==============================] - 0s 25ms/step - loss: 11.8456 - mae: 11.8456\n",
            "Epoch 57/100\n",
            "1/1 [==============================] - 0s 15ms/step - loss: 11.8119 - mae: 11.8119\n",
            "Epoch 58/100\n",
            "1/1 [==============================] - 0s 17ms/step - loss: 11.7781 - mae: 11.7781\n",
            "Epoch 59/100\n",
            "1/1 [==============================] - 0s 18ms/step - loss: 11.7442 - mae: 11.7442\n",
            "Epoch 60/100\n",
            "1/1 [==============================] - 0s 32ms/step - loss: 11.7101 - mae: 11.7101\n",
            "Epoch 61/100\n",
            "1/1 [==============================] - 0s 32ms/step - loss: 11.6762 - mae: 11.6762\n",
            "Epoch 62/100\n",
            "1/1 [==============================] - 0s 22ms/step - loss: 11.6421 - mae: 11.6421\n",
            "Epoch 63/100\n",
            "1/1 [==============================] - 0s 17ms/step - loss: 11.6078 - mae: 11.6078\n",
            "Epoch 64/100\n",
            "1/1 [==============================] - 0s 16ms/step - loss: 11.5736 - mae: 11.5736\n",
            "Epoch 65/100\n",
            "1/1 [==============================] - 0s 17ms/step - loss: 11.5398 - mae: 11.5398\n",
            "Epoch 66/100\n",
            "1/1 [==============================] - 0s 10ms/step - loss: 11.5062 - mae: 11.5062\n",
            "Epoch 67/100\n",
            "1/1 [==============================] - 0s 24ms/step - loss: 11.4724 - mae: 11.4724\n",
            "Epoch 68/100\n",
            "1/1 [==============================] - 0s 14ms/step - loss: 11.4387 - mae: 11.4387\n",
            "Epoch 69/100\n",
            "1/1 [==============================] - 0s 14ms/step - loss: 11.4048 - mae: 11.4048\n",
            "Epoch 70/100\n",
            "1/1 [==============================] - 0s 17ms/step - loss: 11.3707 - mae: 11.3707\n",
            "Epoch 71/100\n",
            "1/1 [==============================] - 0s 16ms/step - loss: 11.3363 - mae: 11.3363\n",
            "Epoch 72/100\n",
            "1/1 [==============================] - 0s 15ms/step - loss: 11.3015 - mae: 11.3015\n",
            "Epoch 73/100\n",
            "1/1 [==============================] - 0s 48ms/step - loss: 11.2665 - mae: 11.2665\n",
            "Epoch 74/100\n",
            "1/1 [==============================] - 0s 22ms/step - loss: 11.2312 - mae: 11.2312\n",
            "Epoch 75/100\n",
            "1/1 [==============================] - 0s 19ms/step - loss: 11.1953 - mae: 11.1953\n",
            "Epoch 76/100\n",
            "1/1 [==============================] - 0s 27ms/step - loss: 11.1592 - mae: 11.1592\n",
            "Epoch 77/100\n",
            "1/1 [==============================] - 0s 12ms/step - loss: 11.1226 - mae: 11.1226\n",
            "Epoch 78/100\n",
            "1/1 [==============================] - 0s 13ms/step - loss: 11.0857 - mae: 11.0857\n",
            "Epoch 79/100\n",
            "1/1 [==============================] - 0s 21ms/step - loss: 11.0485 - mae: 11.0485\n",
            "Epoch 80/100\n",
            "1/1 [==============================] - 0s 24ms/step - loss: 11.0110 - mae: 11.0110\n",
            "Epoch 81/100\n",
            "1/1 [==============================] - 0s 40ms/step - loss: 10.9731 - mae: 10.9731\n",
            "Epoch 82/100\n",
            "1/1 [==============================] - 0s 29ms/step - loss: 10.9348 - mae: 10.9348\n",
            "Epoch 83/100\n",
            "1/1 [==============================] - 0s 19ms/step - loss: 10.8961 - mae: 10.8961\n",
            "Epoch 84/100\n",
            "1/1 [==============================] - 0s 24ms/step - loss: 10.8571 - mae: 10.8571\n",
            "Epoch 85/100\n",
            "1/1 [==============================] - 0s 19ms/step - loss: 10.8176 - mae: 10.8176\n",
            "Epoch 86/100\n",
            "1/1 [==============================] - 0s 23ms/step - loss: 10.7777 - mae: 10.7777\n",
            "Epoch 87/100\n",
            "1/1 [==============================] - 0s 17ms/step - loss: 10.7374 - mae: 10.7374\n",
            "Epoch 88/100\n",
            "1/1 [==============================] - 0s 26ms/step - loss: 10.7078 - mae: 10.7078\n",
            "Epoch 89/100\n",
            "1/1 [==============================] - 0s 30ms/step - loss: 10.6787 - mae: 10.6787\n",
            "Epoch 90/100\n",
            "1/1 [==============================] - 0s 33ms/step - loss: 10.6493 - mae: 10.6493\n",
            "Epoch 91/100\n",
            "1/1 [==============================] - 0s 22ms/step - loss: 10.6196 - mae: 10.6196\n",
            "Epoch 92/100\n",
            "1/1 [==============================] - 0s 27ms/step - loss: 10.5896 - mae: 10.5896\n",
            "Epoch 93/100\n",
            "1/1 [==============================] - 0s 27ms/step - loss: 10.5592 - mae: 10.5592\n",
            "Epoch 94/100\n",
            "1/1 [==============================] - 0s 18ms/step - loss: 10.5287 - mae: 10.5287\n",
            "Epoch 95/100\n",
            "1/1 [==============================] - 0s 17ms/step - loss: 10.4978 - mae: 10.4978\n",
            "Epoch 96/100\n",
            "1/1 [==============================] - 0s 18ms/step - loss: 10.4666 - mae: 10.4666\n",
            "Epoch 97/100\n",
            "1/1 [==============================] - 0s 18ms/step - loss: 10.4351 - mae: 10.4351\n",
            "Epoch 98/100\n",
            "1/1 [==============================] - 0s 18ms/step - loss: 10.4033 - mae: 10.4033\n",
            "Epoch 99/100\n",
            "1/1 [==============================] - 0s 14ms/step - loss: 10.3712 - mae: 10.3712\n",
            "Epoch 100/100\n",
            "1/1 [==============================] - 0s 23ms/step - loss: 10.3388 - mae: 10.3388\n"
          ]
        },
        {
          "output_type": "execute_result",
          "data": {
            "text/plain": [
              "<keras.callbacks.History at 0x7f3a8551f150>"
            ]
          },
          "metadata": {},
          "execution_count": 29
        }
      ]
    },
    {
      "cell_type": "code",
      "source": [
        "model.predict([17.0])"
      ],
      "metadata": {
        "colab": {
          "base_uri": "https://localhost:8080/"
        },
        "id": "tN7Fl8fmW2Q5",
        "outputId": "b184153b-e34b-410a-a415-7582993f6653"
      },
      "execution_count": 30,
      "outputs": [
        {
          "output_type": "stream",
          "name": "stdout",
          "text": [
            "WARNING:tensorflow:6 out of the last 6 calls to <function Model.make_predict_function.<locals>.predict_function at 0x7f3a85eaf950> triggered tf.function retracing. Tracing is expensive and the excessive number of tracings could be due to (1) creating @tf.function repeatedly in a loop, (2) passing tensors with different shapes, (3) passing Python objects instead of tensors. For (1), please define your @tf.function outside of the loop. For (2), @tf.function has experimental_relax_shapes=True option that relaxes argument shapes that can avoid unnecessary retracing. For (3), please refer to https://www.tensorflow.org/guide/function#controlling_retracing and https://www.tensorflow.org/api_docs/python/tf/function for  more details.\n"
          ]
        },
        {
          "output_type": "execute_result",
          "data": {
            "text/plain": [
              "array([[8.49365]], dtype=float32)"
            ]
          },
          "metadata": {},
          "execution_count": 30
        }
      ]
    },
    {
      "cell_type": "code",
      "source": [
        "# Accuracy is lower than all above models"
      ],
      "metadata": {
        "id": "9WW6EnQ9W7uT"
      },
      "execution_count": 31,
      "outputs": []
    },
    {
      "cell_type": "code",
      "source": [
        "# Create the model\n",
        "model = tf.keras.Sequential([\n",
        "  tf.keras.layers.Dense(50, activation=None, input_shape=[1]),\n",
        "  tf.keras.layers.Dense(1)\n",
        "])\n",
        "\n",
        "# Compile the model\n",
        "model.compile(loss=\"mae\",\n",
        "              optimizer=tf.keras.optimizers.Adam(lr=0.01),\n",
        "              metrics=[\"mae\"])\n",
        "\n",
        "# Fit the model\n",
        "model.fit(X, y, epochs=100)"
      ],
      "metadata": {
        "colab": {
          "base_uri": "https://localhost:8080/"
        },
        "id": "Pt6TREmPXBUY",
        "outputId": "f41b56d2-a832-4ec7-9d34-07bf0051844c"
      },
      "execution_count": 32,
      "outputs": [
        {
          "output_type": "stream",
          "name": "stderr",
          "text": [
            "/usr/local/lib/python3.7/dist-packages/keras/optimizer_v2/adam.py:105: UserWarning: The `lr` argument is deprecated, use `learning_rate` instead.\n",
            "  super(Adam, self).__init__(name, **kwargs)\n"
          ]
        },
        {
          "output_type": "stream",
          "name": "stdout",
          "text": [
            "Epoch 1/100\n",
            "1/1 [==============================] - 1s 1s/step - loss: 13.2573 - mae: 13.2573\n",
            "Epoch 2/100\n",
            "1/1 [==============================] - 0s 24ms/step - loss: 12.5838 - mae: 12.5838\n",
            "Epoch 3/100\n",
            "1/1 [==============================] - 0s 19ms/step - loss: 11.9128 - mae: 11.9128\n",
            "Epoch 4/100\n",
            "1/1 [==============================] - 0s 29ms/step - loss: 11.2431 - mae: 11.2431\n",
            "Epoch 5/100\n",
            "1/1 [==============================] - 0s 28ms/step - loss: 10.5732 - mae: 10.5732\n",
            "Epoch 6/100\n",
            "1/1 [==============================] - 0s 16ms/step - loss: 9.9004 - mae: 9.9004\n",
            "Epoch 7/100\n",
            "1/1 [==============================] - 0s 15ms/step - loss: 9.2220 - mae: 9.2220\n",
            "Epoch 8/100\n",
            "1/1 [==============================] - 0s 11ms/step - loss: 8.5346 - mae: 8.5346\n",
            "Epoch 9/100\n",
            "1/1 [==============================] - 0s 21ms/step - loss: 7.8344 - mae: 7.8344\n",
            "Epoch 10/100\n",
            "1/1 [==============================] - 0s 28ms/step - loss: 7.1177 - mae: 7.1177\n",
            "Epoch 11/100\n",
            "1/1 [==============================] - 0s 17ms/step - loss: 6.7180 - mae: 6.7180\n",
            "Epoch 12/100\n",
            "1/1 [==============================] - 0s 20ms/step - loss: 6.8883 - mae: 6.8883\n",
            "Epoch 13/100\n",
            "1/1 [==============================] - 0s 18ms/step - loss: 7.1561 - mae: 7.1561\n",
            "Epoch 14/100\n",
            "1/1 [==============================] - 0s 32ms/step - loss: 7.3610 - mae: 7.3610\n",
            "Epoch 15/100\n",
            "1/1 [==============================] - 0s 16ms/step - loss: 7.4613 - mae: 7.4613\n",
            "Epoch 16/100\n",
            "1/1 [==============================] - 0s 33ms/step - loss: 7.3741 - mae: 7.3741\n",
            "Epoch 17/100\n",
            "1/1 [==============================] - 0s 19ms/step - loss: 7.1455 - mae: 7.1455\n",
            "Epoch 18/100\n",
            "1/1 [==============================] - 0s 23ms/step - loss: 6.8928 - mae: 6.8928\n",
            "Epoch 19/100\n",
            "1/1 [==============================] - 0s 47ms/step - loss: 6.6574 - mae: 6.6574\n",
            "Epoch 20/100\n",
            "1/1 [==============================] - 0s 17ms/step - loss: 6.4062 - mae: 6.4062\n",
            "Epoch 21/100\n",
            "1/1 [==============================] - 0s 19ms/step - loss: 6.1431 - mae: 6.1431\n",
            "Epoch 22/100\n",
            "1/1 [==============================] - 0s 20ms/step - loss: 6.0711 - mae: 6.0711\n",
            "Epoch 23/100\n",
            "1/1 [==============================] - 0s 26ms/step - loss: 6.0294 - mae: 6.0294\n",
            "Epoch 24/100\n",
            "1/1 [==============================] - 0s 23ms/step - loss: 6.1734 - mae: 6.1734\n",
            "Epoch 25/100\n",
            "1/1 [==============================] - 0s 17ms/step - loss: 6.2366 - mae: 6.2366\n",
            "Epoch 26/100\n",
            "1/1 [==============================] - 0s 25ms/step - loss: 6.2014 - mae: 6.2014\n",
            "Epoch 27/100\n",
            "1/1 [==============================] - 0s 29ms/step - loss: 6.0804 - mae: 6.0804\n",
            "Epoch 28/100\n",
            "1/1 [==============================] - 0s 22ms/step - loss: 5.8831 - mae: 5.8831\n",
            "Epoch 29/100\n",
            "1/1 [==============================] - 0s 29ms/step - loss: 5.6163 - mae: 5.6163\n",
            "Epoch 30/100\n",
            "1/1 [==============================] - 0s 37ms/step - loss: 5.4593 - mae: 5.4593\n",
            "Epoch 31/100\n",
            "1/1 [==============================] - 0s 32ms/step - loss: 5.3442 - mae: 5.3442\n",
            "Epoch 32/100\n",
            "1/1 [==============================] - 0s 11ms/step - loss: 5.3164 - mae: 5.3164\n",
            "Epoch 33/100\n",
            "1/1 [==============================] - 0s 23ms/step - loss: 5.3219 - mae: 5.3219\n",
            "Epoch 34/100\n",
            "1/1 [==============================] - 0s 30ms/step - loss: 5.2849 - mae: 5.2849\n",
            "Epoch 35/100\n",
            "1/1 [==============================] - 0s 30ms/step - loss: 5.2085 - mae: 5.2085\n",
            "Epoch 36/100\n",
            "1/1 [==============================] - 0s 33ms/step - loss: 5.0956 - mae: 5.0956\n",
            "Epoch 37/100\n",
            "1/1 [==============================] - 0s 19ms/step - loss: 4.9489 - mae: 4.9489\n",
            "Epoch 38/100\n",
            "1/1 [==============================] - 0s 25ms/step - loss: 4.7713 - mae: 4.7713\n",
            "Epoch 39/100\n",
            "1/1 [==============================] - 0s 42ms/step - loss: 4.5652 - mae: 4.5652\n",
            "Epoch 40/100\n",
            "1/1 [==============================] - 0s 28ms/step - loss: 4.4294 - mae: 4.4294\n",
            "Epoch 41/100\n",
            "1/1 [==============================] - 0s 18ms/step - loss: 4.3308 - mae: 4.3308\n",
            "Epoch 42/100\n",
            "1/1 [==============================] - 0s 17ms/step - loss: 4.2476 - mae: 4.2476\n",
            "Epoch 43/100\n",
            "1/1 [==============================] - 0s 20ms/step - loss: 4.1597 - mae: 4.1597\n",
            "Epoch 44/100\n",
            "1/1 [==============================] - 0s 20ms/step - loss: 3.9614 - mae: 3.9614\n",
            "Epoch 45/100\n",
            "1/1 [==============================] - 0s 20ms/step - loss: 3.7924 - mae: 3.7924\n",
            "Epoch 46/100\n",
            "1/1 [==============================] - 0s 13ms/step - loss: 3.6244 - mae: 3.6244\n",
            "Epoch 47/100\n",
            "1/1 [==============================] - 0s 6ms/step - loss: 3.5311 - mae: 3.5311\n",
            "Epoch 48/100\n",
            "1/1 [==============================] - 0s 7ms/step - loss: 3.4287 - mae: 3.4287\n",
            "Epoch 49/100\n",
            "1/1 [==============================] - 0s 6ms/step - loss: 3.2758 - mae: 3.2758\n",
            "Epoch 50/100\n",
            "1/1 [==============================] - 0s 6ms/step - loss: 3.0746 - mae: 3.0746\n",
            "Epoch 51/100\n",
            "1/1 [==============================] - 0s 7ms/step - loss: 2.8271 - mae: 2.8271\n",
            "Epoch 52/100\n",
            "1/1 [==============================] - 0s 9ms/step - loss: 2.6062 - mae: 2.6062\n",
            "Epoch 53/100\n",
            "1/1 [==============================] - 0s 13ms/step - loss: 2.4322 - mae: 2.4322\n",
            "Epoch 54/100\n",
            "1/1 [==============================] - 0s 10ms/step - loss: 2.2506 - mae: 2.2506\n",
            "Epoch 55/100\n",
            "1/1 [==============================] - 0s 17ms/step - loss: 1.9983 - mae: 1.9983\n",
            "Epoch 56/100\n",
            "1/1 [==============================] - 0s 12ms/step - loss: 1.7739 - mae: 1.7739\n",
            "Epoch 57/100\n",
            "1/1 [==============================] - 0s 11ms/step - loss: 1.5704 - mae: 1.5704\n",
            "Epoch 58/100\n",
            "1/1 [==============================] - 0s 12ms/step - loss: 1.3039 - mae: 1.3039\n",
            "Epoch 59/100\n",
            "1/1 [==============================] - 0s 8ms/step - loss: 1.0588 - mae: 1.0588\n",
            "Epoch 60/100\n",
            "1/1 [==============================] - 0s 12ms/step - loss: 0.7926 - mae: 0.7926\n",
            "Epoch 61/100\n",
            "1/1 [==============================] - 0s 11ms/step - loss: 0.5168 - mae: 0.5168\n",
            "Epoch 62/100\n",
            "1/1 [==============================] - 0s 13ms/step - loss: 0.2580 - mae: 0.2580\n",
            "Epoch 63/100\n",
            "1/1 [==============================] - 0s 10ms/step - loss: 0.1599 - mae: 0.1599\n",
            "Epoch 64/100\n",
            "1/1 [==============================] - 0s 10ms/step - loss: 0.3268 - mae: 0.3268\n",
            "Epoch 65/100\n",
            "1/1 [==============================] - 0s 12ms/step - loss: 0.4767 - mae: 0.4767\n",
            "Epoch 66/100\n",
            "1/1 [==============================] - 0s 7ms/step - loss: 0.6287 - mae: 0.6287\n",
            "Epoch 67/100\n",
            "1/1 [==============================] - 0s 7ms/step - loss: 0.6752 - mae: 0.6752\n",
            "Epoch 68/100\n",
            "1/1 [==============================] - 0s 6ms/step - loss: 0.7310 - mae: 0.7310\n",
            "Epoch 69/100\n",
            "1/1 [==============================] - 0s 7ms/step - loss: 0.6731 - mae: 0.6731\n",
            "Epoch 70/100\n",
            "1/1 [==============================] - 0s 7ms/step - loss: 0.6205 - mae: 0.6205\n",
            "Epoch 71/100\n",
            "1/1 [==============================] - 0s 7ms/step - loss: 0.5270 - mae: 0.5270\n",
            "Epoch 72/100\n",
            "1/1 [==============================] - 0s 10ms/step - loss: 0.4139 - mae: 0.4139\n",
            "Epoch 73/100\n",
            "1/1 [==============================] - 0s 25ms/step - loss: 0.2749 - mae: 0.2749\n",
            "Epoch 74/100\n",
            "1/1 [==============================] - 0s 16ms/step - loss: 0.1425 - mae: 0.1425\n",
            "Epoch 75/100\n",
            "1/1 [==============================] - 0s 14ms/step - loss: 0.1786 - mae: 0.1786\n",
            "Epoch 76/100\n",
            "1/1 [==============================] - 0s 15ms/step - loss: 0.1939 - mae: 0.1939\n",
            "Epoch 77/100\n",
            "1/1 [==============================] - 0s 16ms/step - loss: 0.2833 - mae: 0.2833\n",
            "Epoch 78/100\n",
            "1/1 [==============================] - 0s 27ms/step - loss: 0.3302 - mae: 0.3302\n",
            "Epoch 79/100\n",
            "1/1 [==============================] - 0s 7ms/step - loss: 0.3612 - mae: 0.3612\n",
            "Epoch 80/100\n",
            "1/1 [==============================] - 0s 10ms/step - loss: 0.3644 - mae: 0.3644\n",
            "Epoch 81/100\n",
            "1/1 [==============================] - 0s 11ms/step - loss: 0.2945 - mae: 0.2945\n",
            "Epoch 82/100\n",
            "1/1 [==============================] - 0s 9ms/step - loss: 0.2658 - mae: 0.2658\n",
            "Epoch 83/100\n",
            "1/1 [==============================] - 0s 12ms/step - loss: 0.1404 - mae: 0.1404\n",
            "Epoch 84/100\n",
            "1/1 [==============================] - 0s 12ms/step - loss: 0.2269 - mae: 0.2269\n",
            "Epoch 85/100\n",
            "1/1 [==============================] - 0s 29ms/step - loss: 0.1874 - mae: 0.1874\n",
            "Epoch 86/100\n",
            "1/1 [==============================] - 0s 37ms/step - loss: 0.2791 - mae: 0.2791\n",
            "Epoch 87/100\n",
            "1/1 [==============================] - 0s 10ms/step - loss: 0.2932 - mae: 0.2932\n",
            "Epoch 88/100\n",
            "1/1 [==============================] - 0s 15ms/step - loss: 0.2909 - mae: 0.2909\n",
            "Epoch 89/100\n",
            "1/1 [==============================] - 0s 11ms/step - loss: 0.2787 - mae: 0.2787\n",
            "Epoch 90/100\n",
            "1/1 [==============================] - 0s 10ms/step - loss: 0.1928 - mae: 0.1928\n",
            "Epoch 91/100\n",
            "1/1 [==============================] - 0s 21ms/step - loss: 0.1018 - mae: 0.1018\n",
            "Epoch 92/100\n",
            "1/1 [==============================] - 0s 20ms/step - loss: 0.2131 - mae: 0.2131\n",
            "Epoch 93/100\n",
            "1/1 [==============================] - 0s 10ms/step - loss: 0.1587 - mae: 0.1587\n",
            "Epoch 94/100\n",
            "1/1 [==============================] - 0s 25ms/step - loss: 0.2531 - mae: 0.2531\n",
            "Epoch 95/100\n",
            "1/1 [==============================] - 0s 18ms/step - loss: 0.3484 - mae: 0.3484\n",
            "Epoch 96/100\n",
            "1/1 [==============================] - 0s 21ms/step - loss: 0.2385 - mae: 0.2385\n",
            "Epoch 97/100\n",
            "1/1 [==============================] - 0s 11ms/step - loss: 0.1801 - mae: 0.1801\n",
            "Epoch 98/100\n",
            "1/1 [==============================] - 0s 12ms/step - loss: 0.1808 - mae: 0.1808\n",
            "Epoch 99/100\n",
            "1/1 [==============================] - 0s 17ms/step - loss: 0.0961 - mae: 0.0961\n",
            "Epoch 100/100\n",
            "1/1 [==============================] - 0s 13ms/step - loss: 0.0683 - mae: 0.0683\n"
          ]
        },
        {
          "output_type": "execute_result",
          "data": {
            "text/plain": [
              "<keras.callbacks.History at 0x7f3a8543fb10>"
            ]
          },
          "metadata": {},
          "execution_count": 32
        }
      ]
    },
    {
      "cell_type": "code",
      "source": [
        "X, y"
      ],
      "metadata": {
        "colab": {
          "base_uri": "https://localhost:8080/"
        },
        "id": "HRC4oRKtcyd9",
        "outputId": "b8c901cf-a9f8-4f87-97d8-6e89669a5ca4"
      },
      "execution_count": 33,
      "outputs": [
        {
          "output_type": "execute_result",
          "data": {
            "text/plain": [
              "(<tf.Tensor: shape=(8,), dtype=float32, numpy=array([-7., -4., -1.,  2.,  5.,  8., 11., 14.], dtype=float32)>,\n",
              " <tf.Tensor: shape=(8,), dtype=float32, numpy=array([ 3.,  6.,  9., 12., 15., 18., 21., 24.], dtype=float32)>)"
            ]
          },
          "metadata": {},
          "execution_count": 33
        }
      ]
    },
    {
      "cell_type": "code",
      "source": [
        "model.predict([17.0])"
      ],
      "metadata": {
        "colab": {
          "base_uri": "https://localhost:8080/"
        },
        "id": "M6xn873Wcy5R",
        "outputId": "dc9807fd-c7f0-4a3d-8d9a-942a5a4271e4"
      },
      "execution_count": 34,
      "outputs": [
        {
          "output_type": "execute_result",
          "data": {
            "text/plain": [
              "array([[27.489813]], dtype=float32)"
            ]
          },
          "metadata": {},
          "execution_count": 34
        }
      ]
    },
    {
      "cell_type": "markdown",
      "source": [
        "**Common ways to improve a deep model**\n",
        "* Adding layers\n",
        "* Increase the number of hidden units\n",
        "* Change the activation functions\n",
        "* Change the optimization function\n",
        "* Change the learning rate ***lr or learning_rate***\n",
        "* Fitting on more data\n",
        "* Fit for longer ***epochs***"
      ],
      "metadata": {
        "id": "aD13H8aZeMuV"
      }
    },
    {
      "cell_type": "markdown",
      "source": [
        "## Evaluating a model\n",
        "\n",
        "In practise, a typical workflow to go through when building neural networks is:\n",
        "\n",
        "```\n",
        "Build a model -> fit it -> evaluate it -> tweak a model -> fit it -> evaluate it -> tweak a model -> fit it -> evaluate it...\n",
        "```"
      ],
      "metadata": {
        "id": "nLnJdNJXdHrq"
      }
    },
    {
      "cell_type": "markdown",
      "source": [
        "When it comes to evaluation:\n",
        "> Visualize, Visualize, Visualize\n",
        "\n",
        "It's a good idea to visualize: \n",
        "* The data - what data are we working with? What does it look like?\n",
        "* The midel itself - what does our model look like?\n",
        "* The training of a model - how does a model perform while it learns?\n",
        "* The predictions of the model - how does the predictions of the model line up with the actual results (ground truth)?"
      ],
      "metadata": {
        "id": "pYsCBXB1djYm"
      }
    },
    {
      "cell_type": "code",
      "source": [
        "# Make a bigger dataset\n",
        "X = tf.range(-100, 100, 4)\n",
        "X"
      ],
      "metadata": {
        "colab": {
          "base_uri": "https://localhost:8080/"
        },
        "id": "2N2G1pp4gBaP",
        "outputId": "dd1e21ab-b2a8-4651-de33-83100cbd4a94"
      },
      "execution_count": 35,
      "outputs": [
        {
          "output_type": "execute_result",
          "data": {
            "text/plain": [
              "<tf.Tensor: shape=(50,), dtype=int32, numpy=\n",
              "array([-100,  -96,  -92,  -88,  -84,  -80,  -76,  -72,  -68,  -64,  -60,\n",
              "        -56,  -52,  -48,  -44,  -40,  -36,  -32,  -28,  -24,  -20,  -16,\n",
              "        -12,   -8,   -4,    0,    4,    8,   12,   16,   20,   24,   28,\n",
              "         32,   36,   40,   44,   48,   52,   56,   60,   64,   68,   72,\n",
              "         76,   80,   84,   88,   92,   96], dtype=int32)>"
            ]
          },
          "metadata": {},
          "execution_count": 35
        }
      ]
    },
    {
      "cell_type": "code",
      "source": [
        "# Make labels for the dataset\n",
        "y = X + 10\n",
        "y"
      ],
      "metadata": {
        "colab": {
          "base_uri": "https://localhost:8080/"
        },
        "id": "foeqsukpgZBO",
        "outputId": "f78e0402-d7fe-4949-da46-b87fe33fe942"
      },
      "execution_count": 36,
      "outputs": [
        {
          "output_type": "execute_result",
          "data": {
            "text/plain": [
              "<tf.Tensor: shape=(50,), dtype=int32, numpy=\n",
              "array([-90, -86, -82, -78, -74, -70, -66, -62, -58, -54, -50, -46, -42,\n",
              "       -38, -34, -30, -26, -22, -18, -14, -10,  -6,  -2,   2,   6,  10,\n",
              "        14,  18,  22,  26,  30,  34,  38,  42,  46,  50,  54,  58,  62,\n",
              "        66,  70,  74,  78,  82,  86,  90,  94,  98, 102, 106], dtype=int32)>"
            ]
          },
          "metadata": {},
          "execution_count": 36
        }
      ]
    },
    {
      "cell_type": "code",
      "source": [
        "# Visualize the data\n",
        "import matplotlib.pyplot as plt\n",
        "plt.scatter(X, y)"
      ],
      "metadata": {
        "colab": {
          "base_uri": "https://localhost:8080/",
          "height": 283
        },
        "id": "ox_e4VDekuPF",
        "outputId": "65c4b2b3-3e3c-48d2-91f1-cb7b5c1b0e29"
      },
      "execution_count": 37,
      "outputs": [
        {
          "output_type": "execute_result",
          "data": {
            "text/plain": [
              "<matplotlib.collections.PathCollection at 0x7f3a852f1bd0>"
            ]
          },
          "metadata": {},
          "execution_count": 37
        },
        {
          "output_type": "display_data",
          "data": {
            "text/plain": [
              "<Figure size 432x288 with 1 Axes>"
            ],
            "image/png": "[encoded data removed]"
          },
          "metadata": {
            "needs_background": "light"
          }
        }
      ]
    },
    {
      "cell_type": "markdown",
      "source": [
        "### The 3 sets...\n",
        "\n",
        "* **Training set** - the model learns from this data, which is typically 70% - 80% of total data\n",
        "* **Validation set** - the model gets tuned on this data which is typically 10% - 15% of data available\n",
        "* **Test set** - the model gets evaluated on this data to test what it has learned, this set is typically 10% - 15% of the total data available"
      ],
      "metadata": {
        "id": "ZKdhj5iLk4vc"
      }
    },
    {
      "cell_type": "code",
      "source": [
        "# Check the length of how many sampes we have\n",
        "len(X)"
      ],
      "metadata": {
        "colab": {
          "base_uri": "https://localhost:8080/"
        },
        "id": "zAyJ9O4mlecx",
        "outputId": "1deec9f0-b630-4c98-e7ca-cb5418b8b20f"
      },
      "execution_count": 38,
      "outputs": [
        {
          "output_type": "execute_result",
          "data": {
            "text/plain": [
              "50"
            ]
          },
          "metadata": {},
          "execution_count": 38
        }
      ]
    },
    {
      "cell_type": "code",
      "source": [
        "# Split the data into train and test sets\n",
        "X_train = X[:40] # first 40 training samples (80% of the data)\n",
        "y_train = y[:40]\n",
        "\n",
        "X_test = X[40:] # last 10 testing samples (20% of the data)\n",
        "y_test = y[40:]\n",
        "\n",
        "len(X_train), len(X_test), len(y_train), len(y_test)"
      ],
      "metadata": {
        "colab": {
          "base_uri": "https://localhost:8080/"
        },
        "id": "mn9tSRNLmIkd",
        "outputId": "c5d24fe0-90be-4e66-f1b6-820c783d2c56"
      },
      "execution_count": 39,
      "outputs": [
        {
          "output_type": "execute_result",
          "data": {
            "text/plain": [
              "(40, 10, 40, 10)"
            ]
          },
          "metadata": {},
          "execution_count": 39
        }
      ]
    },
    {
      "cell_type": "markdown",
      "source": [
        "### Visualize the data"
      ],
      "metadata": {
        "id": "qy_eSBeSms49"
      }
    },
    {
      "cell_type": "code",
      "source": [
        "plt.figure(figsize=(10, 7))\n",
        "\n",
        "# Plot training data in blue\n",
        "plt.scatter(X_train, y_train, c=\"b\", label=\"Training data\")\n",
        "\n",
        "# Plot test data in green\n",
        "plt.scatter(X_test, y_test, c=\"g\", label=\"Testing data\")\n",
        "\n",
        "# Show a legend\n",
        "plt.legend()"
      ],
      "metadata": {
        "colab": {
          "base_uri": "https://localhost:8080/",
          "height": 446
        },
        "id": "xNmbTSZJnAv-",
        "outputId": "9cfcaec0-0e7b-49a4-d54d-b361a33e2336"
      },
      "execution_count": 40,
      "outputs": [
        {
          "output_type": "execute_result",
          "data": {
            "text/plain": [
              "<matplotlib.legend.Legend at 0x7f3a8529bf90>"
            ]
          },
          "metadata": {},
          "execution_count": 40
        },
        {
          "output_type": "display_data",
          "data": {
            "text/plain": [
              "<Figure size 720x504 with 1 Axes>"
            ],
            "image/png": "[encoded data removed]"
          },
          "metadata": {
            "needs_background": "light"
          }
        }
      ]
    },
    {
      "cell_type": "code",
      "source": [
        "# Building neural network for our data\n",
        "\n",
        "# 1. Create a model\n",
        "model = tf.keras.Sequential([\n",
        "  tf.keras.layers.Dense(1, input_shape=[1])\n",
        "])\n",
        "\n",
        "# 2. Compile the model\n",
        "model.compile(loss=tf.keras.losses.mae,\n",
        "              optimizer=tf.keras.optimizers.SGD(),\n",
        "              metrics=[\"mae\"])\n",
        "\n",
        "# 3. Fit the model\n",
        "# model.fit(X_train, y_train, epochs=100)"
      ],
      "metadata": {
        "id": "7bHDoNa-nYgu"
      },
      "execution_count": 41,
      "outputs": []
    },
    {
      "cell_type": "markdown",
      "source": [
        "## Visualizing the model"
      ],
      "metadata": {
        "id": "ZXVV8Mw2ofJw"
      }
    },
    {
      "cell_type": "code",
      "source": [
        "model.summary()"
      ],
      "metadata": {
        "colab": {
          "base_uri": "https://localhost:8080/"
        },
        "id": "RCv7_YJYoh6_",
        "outputId": "9721a154-f916-423c-d38b-64a5df277819"
      },
      "execution_count": 42,
      "outputs": [
        {
          "output_type": "stream",
          "name": "stdout",
          "text": [
            "Model: \"sequential_7\"\n",
            "_________________________________________________________________\n",
            " Layer (type)                Output Shape              Param #   \n",
            "=================================================================\n",
            " dense_16 (Dense)            (None, 1)                 2         \n",
            "                                                                 \n",
            "=================================================================\n",
            "Total params: 2\n",
            "Trainable params: 2\n",
            "Non-trainable params: 0\n",
            "_________________________________________________________________\n"
          ]
        }
      ]
    },
    {
      "cell_type": "markdown",
      "source": [
        "* Total params - total number of parameters in the model.\n",
        "* Trainable parameters - these are the parameters (patterns) the model can update as it trains.\n",
        "* Non-trainable params - these parameters aren't updated during training (this is typical when parameters are imported from other models during **transfer learning**\n",
        "\n",
        "***MIT introduction to deep learning***"
      ],
      "metadata": {
        "id": "yUJVm0beokEF"
      }
    },
    {
      "cell_type": "code",
      "source": [
        "tf.random.set_seed(42)\n",
        "\n",
        "model_1 = tf.keras.Sequential([\n",
        "  tf.keras.layers.Dense(10, input_shape=[1], name=\"top_layer\"),\n",
        "  tf.keras.layers.Dense(1, name=\"output_layer\"),\n",
        "], name=\"model_1\")\n",
        "\n",
        "# 2. Compile the model\n",
        "model_1.compile(loss=tf.keras.losses.mae,\n",
        "              optimizer=tf.keras.optimizers.SGD(),\n",
        "              metrics=[\"mae\"])"
      ],
      "metadata": {
        "id": "G-vLK6Qvvmda"
      },
      "execution_count": 43,
      "outputs": []
    },
    {
      "cell_type": "code",
      "source": [
        "# Fit model\n",
        "model_1.fit(X_train, y_train, epochs=100, verbose=0)"
      ],
      "metadata": {
        "colab": {
          "base_uri": "https://localhost:8080/"
        },
        "id": "rF28XJ9XpFY_",
        "outputId": "a14f26d0-78ea-4cd6-c051-101bcad578ad"
      },
      "execution_count": 44,
      "outputs": [
        {
          "output_type": "execute_result",
          "data": {
            "text/plain": [
              "<keras.callbacks.History at 0x7f3a8805c050>"
            ]
          },
          "metadata": {},
          "execution_count": 44
        }
      ]
    },
    {
      "cell_type": "code",
      "source": [
        "# Get a summary of model\n",
        "model_1.summary()"
      ],
      "metadata": {
        "colab": {
          "base_uri": "https://localhost:8080/"
        },
        "id": "TXOOkISJrrbt",
        "outputId": "61db5260-c3ea-4624-ecc9-f20750739641"
      },
      "execution_count": 45,
      "outputs": [
        {
          "output_type": "stream",
          "name": "stdout",
          "text": [
            "Model: \"model_1\"\n",
            "_________________________________________________________________\n",
            " Layer (type)                Output Shape              Param #   \n",
            "=================================================================\n",
            " top_layer (Dense)           (None, 10)                20        \n",
            "                                                                 \n",
            " output_layer (Dense)        (None, 1)                 11        \n",
            "                                                                 \n",
            "=================================================================\n",
            "Total params: 31\n",
            "Trainable params: 31\n",
            "Non-trainable params: 0\n",
            "_________________________________________________________________\n"
          ]
        }
      ]
    },
    {
      "cell_type": "code",
      "source": [
        "from tensorflow.keras.utils import plot_model\n",
        "\n",
        "plot_model(model=model_1)"
      ],
      "metadata": {
        "colab": {
          "base_uri": "https://localhost:8080/",
          "height": 272
        },
        "id": "45FiZFZyr_1N",
        "outputId": "d1705db4-7b5c-4638-b477-a6e3f6c03a30"
      },
      "execution_count": 46,
      "outputs": [
        {
          "output_type": "execute_result",
          "data": {
            "text/plain": [
              "<IPython.core.display.Image object>"
            ],
            "image/png": "[encoded data removed]"
          },
          "metadata": {},
          "execution_count": 46
        }
      ]
    },
    {
      "cell_type": "code",
      "source": [
        "plot_model(model=model_1, show_shapes=True)"
      ],
      "metadata": {
        "colab": {
          "base_uri": "https://localhost:8080/",
          "height": 312
        },
        "id": "Inxejw8OvGxx",
        "outputId": "875b42fa-0d7e-4989-9c79-ad649c6874aa"
      },
      "execution_count": 47,
      "outputs": [
        {
          "output_type": "execute_result",
          "data": {
            "text/plain": [
              "<IPython.core.display.Image object>"
            ],
            "image/png": "[encoded data removed]"
          },
          "metadata": {},
          "execution_count": 47
        }
      ]
    },
    {
      "cell_type": "markdown",
      "source": [
        "### Visualizing our model's prediction\n",
        "\n",
        "To visualize predictions, it's a good idea to plot them against the ground truth labels.\n",
        "\n",
        "This can often be seen in form of `y_test` or `y_true` versus `y_pred` (ground truth versus the model's predictions)"
      ],
      "metadata": {
        "id": "LRPL9QpPvW-2"
      }
    },
    {
      "cell_type": "code",
      "source": [
        "# Make some predictions\n",
        "y_pred_1 = model_1.predict(X_test)\n",
        "y_pred_1"
      ],
      "metadata": {
        "colab": {
          "base_uri": "https://localhost:8080/"
        },
        "id": "SzR5nYIuwjZU",
        "outputId": "586cb7d9-5c19-4741-f6a5-7c873de17c37"
      },
      "execution_count": 48,
      "outputs": [
        {
          "output_type": "execute_result",
          "data": {
            "text/plain": [
              "array([[ 70.55218 ],\n",
              "       [ 75.13991 ],\n",
              "       [ 79.72763 ],\n",
              "       [ 84.31535 ],\n",
              "       [ 88.903076],\n",
              "       [ 93.49081 ],\n",
              "       [ 98.07853 ],\n",
              "       [102.66625 ],\n",
              "       [107.253975],\n",
              "       [111.8417  ]], dtype=float32)"
            ]
          },
          "metadata": {},
          "execution_count": 48
        }
      ]
    },
    {
      "cell_type": "code",
      "source": [
        "y_test"
      ],
      "metadata": {
        "colab": {
          "base_uri": "https://localhost:8080/"
        },
        "id": "cOTiGUCyxnRL",
        "outputId": "3a83e8cc-0fa3-433c-ce07-866b884aed88"
      },
      "execution_count": 49,
      "outputs": [
        {
          "output_type": "execute_result",
          "data": {
            "text/plain": [
              "<tf.Tensor: shape=(10,), dtype=int32, numpy=array([ 70,  74,  78,  82,  86,  90,  94,  98, 102, 106], dtype=int32)>"
            ]
          },
          "metadata": {},
          "execution_count": 49
        }
      ]
    },
    {
      "cell_type": "code",
      "source": [
        "# Create a plotting function\n",
        "def plot_predictions(train_data=X_train,\n",
        "                     train_labels=y_train,\n",
        "                     test_data=X_test,\n",
        "                     test_labels=y_test,\n",
        "                     predictions=y_pred):\n",
        "  plt.figure(figsize=(10,7))\n",
        "  \n",
        "  # Plot training data in blue\n",
        "  plt.scatter(train_data, train_labels, c=\"b\", label=\"Training data\")\n",
        "\n",
        "  # Plot testing data in green\n",
        "  plt.scatter(test_data, test_labels, c=\"g\", label=\"Testing data\")\n",
        "\n",
        "  # Plot model's predictions in red\n",
        "  plt.scatter(test_data, predictions, c=\"r\", label=\"Predictions\")\n",
        "\n",
        "  # Show legend\n",
        "  plt.legend()"
      ],
      "metadata": {
        "id": "Au-EgQXqxpq9"
      },
      "execution_count": 50,
      "outputs": []
    },
    {
      "cell_type": "code",
      "source": [
        "plot_predictions(train_data=X_train,\n",
        "                 train_labels=y_train,\n",
        "                 test_data=X_test,\n",
        "                 test_labels=y_test,\n",
        "                 predictions=y_pred_1)"
      ],
      "metadata": {
        "colab": {
          "base_uri": "https://localhost:8080/",
          "height": 428
        },
        "id": "DW9mejJBywYh",
        "outputId": "e0d5f72c-5efb-4790-b141-8b26a2625445"
      },
      "execution_count": 51,
      "outputs": [
        {
          "output_type": "display_data",
          "data": {
            "text/plain": [
              "<Figure size 720x504 with 1 Axes>"
            ],
            "image/png": "[encoded data removed]"
          },
          "metadata": {
            "needs_background": "light"
          }
        }
      ]
    },
    {
      "cell_type": "code",
      "source": [
        "def mae(y_true=y_test, y_pred=y_pred):\n",
        "  return tf.metrics.mean_absolute_error(y_true=y_test, y_pred=tf.squeeze(y_pred)).numpy()\n",
        "\n",
        "def mse(y_true=y_test, y_pred=y_pred):\n",
        "  return tf.metrics.mean_squared_error(y_true=y_test, y_pred=tf.squeeze(y_pred)).numpy()"
      ],
      "metadata": {
        "id": "DbbrkL4_RdJw"
      },
      "execution_count": 86,
      "outputs": []
    },
    {
      "cell_type": "code",
      "source": [
        "mae_1 = mae(y_pred=y_pred_1)\n",
        "mse_1 = mse(y_pred=y_pred_1)\n",
        "\n",
        "mae_1, mse_1"
      ],
      "metadata": {
        "colab": {
          "base_uri": "https://localhost:8080/"
        },
        "id": "7hmplQeMSL5M",
        "outputId": "2b8ec23f-d8b1-442f-e09f-1326736ed38b"
      },
      "execution_count": 87,
      "outputs": [
        {
          "output_type": "execute_result",
          "data": {
            "text/plain": [
              "(3.1969407, 13.070143)"
            ]
          },
          "metadata": {},
          "execution_count": 87
        }
      ]
    },
    {
      "cell_type": "code",
      "source": [
        "# Change learning rate and optimizer and test accuracy\n",
        "model_2 = tf.keras.Sequential([\n",
        "  tf.keras.layers.Dense(10, input_shape=[1]),\n",
        "  tf.keras.layers.Dense(1)\n",
        "])\n",
        "model_2.compile(loss=tf.keras.losses.mae,\n",
        "              optimizer=tf.keras.optimizers.Adam(lr=0.021),\n",
        "              metrics=[\"mae\"])\n",
        "model_2.fit(X_train, y_train, epochs=50, verbose=0)\n",
        "\n",
        "y_pred_2 = model_2.predict(X_test)\n",
        "\n",
        "plot_predictions(train_data=X_train,\n",
        "                 train_labels=y_train,\n",
        "                 test_data=X_test,\n",
        "                 test_labels=y_test,\n",
        "                 predictions=y_pred_2)"
      ],
      "metadata": {
        "colab": {
          "base_uri": "https://localhost:8080/",
          "height": 465
        },
        "id": "H9YRkCtUzw3A",
        "outputId": "dd8e3415-d2ee-40ff-fd93-0c7c42e43f2d"
      },
      "execution_count": 88,
      "outputs": [
        {
          "output_type": "stream",
          "name": "stderr",
          "text": [
            "/usr/local/lib/python3.7/dist-packages/keras/optimizer_v2/adam.py:105: UserWarning: The `lr` argument is deprecated, use `learning_rate` instead.\n",
            "  super(Adam, self).__init__(name, **kwargs)\n"
          ]
        },
        {
          "output_type": "display_data",
          "data": {
            "text/plain": [
              "<Figure size 720x504 with 1 Axes>"
            ],
            "image/png": "[encoded data removed]"
          },
          "metadata": {
            "needs_background": "light"
          }
        }
      ]
    },
    {
      "cell_type": "code",
      "source": [
        "y_test, y_pred"
      ],
      "metadata": {
        "colab": {
          "base_uri": "https://localhost:8080/"
        },
        "id": "nuF4W_yZ1LWe",
        "outputId": "e0a33ce7-d8b7-4b85-d0d3-fc5c6aca8e66"
      },
      "execution_count": 89,
      "outputs": [
        {
          "output_type": "execute_result",
          "data": {
            "text/plain": [
              "(<tf.Tensor: shape=(10,), dtype=int32, numpy=array([ 70,  74,  78,  82,  86,  90,  94,  98, 102, 106], dtype=int32)>,\n",
              " array([[12.716021]], dtype=float32))"
            ]
          },
          "metadata": {},
          "execution_count": 89
        }
      ]
    },
    {
      "cell_type": "code",
      "source": [
        "mae_2 = mae(y_pred=y_pred_2)\n",
        "mse_2 = mse(y_pred=y_pred_2)\n",
        "mae_2, mse_2"
      ],
      "metadata": {
        "colab": {
          "base_uri": "https://localhost:8080/"
        },
        "id": "x0Qkuio0Spe_",
        "outputId": "74165441-b556-4e7b-8ee7-119f597ef72c"
      },
      "execution_count": 90,
      "outputs": [
        {
          "output_type": "execute_result",
          "data": {
            "text/plain": [
              "(4.4254446, 20.069864)"
            ]
          },
          "metadata": {},
          "execution_count": 90
        }
      ]
    },
    {
      "cell_type": "markdown",
      "source": [
        "### Evaluting our model's prediction with regression evaluation metrics\n",
        "\n",
        "Depending on the problem there will be different evalution metrics to evalute model's performance.\n",
        "\n",
        "Since we're working on a regression, two of the main metrics:\n",
        "* MAE - mean absolute error, \"on an average, how wrong is each of the model's predictions\"\n",
        "* MSE - mean square error, \"square the errors and average them\"\n",
        "\n",
        "\n",
        "**MAE**\n",
        "> As a great starter metric for any regression problem\n",
        "\n",
        "> ( ∑ | y_test - y_pred | ) / n\n",
        "\n",
        "**MSE**\n",
        "> When larger errors are more significant than smaller errors\n",
        "\n",
        "> [ ∑ square( y_test - y_pred ) ] / n\n",
        "\n",
        "**Huber**\n",
        "> Combination of MSE and MAE. Less sensitive outliers than MSE\n"
      ],
      "metadata": {
        "id": "qfqrfccYyznK"
      }
    },
    {
      "cell_type": "code",
      "source": [
        "# Evaluate the model on the test set\n",
        "model.evaluate(y_test, y_pred_1)\n",
        "\n",
        "# output: loss, mae"
      ],
      "metadata": {
        "colab": {
          "base_uri": "https://localhost:8080/"
        },
        "id": "RlAlbA2fzQzO",
        "outputId": "328c89bc-12ce-4553-879d-bb38105e012c"
      },
      "execution_count": 91,
      "outputs": [
        {
          "output_type": "stream",
          "name": "stdout",
          "text": [
            "1/1 [==============================] - 0s 19ms/step - loss: 65.2100 - mae: 65.2100\n"
          ]
        },
        {
          "output_type": "execute_result",
          "data": {
            "text/plain": [
              "[65.21000671386719, 65.21000671386719]"
            ]
          },
          "metadata": {},
          "execution_count": 91
        }
      ]
    },
    {
      "cell_type": "code",
      "source": [
        "# Calculate the mean absolute error\n",
        "# tf.keras.losses.MAE(y_test, y_pred)\n",
        "\n",
        "mae_test = tf.metrics.mean_absolute_error(y_true=y_test, y_pred=tf.constant(y_pred_2))\n",
        "mae_test"
      ],
      "metadata": {
        "colab": {
          "base_uri": "https://localhost:8080/"
        },
        "id": "YRsDHEsA5IY8",
        "outputId": "9c33ffa2-e5e2-41a4-b490-a3abb4e4fa7b"
      },
      "execution_count": 92,
      "outputs": [
        {
          "output_type": "execute_result",
          "data": {
            "text/plain": [
              "<tf.Tensor: shape=(10,), dtype=float32, numpy=\n",
              "array([15.332782, 12.654063, 10.87236 , 10.      , 10.060835, 11.018686,\n",
              "       12.873548, 15.625427, 19.274338, 23.516861], dtype=float32)>"
            ]
          },
          "metadata": {},
          "execution_count": 92
        }
      ]
    },
    {
      "cell_type": "code",
      "source": [
        "tf.constant(y_pred_2)"
      ],
      "metadata": {
        "colab": {
          "base_uri": "https://localhost:8080/"
        },
        "id": "zg0jiwF345Cm",
        "outputId": "ea3ff1ed-2220-423d-a518-8681119747f1"
      },
      "execution_count": 93,
      "outputs": [
        {
          "output_type": "execute_result",
          "data": {
            "text/plain": [
              "<tf.Tensor: shape=(10, 1), dtype=float32, numpy=\n",
              "array([[ 73.33402 ],\n",
              "       [ 77.57656 ],\n",
              "       [ 81.8191  ],\n",
              "       [ 86.061646],\n",
              "       [ 90.30418 ],\n",
              "       [ 94.546715],\n",
              "       [ 98.789246],\n",
              "       [103.031784],\n",
              "       [107.27434 ],\n",
              "       [111.51686 ]], dtype=float32)>"
            ]
          },
          "metadata": {},
          "execution_count": 93
        }
      ]
    },
    {
      "cell_type": "code",
      "source": [
        "y_test"
      ],
      "metadata": {
        "colab": {
          "base_uri": "https://localhost:8080/"
        },
        "id": "N1kDyD2J5E_I",
        "outputId": "5e5282ba-636d-4f4a-a643-a0dd2e968cff"
      },
      "execution_count": 94,
      "outputs": [
        {
          "output_type": "execute_result",
          "data": {
            "text/plain": [
              "<tf.Tensor: shape=(10,), dtype=int32, numpy=array([ 70,  74,  78,  82,  86,  90,  94,  98, 102, 106], dtype=int32)>"
            ]
          },
          "metadata": {},
          "execution_count": 94
        }
      ]
    },
    {
      "cell_type": "code",
      "source": [
        "tf.squeeze(y_pred_2)"
      ],
      "metadata": {
        "colab": {
          "base_uri": "https://localhost:8080/"
        },
        "id": "9M5QIaeW5Fiv",
        "outputId": "bcc1cae6-20c3-4151-c71a-a0e66d11dd7e"
      },
      "execution_count": 95,
      "outputs": [
        {
          "output_type": "execute_result",
          "data": {
            "text/plain": [
              "<tf.Tensor: shape=(10,), dtype=float32, numpy=\n",
              "array([ 73.33402 ,  77.57656 ,  81.8191  ,  86.061646,  90.30418 ,\n",
              "        94.546715,  98.789246, 103.031784, 107.27434 , 111.51686 ],\n",
              "      dtype=float32)>"
            ]
          },
          "metadata": {},
          "execution_count": 95
        }
      ]
    },
    {
      "cell_type": "code",
      "source": [
        "# Calaculate the MAE\n",
        "mae_test = tf.metrics.mean_absolute_error(y_true=y_test, y_pred=tf.squeeze(y_pred_2))\n",
        "mae_test"
      ],
      "metadata": {
        "colab": {
          "base_uri": "https://localhost:8080/"
        },
        "id": "SPHVgNCQ6g6S",
        "outputId": "27129de9-aa9b-4ce8-995f-482e37e31da4"
      },
      "execution_count": 96,
      "outputs": [
        {
          "output_type": "execute_result",
          "data": {
            "text/plain": [
              "<tf.Tensor: shape=(), dtype=float32, numpy=4.4254446>"
            ]
          },
          "metadata": {},
          "execution_count": 96
        }
      ]
    },
    {
      "cell_type": "code",
      "source": [
        "# Calculate the MSE\n",
        "mse_test = tf.metrics.mean_squared_error(y_true=y_test, y_pred=tf.squeeze(y_pred_2))\n",
        "mse_test"
      ],
      "metadata": {
        "colab": {
          "base_uri": "https://localhost:8080/"
        },
        "id": "MKglGIkn6uup",
        "outputId": "7355ad21-4321-4db4-c432-fc51468ff2eb"
      },
      "execution_count": 97,
      "outputs": [
        {
          "output_type": "execute_result",
          "data": {
            "text/plain": [
              "<tf.Tensor: shape=(), dtype=float32, numpy=20.069864>"
            ]
          },
          "metadata": {},
          "execution_count": 97
        }
      ]
    },
    {
      "cell_type": "code",
      "source": [
        "# Make some functions to reuse MAE and MSE\n",
        "# def mae(y_true, y_pred):\n",
        "#   return tf.metrics.mean_absolute_error(y_true=y_true, y_pred=y_pred)\n",
        "  \n",
        "# def mse(y_true, y_pred):\n",
        "#   return tf.metric.mean_squared_error(y_true=y_true, y_pred=y_pred)"
      ],
      "metadata": {
        "id": "8Tl5a4EZ7zdp"
      },
      "execution_count": 98,
      "outputs": []
    },
    {
      "cell_type": "markdown",
      "source": [
        "### Running experiments to improve our model\n",
        "\n",
        "```\n",
        "Build a model -> fit it -> evaluate it -> tweak it -> fit it -> evaluate it...\n",
        "```\n",
        "\n",
        "1. Get more data - get more examples for model to train (more opportunities to learn patterns or relationships between features and labels).\n",
        "\n",
        "2. Make the model larger (using a more complex model) - this might come in the form of more layers or more hidden units in each layer\n",
        "\n",
        "3. Train for longer - give the model more of a chance to find patterns in the data\n",
        "\n",
        "\n",
        "Let's do 3 modelling experiments:\n",
        "\n",
        "1. `model_1` - same as the original model, 1 layer, trained for 100 epochs\n",
        "\n",
        "2. `model_2` - 2 layers, trained for 100 epochs\n",
        "\n",
        "3. `model_3` - 2 layers, trained for 500 epochs"
      ],
      "metadata": {
        "id": "74c4cau0yCw5"
      }
    },
    {
      "cell_type": "code",
      "source": [
        "# Create the model\n",
        "\n",
        "model_3 = tf.keras.Sequential([\n",
        "  tf.keras.layers.Dense(100, input_shape=[1]),\n",
        "  tf.keras.layers.Dense(1)\n",
        "])\n",
        "model_3.compile(\n",
        "    loss=tf.keras.losses.mae,\n",
        "    optimizer=tf.keras.optimizers.SGD(),\n",
        "    metrics=[\"mae\"]\n",
        ")\n",
        "model_3.fit(X_train, y_train, epochs=500, verbose=0)\n",
        "\n",
        "y_pred_3 = model_3.predict(X_test)\n",
        "\n",
        "plot_predictions(train_data=X_train,\n",
        "                 train_labels=y_train,\n",
        "                 test_data=X_test,\n",
        "                 test_labels=y_test,\n",
        "                 predictions=y_pred_3)\n",
        "\n"
      ],
      "metadata": {
        "colab": {
          "base_uri": "https://localhost:8080/",
          "height": 428
        },
        "id": "0tzVs9eEzmyp",
        "outputId": "4915e6ed-052f-4c34-a7d3-d16313cde1c9"
      },
      "execution_count": 99,
      "outputs": [
        {
          "output_type": "display_data",
          "data": {
            "text/plain": [
              "<Figure size 720x504 with 1 Axes>"
            ],
            "image/png": "[encoded data removed]"
          },
          "metadata": {
            "needs_background": "light"
          }
        }
      ]
    },
    {
      "cell_type": "code",
      "source": [
        "X_test, y_test"
      ],
      "metadata": {
        "colab": {
          "base_uri": "https://localhost:8080/"
        },
        "id": "SJvja2UX1OB1",
        "outputId": "c587a88e-889b-4bde-8ebf-f072ffcc8e7d"
      },
      "execution_count": 100,
      "outputs": [
        {
          "output_type": "execute_result",
          "data": {
            "text/plain": [
              "(<tf.Tensor: shape=(10,), dtype=int32, numpy=array([60, 64, 68, 72, 76, 80, 84, 88, 92, 96], dtype=int32)>,\n",
              " <tf.Tensor: shape=(10,), dtype=int32, numpy=array([ 70,  74,  78,  82,  86,  90,  94,  98, 102, 106], dtype=int32)>)"
            ]
          },
          "metadata": {},
          "execution_count": 100
        }
      ]
    },
    {
      "cell_type": "code",
      "source": [
        "y_pred"
      ],
      "metadata": {
        "colab": {
          "base_uri": "https://localhost:8080/"
        },
        "id": "3AkdG2Uu1b8w",
        "outputId": "0d3dc9a5-7b25-4c1b-9f85-80f183cc85c0"
      },
      "execution_count": 101,
      "outputs": [
        {
          "output_type": "execute_result",
          "data": {
            "text/plain": [
              "array([[12.716021]], dtype=float32)"
            ]
          },
          "metadata": {},
          "execution_count": 101
        }
      ]
    },
    {
      "cell_type": "code",
      "source": [
        "mae_3 = mae(y_pred=y_pred_3)\n",
        "mse_3 = mse(y_pred=y_pred_3)\n",
        "\n",
        "mae_3, mse_3"
      ],
      "metadata": {
        "colab": {
          "base_uri": "https://localhost:8080/"
        },
        "id": "5Sd27qAyTTeV",
        "outputId": "986415ff-f383-49d8-f508-43ec9f1e744d"
      },
      "execution_count": 102,
      "outputs": [
        {
          "output_type": "execute_result",
          "data": {
            "text/plain": [
              "(67.43527, 4631.048)"
            ]
          },
          "metadata": {},
          "execution_count": 102
        }
      ]
    },
    {
      "cell_type": "markdown",
      "source": [
        "## Comapring the results of experiments"
      ],
      "metadata": {
        "id": "dC_7GPA01dc6"
      }
    },
    {
      "cell_type": "code",
      "source": [
        "import pandas as pd\n",
        "\n",
        "model_results = [[\"model_1\", mae_1, mse_1],\n",
        "                 [\"model_2\", mae_2, mse_2],\n",
        "                 [\"model_3\", mae_3, mse_3]]\n",
        "\n",
        "all_results = pd.DataFrame(model_results, columns=[\"model\", \"mae\", \"mse\"])\n",
        "all_results"
      ],
      "metadata": {
        "colab": {
          "base_uri": "https://localhost:8080/",
          "height": 143
        },
        "id": "Kz6xrv8EQeSA",
        "outputId": "b72c219c-e5a0-4df9-f6d4-8479d7a37563"
      },
      "execution_count": 103,
      "outputs": [
        {
          "output_type": "execute_result",
          "data": {
            "text/plain": [
              "     model        mae          mse\n",
              "0  model_1   3.196941    13.070143\n",
              "1  model_2   4.425445    20.069864\n",
              "2  model_3  67.435272  4631.047852"
            ],
            "text/html": [
              "\n",
              "  <div id=\"df-4126242b-54ac-4a8e-80f6-6a728e1276d6\">\n",
              "    <div class=\"colab-df-container\">\n",
              "      <div>\n",
              "<style scoped>\n",
              "    .dataframe tbody tr th:only-of-type {\n",
              "        vertical-align: middle;\n",
              "    }\n",
              "\n",
              "    .dataframe tbody tr th {\n",
              "        vertical-align: top;\n",
              "    }\n",
              "\n",
              "    .dataframe thead th {\n",
              "        text-align: right;\n",
              "    }\n",
              "</style>\n",
              "<table border=\"1\" class=\"dataframe\">\n",
              "  <thead>\n",
              "    <tr style=\"text-align: right;\">\n",
              "      <th></th>\n",
              "      <th>model</th>\n",
              "      <th>mae</th>\n",
              "      <th>mse</th>\n",
              "    </tr>\n",
              "  </thead>\n",
              "  <tbody>\n",
              "    <tr>\n",
              "      <th>0</th>\n",
              "      <td>model_1</td>\n",
              "      <td>3.196941</td>\n",
              "      <td>13.070143</td>\n",
              "    </tr>\n",
              "    <tr>\n",
              "      <th>1</th>\n",
              "      <td>model_2</td>\n",
              "      <td>4.425445</td>\n",
              "      <td>20.069864</td>\n",
              "    </tr>\n",
              "    <tr>\n",
              "      <th>2</th>\n",
              "      <td>model_3</td>\n",
              "      <td>67.435272</td>\n",
              "      <td>4631.047852</td>\n",
              "    </tr>\n",
              "  </tbody>\n",
              "</table>\n",
              "</div>\n",
              "      <button class=\"colab-df-convert\" onclick=\"convertToInteractive('df-4126242b-54ac-4a8e-80f6-6a728e1276d6')\"\n",
              "              title=\"Convert this dataframe to an interactive table.\"\n",
              "              style=\"display:none;\">\n",
              "        \n",
              "  <svg xmlns=\"http://www.w3.org/2000/svg\" height=\"24px\"viewBox=\"0 0 24 24\"\n",
              "       width=\"24px\">\n",
              "    <path d=\"M0 0h24v24H0V0z\" fill=\"none\"/>\n",
              "    <path d=\"M18.56 5.44l.94 2.06.94-2.06 2.06-.94-2.06-.94-.94-2.06-.94 2.06-2.06.94zm-11 1L8.5 8.5l.94-2.06 2.06-.94-2.06-.94L8.5 2.5l-.94 2.06-2.06.94zm10 10l.94 2.06.94-2.06 2.06-.94-2.06-.94-.94-2.06-.94 2.06-2.06.94z\"/><path d=\"M17.41 7.96l-1.37-1.37c-.4-.4-.92-.59-1.43-.59-.52 0-1.04.2-1.43.59L10.3 9.45l-7.72 7.72c-.78.78-.78 2.05 0 2.83L4 21.41c.39.39.9.59 1.41.59.51 0 1.02-.2 1.41-.59l7.78-7.78 2.81-2.81c.8-.78.8-2.07 0-2.86zM5.41 20L4 18.59l7.72-7.72 1.47 1.35L5.41 20z\"/>\n",
              "  </svg>\n",
              "      </button>\n",
              "      \n",
              "  <style>\n",
              "    .colab-df-container {\n",
              "      display:flex;\n",
              "      flex-wrap:wrap;\n",
              "      gap: 12px;\n",
              "    }\n",
              "\n",
              "    .colab-df-convert {\n",
              "      background-color: #E8F0FE;\n",
              "      border: none;\n",
              "      border-radius: 50%;\n",
              "      cursor: pointer;\n",
              "      display: none;\n",
              "      fill: #1967D2;\n",
              "      height: 32px;\n",
              "      padding: 0 0 0 0;\n",
              "      width: 32px;\n",
              "    }\n",
              "\n",
              "    .colab-df-convert:hover {\n",
              "      background-color: #E2EBFA;\n",
              "      box-shadow: 0px 1px 2px rgba(60, 64, 67, 0.3), 0px 1px 3px 1px rgba(60, 64, 67, 0.15);\n",
              "      fill: #174EA6;\n",
              "    }\n",
              "\n",
              "    [theme=dark] .colab-df-convert {\n",
              "      background-color: #3B4455;\n",
              "      fill: #D2E3FC;\n",
              "    }\n",
              "\n",
              "    [theme=dark] .colab-df-convert:hover {\n",
              "      background-color: #434B5C;\n",
              "      box-shadow: 0px 1px 3px 1px rgba(0, 0, 0, 0.15);\n",
              "      filter: drop-shadow(0px 1px 2px rgba(0, 0, 0, 0.3));\n",
              "      fill: #FFFFFF;\n",
              "    }\n",
              "  </style>\n",
              "\n",
              "      <script>\n",
              "        const buttonEl =\n",
              "          document.querySelector('#df-4126242b-54ac-4a8e-80f6-6a728e1276d6 button.colab-df-convert');\n",
              "        buttonEl.style.display =\n",
              "          google.colab.kernel.accessAllowed ? 'block' : 'none';\n",
              "\n",
              "        async function convertToInteractive(key) {\n",
              "          const element = document.querySelector('#df-4126242b-54ac-4a8e-80f6-6a728e1276d6');\n",
              "          const dataTable =\n",
              "            await google.colab.kernel.invokeFunction('convertToInteractive',\n",
              "                                                     [key], {});\n",
              "          if (!dataTable) return;\n",
              "\n",
              "          const docLinkHtml = 'Like what you see? Visit the ' +\n",
              "            '<a target=\"_blank\" href=https://colab.research.google.com/notebooks/data_table.ipynb>data table notebook</a>'\n",
              "            + ' to learn more about interactive tables.';\n",
              "          element.innerHTML = '';\n",
              "          dataTable['output_type'] = 'display_data';\n",
              "          await google.colab.output.renderOutput(dataTable, element);\n",
              "          const docLink = document.createElement('div');\n",
              "          docLink.innerHTML = docLinkHtml;\n",
              "          element.appendChild(docLink);\n",
              "        }\n",
              "      </script>\n",
              "    </div>\n",
              "  </div>\n",
              "  "
            ]
          },
          "metadata": {},
          "execution_count": 103
        }
      ]
    },
    {
      "cell_type": "markdown",
      "source": [
        "Looks like `model_2` performed the best."
      ],
      "metadata": {
        "id": "utZpRDkIVCCy"
      }
    },
    {
      "cell_type": "code",
      "source": [
        "model_2.summary()"
      ],
      "metadata": {
        "colab": {
          "base_uri": "https://localhost:8080/"
        },
        "id": "gMVg7YEdUKIw",
        "outputId": "24ab6228-e5e7-48fa-ae4c-d3fe75941d59"
      },
      "execution_count": 104,
      "outputs": [
        {
          "output_type": "stream",
          "name": "stdout",
          "text": [
            "Model: \"sequential_12\"\n",
            "_________________________________________________________________\n",
            " Layer (type)                Output Shape              Param #   \n",
            "=================================================================\n",
            " dense_25 (Dense)            (None, 10)                20        \n",
            "                                                                 \n",
            " dense_26 (Dense)            (None, 1)                 11        \n",
            "                                                                 \n",
            "=================================================================\n",
            "Total params: 31\n",
            "Trainable params: 31\n",
            "Non-trainable params: 0\n",
            "_________________________________________________________________\n"
          ]
        }
      ]
    },
    {
      "cell_type": "markdown",
      "source": [
        "* **Experiment Experiment Experiment**\n",
        "* **Visualize Visualize Visualize**"
      ],
      "metadata": {
        "id": "KjEeXcCDU0nN"
      }
    },
    {
      "cell_type": "markdown",
      "source": [
        "## Tracking experiments\n",
        "\n",
        "One really good habit in ML modelling is to track results of the experiments.\n",
        "\n",
        "It can be tedious if a lot of experiments are run.\n",
        "\n",
        "**Resource:**\n",
        "\n",
        "* ***TensorBoard*** - a component of the TensorFlow lobrary to help track modelling experiments\n",
        "* ***Weights & Biases*** - a tool for tracking all of ML experiments (plugs straight into TensorFlow)"
      ],
      "metadata": {
        "id": "QDj0lBcXVbYs"
      }
    },
    {
      "cell_type": "markdown",
      "source": [
        "## Saving our models\n",
        "\n",
        "There are two main formats to save ML models:\n",
        "\n",
        "* **SavedModel** format\n",
        "  * Can be loaded back with `tf.keras.models.load_model`\n",
        "  * Can be saved by `model.save('/path/model_1')`\n",
        "\n",
        "* **HDF5** format\n",
        "  * Save using `model.save('/path/model_1.h5')`"
      ],
      "metadata": {
        "id": "UeIQtp98V1Lu"
      }
    },
    {
      "cell_type": "code",
      "source": [
        "# Save model using the SaveModel format\n",
        "model_2.save(\"best_model_SavedModel_format\")"
      ],
      "metadata": {
        "colab": {
          "base_uri": "https://localhost:8080/"
        },
        "id": "_Jf-x5SmWa-S",
        "outputId": "2a760ee6-5564-4cf3-ce5b-b7fccb5502c4"
      },
      "execution_count": 105,
      "outputs": [
        {
          "output_type": "stream",
          "name": "stdout",
          "text": [
            "INFO:tensorflow:Assets written to: best_model_SavedModel_format/assets\n"
          ]
        }
      ]
    },
    {
      "cell_type": "code",
      "source": [
        "# Save model using the HDF5 format\n",
        "model_2.save(\"best_model_HDF5_format.h5\")"
      ],
      "metadata": {
        "id": "LkL3b_qIX22L"
      },
      "execution_count": 106,
      "outputs": []
    },
    {
      "cell_type": "markdown",
      "source": [
        "## Loading a saved model"
      ],
      "metadata": {
        "id": "9gYxW_6bYsfh"
      }
    },
    {
      "cell_type": "code",
      "source": [
        "# Load the SavedModel format\n",
        "loaded_SavedModel_format = tf.keras.models.load_model(\"/content/best_model_SavedModel_format\")\n",
        "loaded_SavedModel_format.summary()"
      ],
      "metadata": {
        "colab": {
          "base_uri": "https://localhost:8080/"
        },
        "id": "8P2swrjbZa3n",
        "outputId": "f11a362c-d913-481e-c445-affe8a3459f8"
      },
      "execution_count": 107,
      "outputs": [
        {
          "output_type": "stream",
          "name": "stdout",
          "text": [
            "Model: \"sequential_12\"\n",
            "_________________________________________________________________\n",
            " Layer (type)                Output Shape              Param #   \n",
            "=================================================================\n",
            " dense_25 (Dense)            (None, 10)                20        \n",
            "                                                                 \n",
            " dense_26 (Dense)            (None, 1)                 11        \n",
            "                                                                 \n",
            "=================================================================\n",
            "Total params: 31\n",
            "Trainable params: 31\n",
            "Non-trainable params: 0\n",
            "_________________________________________________________________\n"
          ]
        }
      ]
    },
    {
      "cell_type": "code",
      "source": [
        "model_2.summary()"
      ],
      "metadata": {
        "colab": {
          "base_uri": "https://localhost:8080/"
        },
        "id": "s06fivOTZvZA",
        "outputId": "14c787f6-d1ad-4f86-e13a-96ceb49e03c7"
      },
      "execution_count": 108,
      "outputs": [
        {
          "output_type": "stream",
          "name": "stdout",
          "text": [
            "Model: \"sequential_12\"\n",
            "_________________________________________________________________\n",
            " Layer (type)                Output Shape              Param #   \n",
            "=================================================================\n",
            " dense_25 (Dense)            (None, 10)                20        \n",
            "                                                                 \n",
            " dense_26 (Dense)            (None, 1)                 11        \n",
            "                                                                 \n",
            "=================================================================\n",
            "Total params: 31\n",
            "Trainable params: 31\n",
            "Non-trainable params: 0\n",
            "_________________________________________________________________\n"
          ]
        }
      ]
    },
    {
      "cell_type": "code",
      "source": [
        "# Compare model_2 predictions with SavedModel predictions\n",
        "model_2_preds = model_2.predict(X_test)\n",
        "loaded_SavedModel_format_preds = loaded_SavedModel_format.predict(X_test)\n",
        "\n",
        "model_2_preds == loaded_SavedModel_format_preds"
      ],
      "metadata": {
        "colab": {
          "base_uri": "https://localhost:8080/"
        },
        "id": "swip4w38Z0zu",
        "outputId": "d4f96049-fdb0-4ff5-ac3f-f9e3c8dd19ca"
      },
      "execution_count": 109,
      "outputs": [
        {
          "output_type": "execute_result",
          "data": {
            "text/plain": [
              "array([[ True],\n",
              "       [ True],\n",
              "       [ True],\n",
              "       [ True],\n",
              "       [ True],\n",
              "       [ True],\n",
              "       [ True],\n",
              "       [ True],\n",
              "       [ True],\n",
              "       [ True]])"
            ]
          },
          "metadata": {},
          "execution_count": 109
        }
      ]
    },
    {
      "cell_type": "code",
      "source": [
        "# Load the model of HDF5 format\n",
        "\n",
        "loaded_h5_model = tf.keras.models.load_model(\"/content/best_model_HDF5_format.h5\")\n",
        "loaded_h5_model.summary()"
      ],
      "metadata": {
        "colab": {
          "base_uri": "https://localhost:8080/"
        },
        "id": "9yNTsBl7aLrt",
        "outputId": "e5e84f47-56b9-481b-d54e-804ef85616ef"
      },
      "execution_count": 110,
      "outputs": [
        {
          "output_type": "stream",
          "name": "stdout",
          "text": [
            "Model: \"sequential_12\"\n",
            "_________________________________________________________________\n",
            " Layer (type)                Output Shape              Param #   \n",
            "=================================================================\n",
            " dense_25 (Dense)            (None, 10)                20        \n",
            "                                                                 \n",
            " dense_26 (Dense)            (None, 1)                 11        \n",
            "                                                                 \n",
            "=================================================================\n",
            "Total params: 31\n",
            "Trainable params: 31\n",
            "Non-trainable params: 0\n",
            "_________________________________________________________________\n"
          ]
        }
      ]
    },
    {
      "cell_type": "code",
      "source": [
        "model_2.summary()"
      ],
      "metadata": {
        "colab": {
          "base_uri": "https://localhost:8080/"
        },
        "id": "oPB5ZaZYbGFl",
        "outputId": "0e999679-c00b-4684-f21f-c48c0ed1a8d1"
      },
      "execution_count": 111,
      "outputs": [
        {
          "output_type": "stream",
          "name": "stdout",
          "text": [
            "Model: \"sequential_12\"\n",
            "_________________________________________________________________\n",
            " Layer (type)                Output Shape              Param #   \n",
            "=================================================================\n",
            " dense_25 (Dense)            (None, 10)                20        \n",
            "                                                                 \n",
            " dense_26 (Dense)            (None, 1)                 11        \n",
            "                                                                 \n",
            "=================================================================\n",
            "Total params: 31\n",
            "Trainable params: 31\n",
            "Non-trainable params: 0\n",
            "_________________________________________________________________\n"
          ]
        }
      ]
    },
    {
      "cell_type": "code",
      "source": [
        "# Check if loaded .h5 model predictions match model_2\n",
        "model_2_preds = model_2.predict(X_test)\n",
        "loaded_h5_model_preds = loaded_h5_model.predict(X_test)\n",
        "\n",
        "model_2_preds == loaded_h5_model_preds"
      ],
      "metadata": {
        "colab": {
          "base_uri": "https://localhost:8080/"
        },
        "id": "tIe-fJz8bLAJ",
        "outputId": "6720c348-d788-4a17-b095-c093c4d1a7da"
      },
      "execution_count": 112,
      "outputs": [
        {
          "output_type": "execute_result",
          "data": {
            "text/plain": [
              "array([[ True],\n",
              "       [ True],\n",
              "       [ True],\n",
              "       [ True],\n",
              "       [ True],\n",
              "       [ True],\n",
              "       [ True],\n",
              "       [ True],\n",
              "       [ True],\n",
              "       [ True]])"
            ]
          },
          "metadata": {},
          "execution_count": 112
        }
      ]
    },
    {
      "cell_type": "markdown",
      "source": [
        "## Download a model (or any other file) from Google Colab\n"
      ],
      "metadata": {
        "id": "pzd466fWbbBk"
      }
    },
    {
      "cell_type": "code",
      "source": [
        "from google.colab import files\n",
        "files.download(\"/content/best_model_HDF5_format.h5\")"
      ],
      "metadata": {
        "colab": {
          "base_uri": "https://localhost:8080/",
          "height": 17
        },
        "id": "NFIYaRu2c25d",
        "outputId": "6e4d0b08-41ef-471b-cd6e-f0e94cfae303"
      },
      "execution_count": 113,
      "outputs": [
        {
          "output_type": "display_data",
          "data": {
            "text/plain": [
              "<IPython.core.display.Javascript object>"
            ],
            "application/javascript": [
              "\n",
              "    async function download(id, filename, size) {\n",
              "      if (!google.colab.kernel.accessAllowed) {\n",
              "        return;\n",
              "      }\n",
              "      const div = document.createElement('div');\n",
              "      const label = document.createElement('label');\n",
              "      label.textContent = `Downloading \"${filename}\": `;\n",
              "      div.appendChild(label);\n",
              "      const progress = document.createElement('progress');\n",
              "      progress.max = size;\n",
              "      div.appendChild(progress);\n",
              "      document.body.appendChild(div);\n",
              "\n",
              "      const buffers = [];\n",
              "      let downloaded = 0;\n",
              "\n",
              "      const channel = await google.colab.kernel.comms.open(id);\n",
              "      // Send a message to notify the kernel that we're ready.\n",
              "      channel.send({})\n",
              "\n",
              "      for await (const message of channel.messages) {\n",
              "        // Send a message to notify the kernel that we're ready.\n",
              "        channel.send({})\n",
              "        if (message.buffers) {\n",
              "          for (const buffer of message.buffers) {\n",
              "            buffers.push(buffer);\n",
              "            downloaded += buffer.byteLength;\n",
              "            progress.value = downloaded;\n",
              "          }\n",
              "        }\n",
              "      }\n",
              "      const blob = new Blob(buffers, {type: 'application/binary'});\n",
              "      const a = document.createElement('a');\n",
              "      a.href = window.URL.createObjectURL(blob);\n",
              "      a.download = filename;\n",
              "      div.appendChild(a);\n",
              "      a.click();\n",
              "      div.remove();\n",
              "    }\n",
              "  "
            ]
          },
          "metadata": {}
        },
        {
          "output_type": "display_data",
          "data": {
            "text/plain": [
              "<IPython.core.display.Javascript object>"
            ],
            "application/javascript": [
              "download(\"download_3100f0fb-da42-4df7-b8e3-3ca5c9b69470\", \"best_model_HDF5_format.h5\", 26368)"
            ]
          },
          "metadata": {}
        }
      ]
    },
    {
      "cell_type": "markdown",
      "source": [
        "## A larger example"
      ],
      "metadata": {
        "id": "FStE1ooRdR0u"
      }
    },
    {
      "cell_type": "code",
      "source": [
        "# import required libraries\n",
        "import tensorflow as tf\n",
        "import pandas as pd\n",
        "import matplotlib.pyplot as plt\n",
        "import tensorflow_datasets as tfds"
      ],
      "metadata": {
        "id": "v2VRz4Dk0sp3"
      },
      "execution_count": 136,
      "outputs": []
    },
    {
      "cell_type": "code",
      "source": [
        "# Read in the insurance dataset\n",
        "insurance = pd.read_csv(\"https://raw.githubusercontent.com/stedy/Machine-Learning-with-R-datasets/master/insurance.csv\")\n",
        "insurance.head()"
      ],
      "metadata": {
        "colab": {
          "base_uri": "https://localhost:8080/",
          "height": 206
        },
        "id": "kpuGL2iY4LnH",
        "outputId": "9d729ddf-8dbf-4126-abf6-6ed35829c2ec"
      },
      "execution_count": 116,
      "outputs": [
        {
          "output_type": "execute_result",
          "data": {
            "text/plain": [
              "   age     sex     bmi  children smoker     region      charges\n",
              "0   19  female  27.900         0    yes  southwest  16884.92400\n",
              "1   18    male  33.770         1     no  southeast   1725.55230\n",
              "2   28    male  33.000         3     no  southeast   4449.46200\n",
              "3   33    male  22.705         0     no  northwest  21984.47061\n",
              "4   32    male  28.880         0     no  northwest   3866.85520"
            ],
            "text/html": [
              "\n",
              "  <div id=\"df-f93a8843-a8d3-43b7-acfd-20b61e31c2d2\">\n",
              "    <div class=\"colab-df-container\">\n",
              "      <div>\n",
              "<style scoped>\n",
              "    .dataframe tbody tr th:only-of-type {\n",
              "        vertical-align: middle;\n",
              "    }\n",
              "\n",
              "    .dataframe tbody tr th {\n",
              "        vertical-align: top;\n",
              "    }\n",
              "\n",
              "    .dataframe thead th {\n",
              "        text-align: right;\n",
              "    }\n",
              "</style>\n",
              "<table border=\"1\" class=\"dataframe\">\n",
              "  <thead>\n",
              "    <tr style=\"text-align: right;\">\n",
              "      <th></th>\n",
              "      <th>age</th>\n",
              "      <th>sex</th>\n",
              "      <th>bmi</th>\n",
              "      <th>children</th>\n",
              "      <th>smoker</th>\n",
              "      <th>region</th>\n",
              "      <th>charges</th>\n",
              "    </tr>\n",
              "  </thead>\n",
              "  <tbody>\n",
              "    <tr>\n",
              "      <th>0</th>\n",
              "      <td>19</td>\n",
              "      <td>female</td>\n",
              "      <td>27.900</td>\n",
              "      <td>0</td>\n",
              "      <td>yes</td>\n",
              "      <td>southwest</td>\n",
              "      <td>16884.92400</td>\n",
              "    </tr>\n",
              "    <tr>\n",
              "      <th>1</th>\n",
              "      <td>18</td>\n",
              "      <td>male</td>\n",
              "      <td>33.770</td>\n",
              "      <td>1</td>\n",
              "      <td>no</td>\n",
              "      <td>southeast</td>\n",
              "      <td>1725.55230</td>\n",
              "    </tr>\n",
              "    <tr>\n",
              "      <th>2</th>\n",
              "      <td>28</td>\n",
              "      <td>male</td>\n",
              "      <td>33.000</td>\n",
              "      <td>3</td>\n",
              "      <td>no</td>\n",
              "      <td>southeast</td>\n",
              "      <td>4449.46200</td>\n",
              "    </tr>\n",
              "    <tr>\n",
              "      <th>3</th>\n",
              "      <td>33</td>\n",
              "      <td>male</td>\n",
              "      <td>22.705</td>\n",
              "      <td>0</td>\n",
              "      <td>no</td>\n",
              "      <td>northwest</td>\n",
              "      <td>21984.47061</td>\n",
              "    </tr>\n",
              "    <tr>\n",
              "      <th>4</th>\n",
              "      <td>32</td>\n",
              "      <td>male</td>\n",
              "      <td>28.880</td>\n",
              "      <td>0</td>\n",
              "      <td>no</td>\n",
              "      <td>northwest</td>\n",
              "      <td>3866.85520</td>\n",
              "    </tr>\n",
              "  </tbody>\n",
              "</table>\n",
              "</div>\n",
              "      <button class=\"colab-df-convert\" onclick=\"convertToInteractive('df-f93a8843-a8d3-43b7-acfd-20b61e31c2d2')\"\n",
              "              title=\"Convert this dataframe to an interactive table.\"\n",
              "              style=\"display:none;\">\n",
              "        \n",
              "  <svg xmlns=\"http://www.w3.org/2000/svg\" height=\"24px\"viewBox=\"0 0 24 24\"\n",
              "       width=\"24px\">\n",
              "    <path d=\"M0 0h24v24H0V0z\" fill=\"none\"/>\n",
              "    <path d=\"M18.56 5.44l.94 2.06.94-2.06 2.06-.94-2.06-.94-.94-2.06-.94 2.06-2.06.94zm-11 1L8.5 8.5l.94-2.06 2.06-.94-2.06-.94L8.5 2.5l-.94 2.06-2.06.94zm10 10l.94 2.06.94-2.06 2.06-.94-2.06-.94-.94-2.06-.94 2.06-2.06.94z\"/><path d=\"M17.41 7.96l-1.37-1.37c-.4-.4-.92-.59-1.43-.59-.52 0-1.04.2-1.43.59L10.3 9.45l-7.72 7.72c-.78.78-.78 2.05 0 2.83L4 21.41c.39.39.9.59 1.41.59.51 0 1.02-.2 1.41-.59l7.78-7.78 2.81-2.81c.8-.78.8-2.07 0-2.86zM5.41 20L4 18.59l7.72-7.72 1.47 1.35L5.41 20z\"/>\n",
              "  </svg>\n",
              "      </button>\n",
              "      \n",
              "  <style>\n",
              "    .colab-df-container {\n",
              "      display:flex;\n",
              "      flex-wrap:wrap;\n",
              "      gap: 12px;\n",
              "    }\n",
              "\n",
              "    .colab-df-convert {\n",
              "      background-color: #E8F0FE;\n",
              "      border: none;\n",
              "      border-radius: 50%;\n",
              "      cursor: pointer;\n",
              "      display: none;\n",
              "      fill: #1967D2;\n",
              "      height: 32px;\n",
              "      padding: 0 0 0 0;\n",
              "      width: 32px;\n",
              "    }\n",
              "\n",
              "    .colab-df-convert:hover {\n",
              "      background-color: #E2EBFA;\n",
              "      box-shadow: 0px 1px 2px rgba(60, 64, 67, 0.3), 0px 1px 3px 1px rgba(60, 64, 67, 0.15);\n",
              "      fill: #174EA6;\n",
              "    }\n",
              "\n",
              "    [theme=dark] .colab-df-convert {\n",
              "      background-color: #3B4455;\n",
              "      fill: #D2E3FC;\n",
              "    }\n",
              "\n",
              "    [theme=dark] .colab-df-convert:hover {\n",
              "      background-color: #434B5C;\n",
              "      box-shadow: 0px 1px 3px 1px rgba(0, 0, 0, 0.15);\n",
              "      filter: drop-shadow(0px 1px 2px rgba(0, 0, 0, 0.3));\n",
              "      fill: #FFFFFF;\n",
              "    }\n",
              "  </style>\n",
              "\n",
              "      <script>\n",
              "        const buttonEl =\n",
              "          document.querySelector('#df-f93a8843-a8d3-43b7-acfd-20b61e31c2d2 button.colab-df-convert');\n",
              "        buttonEl.style.display =\n",
              "          google.colab.kernel.accessAllowed ? 'block' : 'none';\n",
              "\n",
              "        async function convertToInteractive(key) {\n",
              "          const element = document.querySelector('#df-f93a8843-a8d3-43b7-acfd-20b61e31c2d2');\n",
              "          const dataTable =\n",
              "            await google.colab.kernel.invokeFunction('convertToInteractive',\n",
              "                                                     [key], {});\n",
              "          if (!dataTable) return;\n",
              "\n",
              "          const docLinkHtml = 'Like what you see? Visit the ' +\n",
              "            '<a target=\"_blank\" href=https://colab.research.google.com/notebooks/data_table.ipynb>data table notebook</a>'\n",
              "            + ' to learn more about interactive tables.';\n",
              "          element.innerHTML = '';\n",
              "          dataTable['output_type'] = 'display_data';\n",
              "          await google.colab.output.renderOutput(dataTable, element);\n",
              "          const docLink = document.createElement('div');\n",
              "          docLink.innerHTML = docLinkHtml;\n",
              "          element.appendChild(docLink);\n",
              "        }\n",
              "      </script>\n",
              "    </div>\n",
              "  </div>\n",
              "  "
            ]
          },
          "metadata": {},
          "execution_count": 116
        }
      ]
    },
    {
      "cell_type": "code",
      "source": [
        "# one hot encoding\n",
        "insurance_one_hot = pd.get_dummies(insurance)\n",
        "insurance_one_hot.head()"
      ],
      "metadata": {
        "colab": {
          "base_uri": "https://localhost:8080/",
          "height": 206
        },
        "id": "FA309dTv4iWX",
        "outputId": "49506f46-8d4f-48f6-a92e-8aa3eeaf80cb"
      },
      "execution_count": 120,
      "outputs": [
        {
          "output_type": "execute_result",
          "data": {
            "text/plain": [
              "   age     bmi  children      charges  sex_female  sex_male  smoker_no  \\\n",
              "0   19  27.900         0  16884.92400           1         0          0   \n",
              "1   18  33.770         1   1725.55230           0         1          1   \n",
              "2   28  33.000         3   4449.46200           0         1          1   \n",
              "3   33  22.705         0  21984.47061           0         1          1   \n",
              "4   32  28.880         0   3866.85520           0         1          1   \n",
              "\n",
              "   smoker_yes  region_northeast  region_northwest  region_southeast  \\\n",
              "0           1                 0                 0                 0   \n",
              "1           0                 0                 0                 1   \n",
              "2           0                 0                 0                 1   \n",
              "3           0                 0                 1                 0   \n",
              "4           0                 0                 1                 0   \n",
              "\n",
              "   region_southwest  \n",
              "0                 1  \n",
              "1                 0  \n",
              "2                 0  \n",
              "3                 0  \n",
              "4                 0  "
            ],
            "text/html": [
              "\n",
              "  <div id=\"df-9ef558d7-f916-40aa-a457-941ee23c5405\">\n",
              "    <div class=\"colab-df-container\">\n",
              "      <div>\n",
              "<style scoped>\n",
              "    .dataframe tbody tr th:only-of-type {\n",
              "        vertical-align: middle;\n",
              "    }\n",
              "\n",
              "    .dataframe tbody tr th {\n",
              "        vertical-align: top;\n",
              "    }\n",
              "\n",
              "    .dataframe thead th {\n",
              "        text-align: right;\n",
              "    }\n",
              "</style>\n",
              "<table border=\"1\" class=\"dataframe\">\n",
              "  <thead>\n",
              "    <tr style=\"text-align: right;\">\n",
              "      <th></th>\n",
              "      <th>age</th>\n",
              "      <th>bmi</th>\n",
              "      <th>children</th>\n",
              "      <th>charges</th>\n",
              "      <th>sex_female</th>\n",
              "      <th>sex_male</th>\n",
              "      <th>smoker_no</th>\n",
              "      <th>smoker_yes</th>\n",
              "      <th>region_northeast</th>\n",
              "      <th>region_northwest</th>\n",
              "      <th>region_southeast</th>\n",
              "      <th>region_southwest</th>\n",
              "    </tr>\n",
              "  </thead>\n",
              "  <tbody>\n",
              "    <tr>\n",
              "      <th>0</th>\n",
              "      <td>19</td>\n",
              "      <td>27.900</td>\n",
              "      <td>0</td>\n",
              "      <td>16884.92400</td>\n",
              "      <td>1</td>\n",
              "      <td>0</td>\n",
              "      <td>0</td>\n",
              "      <td>1</td>\n",
              "      <td>0</td>\n",
              "      <td>0</td>\n",
              "      <td>0</td>\n",
              "      <td>1</td>\n",
              "    </tr>\n",
              "    <tr>\n",
              "      <th>1</th>\n",
              "      <td>18</td>\n",
              "      <td>33.770</td>\n",
              "      <td>1</td>\n",
              "      <td>1725.55230</td>\n",
              "      <td>0</td>\n",
              "      <td>1</td>\n",
              "      <td>1</td>\n",
              "      <td>0</td>\n",
              "      <td>0</td>\n",
              "      <td>0</td>\n",
              "      <td>1</td>\n",
              "      <td>0</td>\n",
              "    </tr>\n",
              "    <tr>\n",
              "      <th>2</th>\n",
              "      <td>28</td>\n",
              "      <td>33.000</td>\n",
              "      <td>3</td>\n",
              "      <td>4449.46200</td>\n",
              "      <td>0</td>\n",
              "      <td>1</td>\n",
              "      <td>1</td>\n",
              "      <td>0</td>\n",
              "      <td>0</td>\n",
              "      <td>0</td>\n",
              "      <td>1</td>\n",
              "      <td>0</td>\n",
              "    </tr>\n",
              "    <tr>\n",
              "      <th>3</th>\n",
              "      <td>33</td>\n",
              "      <td>22.705</td>\n",
              "      <td>0</td>\n",
              "      <td>21984.47061</td>\n",
              "      <td>0</td>\n",
              "      <td>1</td>\n",
              "      <td>1</td>\n",
              "      <td>0</td>\n",
              "      <td>0</td>\n",
              "      <td>1</td>\n",
              "      <td>0</td>\n",
              "      <td>0</td>\n",
              "    </tr>\n",
              "    <tr>\n",
              "      <th>4</th>\n",
              "      <td>32</td>\n",
              "      <td>28.880</td>\n",
              "      <td>0</td>\n",
              "      <td>3866.85520</td>\n",
              "      <td>0</td>\n",
              "      <td>1</td>\n",
              "      <td>1</td>\n",
              "      <td>0</td>\n",
              "      <td>0</td>\n",
              "      <td>1</td>\n",
              "      <td>0</td>\n",
              "      <td>0</td>\n",
              "    </tr>\n",
              "  </tbody>\n",
              "</table>\n",
              "</div>\n",
              "      <button class=\"colab-df-convert\" onclick=\"convertToInteractive('df-9ef558d7-f916-40aa-a457-941ee23c5405')\"\n",
              "              title=\"Convert this dataframe to an interactive table.\"\n",
              "              style=\"display:none;\">\n",
              "        \n",
              "  <svg xmlns=\"http://www.w3.org/2000/svg\" height=\"24px\"viewBox=\"0 0 24 24\"\n",
              "       width=\"24px\">\n",
              "    <path d=\"M0 0h24v24H0V0z\" fill=\"none\"/>\n",
              "    <path d=\"M18.56 5.44l.94 2.06.94-2.06 2.06-.94-2.06-.94-.94-2.06-.94 2.06-2.06.94zm-11 1L8.5 8.5l.94-2.06 2.06-.94-2.06-.94L8.5 2.5l-.94 2.06-2.06.94zm10 10l.94 2.06.94-2.06 2.06-.94-2.06-.94-.94-2.06-.94 2.06-2.06.94z\"/><path d=\"M17.41 7.96l-1.37-1.37c-.4-.4-.92-.59-1.43-.59-.52 0-1.04.2-1.43.59L10.3 9.45l-7.72 7.72c-.78.78-.78 2.05 0 2.83L4 21.41c.39.39.9.59 1.41.59.51 0 1.02-.2 1.41-.59l7.78-7.78 2.81-2.81c.8-.78.8-2.07 0-2.86zM5.41 20L4 18.59l7.72-7.72 1.47 1.35L5.41 20z\"/>\n",
              "  </svg>\n",
              "      </button>\n",
              "      \n",
              "  <style>\n",
              "    .colab-df-container {\n",
              "      display:flex;\n",
              "      flex-wrap:wrap;\n",
              "      gap: 12px;\n",
              "    }\n",
              "\n",
              "    .colab-df-convert {\n",
              "      background-color: #E8F0FE;\n",
              "      border: none;\n",
              "      border-radius: 50%;\n",
              "      cursor: pointer;\n",
              "      display: none;\n",
              "      fill: #1967D2;\n",
              "      height: 32px;\n",
              "      padding: 0 0 0 0;\n",
              "      width: 32px;\n",
              "    }\n",
              "\n",
              "    .colab-df-convert:hover {\n",
              "      background-color: #E2EBFA;\n",
              "      box-shadow: 0px 1px 2px rgba(60, 64, 67, 0.3), 0px 1px 3px 1px rgba(60, 64, 67, 0.15);\n",
              "      fill: #174EA6;\n",
              "    }\n",
              "\n",
              "    [theme=dark] .colab-df-convert {\n",
              "      background-color: #3B4455;\n",
              "      fill: #D2E3FC;\n",
              "    }\n",
              "\n",
              "    [theme=dark] .colab-df-convert:hover {\n",
              "      background-color: #434B5C;\n",
              "      box-shadow: 0px 1px 3px 1px rgba(0, 0, 0, 0.15);\n",
              "      filter: drop-shadow(0px 1px 2px rgba(0, 0, 0, 0.3));\n",
              "      fill: #FFFFFF;\n",
              "    }\n",
              "  </style>\n",
              "\n",
              "      <script>\n",
              "        const buttonEl =\n",
              "          document.querySelector('#df-9ef558d7-f916-40aa-a457-941ee23c5405 button.colab-df-convert');\n",
              "        buttonEl.style.display =\n",
              "          google.colab.kernel.accessAllowed ? 'block' : 'none';\n",
              "\n",
              "        async function convertToInteractive(key) {\n",
              "          const element = document.querySelector('#df-9ef558d7-f916-40aa-a457-941ee23c5405');\n",
              "          const dataTable =\n",
              "            await google.colab.kernel.invokeFunction('convertToInteractive',\n",
              "                                                     [key], {});\n",
              "          if (!dataTable) return;\n",
              "\n",
              "          const docLinkHtml = 'Like what you see? Visit the ' +\n",
              "            '<a target=\"_blank\" href=https://colab.research.google.com/notebooks/data_table.ipynb>data table notebook</a>'\n",
              "            + ' to learn more about interactive tables.';\n",
              "          element.innerHTML = '';\n",
              "          dataTable['output_type'] = 'display_data';\n",
              "          await google.colab.output.renderOutput(dataTable, element);\n",
              "          const docLink = document.createElement('div');\n",
              "          docLink.innerHTML = docLinkHtml;\n",
              "          element.appendChild(docLink);\n",
              "        }\n",
              "      </script>\n",
              "    </div>\n",
              "  </div>\n",
              "  "
            ]
          },
          "metadata": {},
          "execution_count": 120
        }
      ]
    },
    {
      "cell_type": "code",
      "source": [
        "# Create X & y values (features and labels)\n",
        "# Create training and test sets\n",
        "# Build a neural network"
      ],
      "metadata": {
        "id": "fuG4orLd6rfl"
      },
      "execution_count": 121,
      "outputs": []
    },
    {
      "cell_type": "code",
      "source": [
        "X_insurance = insurance_one_hot.drop(\"charges\", axis=1)\n",
        "X_insurance.head()"
      ],
      "metadata": {
        "colab": {
          "base_uri": "https://localhost:8080/",
          "height": 206
        },
        "id": "8ciFKy2p7Wof",
        "outputId": "20a3ecfb-189e-4b79-e6ba-71b24d0b28dd"
      },
      "execution_count": 287,
      "outputs": [
        {
          "output_type": "execute_result",
          "data": {
            "text/plain": [
              "   age     bmi  children  sex_female  sex_male  smoker_no  smoker_yes  \\\n",
              "0   19  27.900         0           1         0          0           1   \n",
              "1   18  33.770         1           0         1          1           0   \n",
              "2   28  33.000         3           0         1          1           0   \n",
              "3   33  22.705         0           0         1          1           0   \n",
              "4   32  28.880         0           0         1          1           0   \n",
              "\n",
              "   region_northeast  region_northwest  region_southeast  region_southwest  \n",
              "0                 0                 0                 0                 1  \n",
              "1                 0                 0                 1                 0  \n",
              "2                 0                 0                 1                 0  \n",
              "3                 0                 1                 0                 0  \n",
              "4                 0                 1                 0                 0  "
            ],
            "text/html": [
              "\n",
              "  <div id=\"df-48aae879-339c-4bf0-afe3-9a04c8c46330\">\n",
              "    <div class=\"colab-df-container\">\n",
              "      <div>\n",
              "<style scoped>\n",
              "    .dataframe tbody tr th:only-of-type {\n",
              "        vertical-align: middle;\n",
              "    }\n",
              "\n",
              "    .dataframe tbody tr th {\n",
              "        vertical-align: top;\n",
              "    }\n",
              "\n",
              "    .dataframe thead th {\n",
              "        text-align: right;\n",
              "    }\n",
              "</style>\n",
              "<table border=\"1\" class=\"dataframe\">\n",
              "  <thead>\n",
              "    <tr style=\"text-align: right;\">\n",
              "      <th></th>\n",
              "      <th>age</th>\n",
              "      <th>bmi</th>\n",
              "      <th>children</th>\n",
              "      <th>sex_female</th>\n",
              "      <th>sex_male</th>\n",
              "      <th>smoker_no</th>\n",
              "      <th>smoker_yes</th>\n",
              "      <th>region_northeast</th>\n",
              "      <th>region_northwest</th>\n",
              "      <th>region_southeast</th>\n",
              "      <th>region_southwest</th>\n",
              "    </tr>\n",
              "  </thead>\n",
              "  <tbody>\n",
              "    <tr>\n",
              "      <th>0</th>\n",
              "      <td>19</td>\n",
              "      <td>27.900</td>\n",
              "      <td>0</td>\n",
              "      <td>1</td>\n",
              "      <td>0</td>\n",
              "      <td>0</td>\n",
              "      <td>1</td>\n",
              "      <td>0</td>\n",
              "      <td>0</td>\n",
              "      <td>0</td>\n",
              "      <td>1</td>\n",
              "    </tr>\n",
              "    <tr>\n",
              "      <th>1</th>\n",
              "      <td>18</td>\n",
              "      <td>33.770</td>\n",
              "      <td>1</td>\n",
              "      <td>0</td>\n",
              "      <td>1</td>\n",
              "      <td>1</td>\n",
              "      <td>0</td>\n",
              "      <td>0</td>\n",
              "      <td>0</td>\n",
              "      <td>1</td>\n",
              "      <td>0</td>\n",
              "    </tr>\n",
              "    <tr>\n",
              "      <th>2</th>\n",
              "      <td>28</td>\n",
              "      <td>33.000</td>\n",
              "      <td>3</td>\n",
              "      <td>0</td>\n",
              "      <td>1</td>\n",
              "      <td>1</td>\n",
              "      <td>0</td>\n",
              "      <td>0</td>\n",
              "      <td>0</td>\n",
              "      <td>1</td>\n",
              "      <td>0</td>\n",
              "    </tr>\n",
              "    <tr>\n",
              "      <th>3</th>\n",
              "      <td>33</td>\n",
              "      <td>22.705</td>\n",
              "      <td>0</td>\n",
              "      <td>0</td>\n",
              "      <td>1</td>\n",
              "      <td>1</td>\n",
              "      <td>0</td>\n",
              "      <td>0</td>\n",
              "      <td>1</td>\n",
              "      <td>0</td>\n",
              "      <td>0</td>\n",
              "    </tr>\n",
              "    <tr>\n",
              "      <th>4</th>\n",
              "      <td>32</td>\n",
              "      <td>28.880</td>\n",
              "      <td>0</td>\n",
              "      <td>0</td>\n",
              "      <td>1</td>\n",
              "      <td>1</td>\n",
              "      <td>0</td>\n",
              "      <td>0</td>\n",
              "      <td>1</td>\n",
              "      <td>0</td>\n",
              "      <td>0</td>\n",
              "    </tr>\n",
              "  </tbody>\n",
              "</table>\n",
              "</div>\n",
              "      <button class=\"colab-df-convert\" onclick=\"convertToInteractive('df-48aae879-339c-4bf0-afe3-9a04c8c46330')\"\n",
              "              title=\"Convert this dataframe to an interactive table.\"\n",
              "              style=\"display:none;\">\n",
              "        \n",
              "  <svg xmlns=\"http://www.w3.org/2000/svg\" height=\"24px\"viewBox=\"0 0 24 24\"\n",
              "       width=\"24px\">\n",
              "    <path d=\"M0 0h24v24H0V0z\" fill=\"none\"/>\n",
              "    <path d=\"M18.56 5.44l.94 2.06.94-2.06 2.06-.94-2.06-.94-.94-2.06-.94 2.06-2.06.94zm-11 1L8.5 8.5l.94-2.06 2.06-.94-2.06-.94L8.5 2.5l-.94 2.06-2.06.94zm10 10l.94 2.06.94-2.06 2.06-.94-2.06-.94-.94-2.06-.94 2.06-2.06.94z\"/><path d=\"M17.41 7.96l-1.37-1.37c-.4-.4-.92-.59-1.43-.59-.52 0-1.04.2-1.43.59L10.3 9.45l-7.72 7.72c-.78.78-.78 2.05 0 2.83L4 21.41c.39.39.9.59 1.41.59.51 0 1.02-.2 1.41-.59l7.78-7.78 2.81-2.81c.8-.78.8-2.07 0-2.86zM5.41 20L4 18.59l7.72-7.72 1.47 1.35L5.41 20z\"/>\n",
              "  </svg>\n",
              "      </button>\n",
              "      \n",
              "  <style>\n",
              "    .colab-df-container {\n",
              "      display:flex;\n",
              "      flex-wrap:wrap;\n",
              "      gap: 12px;\n",
              "    }\n",
              "\n",
              "    .colab-df-convert {\n",
              "      background-color: #E8F0FE;\n",
              "      border: none;\n",
              "      border-radius: 50%;\n",
              "      cursor: pointer;\n",
              "      display: none;\n",
              "      fill: #1967D2;\n",
              "      height: 32px;\n",
              "      padding: 0 0 0 0;\n",
              "      width: 32px;\n",
              "    }\n",
              "\n",
              "    .colab-df-convert:hover {\n",
              "      background-color: #E2EBFA;\n",
              "      box-shadow: 0px 1px 2px rgba(60, 64, 67, 0.3), 0px 1px 3px 1px rgba(60, 64, 67, 0.15);\n",
              "      fill: #174EA6;\n",
              "    }\n",
              "\n",
              "    [theme=dark] .colab-df-convert {\n",
              "      background-color: #3B4455;\n",
              "      fill: #D2E3FC;\n",
              "    }\n",
              "\n",
              "    [theme=dark] .colab-df-convert:hover {\n",
              "      background-color: #434B5C;\n",
              "      box-shadow: 0px 1px 3px 1px rgba(0, 0, 0, 0.15);\n",
              "      filter: drop-shadow(0px 1px 2px rgba(0, 0, 0, 0.3));\n",
              "      fill: #FFFFFF;\n",
              "    }\n",
              "  </style>\n",
              "\n",
              "      <script>\n",
              "        const buttonEl =\n",
              "          document.querySelector('#df-48aae879-339c-4bf0-afe3-9a04c8c46330 button.colab-df-convert');\n",
              "        buttonEl.style.display =\n",
              "          google.colab.kernel.accessAllowed ? 'block' : 'none';\n",
              "\n",
              "        async function convertToInteractive(key) {\n",
              "          const element = document.querySelector('#df-48aae879-339c-4bf0-afe3-9a04c8c46330');\n",
              "          const dataTable =\n",
              "            await google.colab.kernel.invokeFunction('convertToInteractive',\n",
              "                                                     [key], {});\n",
              "          if (!dataTable) return;\n",
              "\n",
              "          const docLinkHtml = 'Like what you see? Visit the ' +\n",
              "            '<a target=\"_blank\" href=https://colab.research.google.com/notebooks/data_table.ipynb>data table notebook</a>'\n",
              "            + ' to learn more about interactive tables.';\n",
              "          element.innerHTML = '';\n",
              "          dataTable['output_type'] = 'display_data';\n",
              "          await google.colab.output.renderOutput(dataTable, element);\n",
              "          const docLink = document.createElement('div');\n",
              "          docLink.innerHTML = docLinkHtml;\n",
              "          element.appendChild(docLink);\n",
              "        }\n",
              "      </script>\n",
              "    </div>\n",
              "  </div>\n",
              "  "
            ]
          },
          "metadata": {},
          "execution_count": 287
        }
      ]
    },
    {
      "cell_type": "code",
      "source": [
        "y_insurance = insurance_one_hot[[\"charges\"]]\n",
        "y_insurance.head()"
      ],
      "metadata": {
        "colab": {
          "base_uri": "https://localhost:8080/",
          "height": 206
        },
        "id": "pnbcj_-08nfO",
        "outputId": "1d99759a-e700-4e29-e410-3fbbecdb5768"
      },
      "execution_count": 288,
      "outputs": [
        {
          "output_type": "execute_result",
          "data": {
            "text/plain": [
              "       charges\n",
              "0  16884.92400\n",
              "1   1725.55230\n",
              "2   4449.46200\n",
              "3  21984.47061\n",
              "4   3866.85520"
            ],
            "text/html": [
              "\n",
              "  <div id=\"df-57c7ac03-f50e-4151-aa55-585363b1fd43\">\n",
              "    <div class=\"colab-df-container\">\n",
              "      <div>\n",
              "<style scoped>\n",
              "    .dataframe tbody tr th:only-of-type {\n",
              "        vertical-align: middle;\n",
              "    }\n",
              "\n",
              "    .dataframe tbody tr th {\n",
              "        vertical-align: top;\n",
              "    }\n",
              "\n",
              "    .dataframe thead th {\n",
              "        text-align: right;\n",
              "    }\n",
              "</style>\n",
              "<table border=\"1\" class=\"dataframe\">\n",
              "  <thead>\n",
              "    <tr style=\"text-align: right;\">\n",
              "      <th></th>\n",
              "      <th>charges</th>\n",
              "    </tr>\n",
              "  </thead>\n",
              "  <tbody>\n",
              "    <tr>\n",
              "      <th>0</th>\n",
              "      <td>16884.92400</td>\n",
              "    </tr>\n",
              "    <tr>\n",
              "      <th>1</th>\n",
              "      <td>1725.55230</td>\n",
              "    </tr>\n",
              "    <tr>\n",
              "      <th>2</th>\n",
              "      <td>4449.46200</td>\n",
              "    </tr>\n",
              "    <tr>\n",
              "      <th>3</th>\n",
              "      <td>21984.47061</td>\n",
              "    </tr>\n",
              "    <tr>\n",
              "      <th>4</th>\n",
              "      <td>3866.85520</td>\n",
              "    </tr>\n",
              "  </tbody>\n",
              "</table>\n",
              "</div>\n",
              "      <button class=\"colab-df-convert\" onclick=\"convertToInteractive('df-57c7ac03-f50e-4151-aa55-585363b1fd43')\"\n",
              "              title=\"Convert this dataframe to an interactive table.\"\n",
              "              style=\"display:none;\">\n",
              "        \n",
              "  <svg xmlns=\"http://www.w3.org/2000/svg\" height=\"24px\"viewBox=\"0 0 24 24\"\n",
              "       width=\"24px\">\n",
              "    <path d=\"M0 0h24v24H0V0z\" fill=\"none\"/>\n",
              "    <path d=\"M18.56 5.44l.94 2.06.94-2.06 2.06-.94-2.06-.94-.94-2.06-.94 2.06-2.06.94zm-11 1L8.5 8.5l.94-2.06 2.06-.94-2.06-.94L8.5 2.5l-.94 2.06-2.06.94zm10 10l.94 2.06.94-2.06 2.06-.94-2.06-.94-.94-2.06-.94 2.06-2.06.94z\"/><path d=\"M17.41 7.96l-1.37-1.37c-.4-.4-.92-.59-1.43-.59-.52 0-1.04.2-1.43.59L10.3 9.45l-7.72 7.72c-.78.78-.78 2.05 0 2.83L4 21.41c.39.39.9.59 1.41.59.51 0 1.02-.2 1.41-.59l7.78-7.78 2.81-2.81c.8-.78.8-2.07 0-2.86zM5.41 20L4 18.59l7.72-7.72 1.47 1.35L5.41 20z\"/>\n",
              "  </svg>\n",
              "      </button>\n",
              "      \n",
              "  <style>\n",
              "    .colab-df-container {\n",
              "      display:flex;\n",
              "      flex-wrap:wrap;\n",
              "      gap: 12px;\n",
              "    }\n",
              "\n",
              "    .colab-df-convert {\n",
              "      background-color: #E8F0FE;\n",
              "      border: none;\n",
              "      border-radius: 50%;\n",
              "      cursor: pointer;\n",
              "      display: none;\n",
              "      fill: #1967D2;\n",
              "      height: 32px;\n",
              "      padding: 0 0 0 0;\n",
              "      width: 32px;\n",
              "    }\n",
              "\n",
              "    .colab-df-convert:hover {\n",
              "      background-color: #E2EBFA;\n",
              "      box-shadow: 0px 1px 2px rgba(60, 64, 67, 0.3), 0px 1px 3px 1px rgba(60, 64, 67, 0.15);\n",
              "      fill: #174EA6;\n",
              "    }\n",
              "\n",
              "    [theme=dark] .colab-df-convert {\n",
              "      background-color: #3B4455;\n",
              "      fill: #D2E3FC;\n",
              "    }\n",
              "\n",
              "    [theme=dark] .colab-df-convert:hover {\n",
              "      background-color: #434B5C;\n",
              "      box-shadow: 0px 1px 3px 1px rgba(0, 0, 0, 0.15);\n",
              "      filter: drop-shadow(0px 1px 2px rgba(0, 0, 0, 0.3));\n",
              "      fill: #FFFFFF;\n",
              "    }\n",
              "  </style>\n",
              "\n",
              "      <script>\n",
              "        const buttonEl =\n",
              "          document.querySelector('#df-57c7ac03-f50e-4151-aa55-585363b1fd43 button.colab-df-convert');\n",
              "        buttonEl.style.display =\n",
              "          google.colab.kernel.accessAllowed ? 'block' : 'none';\n",
              "\n",
              "        async function convertToInteractive(key) {\n",
              "          const element = document.querySelector('#df-57c7ac03-f50e-4151-aa55-585363b1fd43');\n",
              "          const dataTable =\n",
              "            await google.colab.kernel.invokeFunction('convertToInteractive',\n",
              "                                                     [key], {});\n",
              "          if (!dataTable) return;\n",
              "\n",
              "          const docLinkHtml = 'Like what you see? Visit the ' +\n",
              "            '<a target=\"_blank\" href=https://colab.research.google.com/notebooks/data_table.ipynb>data table notebook</a>'\n",
              "            + ' to learn more about interactive tables.';\n",
              "          element.innerHTML = '';\n",
              "          dataTable['output_type'] = 'display_data';\n",
              "          await google.colab.output.renderOutput(dataTable, element);\n",
              "          const docLink = document.createElement('div');\n",
              "          docLink.innerHTML = docLinkHtml;\n",
              "          element.appendChild(docLink);\n",
              "        }\n",
              "      </script>\n",
              "    </div>\n",
              "  </div>\n",
              "  "
            ]
          },
          "metadata": {},
          "execution_count": 288
        }
      ]
    },
    {
      "cell_type": "code",
      "source": [
        "X_train_insurance = X_insurance[0 : int(len(X_insurance) * 0.8)]\n",
        "\n",
        "X_test_insurance = X_insurance[int(len(X_insurance) * 0.8): ]\n",
        "\n",
        "X_train_insurance.head()"
      ],
      "metadata": {
        "colab": {
          "base_uri": "https://localhost:8080/",
          "height": 206
        },
        "id": "fVXCkejf9lG5",
        "outputId": "fbe26527-17a1-4616-c88f-e144911c0b4a"
      },
      "execution_count": 148,
      "outputs": [
        {
          "output_type": "execute_result",
          "data": {
            "text/plain": [
              "   age     bmi  children  sex_female  smoker_yes\n",
              "0   19  27.900         0           1           1\n",
              "1   18  33.770         1           0           0\n",
              "2   28  33.000         3           0           0\n",
              "3   33  22.705         0           0           0\n",
              "4   32  28.880         0           0           0"
            ],
            "text/html": [
              "\n",
              "  <div id=\"df-622402b4-3494-445f-b98d-4ec1a6178649\">\n",
              "    <div class=\"colab-df-container\">\n",
              "      <div>\n",
              "<style scoped>\n",
              "    .dataframe tbody tr th:only-of-type {\n",
              "        vertical-align: middle;\n",
              "    }\n",
              "\n",
              "    .dataframe tbody tr th {\n",
              "        vertical-align: top;\n",
              "    }\n",
              "\n",
              "    .dataframe thead th {\n",
              "        text-align: right;\n",
              "    }\n",
              "</style>\n",
              "<table border=\"1\" class=\"dataframe\">\n",
              "  <thead>\n",
              "    <tr style=\"text-align: right;\">\n",
              "      <th></th>\n",
              "      <th>age</th>\n",
              "      <th>bmi</th>\n",
              "      <th>children</th>\n",
              "      <th>sex_female</th>\n",
              "      <th>smoker_yes</th>\n",
              "    </tr>\n",
              "  </thead>\n",
              "  <tbody>\n",
              "    <tr>\n",
              "      <th>0</th>\n",
              "      <td>19</td>\n",
              "      <td>27.900</td>\n",
              "      <td>0</td>\n",
              "      <td>1</td>\n",
              "      <td>1</td>\n",
              "    </tr>\n",
              "    <tr>\n",
              "      <th>1</th>\n",
              "      <td>18</td>\n",
              "      <td>33.770</td>\n",
              "      <td>1</td>\n",
              "      <td>0</td>\n",
              "      <td>0</td>\n",
              "    </tr>\n",
              "    <tr>\n",
              "      <th>2</th>\n",
              "      <td>28</td>\n",
              "      <td>33.000</td>\n",
              "      <td>3</td>\n",
              "      <td>0</td>\n",
              "      <td>0</td>\n",
              "    </tr>\n",
              "    <tr>\n",
              "      <th>3</th>\n",
              "      <td>33</td>\n",
              "      <td>22.705</td>\n",
              "      <td>0</td>\n",
              "      <td>0</td>\n",
              "      <td>0</td>\n",
              "    </tr>\n",
              "    <tr>\n",
              "      <th>4</th>\n",
              "      <td>32</td>\n",
              "      <td>28.880</td>\n",
              "      <td>0</td>\n",
              "      <td>0</td>\n",
              "      <td>0</td>\n",
              "    </tr>\n",
              "  </tbody>\n",
              "</table>\n",
              "</div>\n",
              "      <button class=\"colab-df-convert\" onclick=\"convertToInteractive('df-622402b4-3494-445f-b98d-4ec1a6178649')\"\n",
              "              title=\"Convert this dataframe to an interactive table.\"\n",
              "              style=\"display:none;\">\n",
              "        \n",
              "  <svg xmlns=\"http://www.w3.org/2000/svg\" height=\"24px\"viewBox=\"0 0 24 24\"\n",
              "       width=\"24px\">\n",
              "    <path d=\"M0 0h24v24H0V0z\" fill=\"none\"/>\n",
              "    <path d=\"M18.56 5.44l.94 2.06.94-2.06 2.06-.94-2.06-.94-.94-2.06-.94 2.06-2.06.94zm-11 1L8.5 8.5l.94-2.06 2.06-.94-2.06-.94L8.5 2.5l-.94 2.06-2.06.94zm10 10l.94 2.06.94-2.06 2.06-.94-2.06-.94-.94-2.06-.94 2.06-2.06.94z\"/><path d=\"M17.41 7.96l-1.37-1.37c-.4-.4-.92-.59-1.43-.59-.52 0-1.04.2-1.43.59L10.3 9.45l-7.72 7.72c-.78.78-.78 2.05 0 2.83L4 21.41c.39.39.9.59 1.41.59.51 0 1.02-.2 1.41-.59l7.78-7.78 2.81-2.81c.8-.78.8-2.07 0-2.86zM5.41 20L4 18.59l7.72-7.72 1.47 1.35L5.41 20z\"/>\n",
              "  </svg>\n",
              "      </button>\n",
              "      \n",
              "  <style>\n",
              "    .colab-df-container {\n",
              "      display:flex;\n",
              "      flex-wrap:wrap;\n",
              "      gap: 12px;\n",
              "    }\n",
              "\n",
              "    .colab-df-convert {\n",
              "      background-color: #E8F0FE;\n",
              "      border: none;\n",
              "      border-radius: 50%;\n",
              "      cursor: pointer;\n",
              "      display: none;\n",
              "      fill: #1967D2;\n",
              "      height: 32px;\n",
              "      padding: 0 0 0 0;\n",
              "      width: 32px;\n",
              "    }\n",
              "\n",
              "    .colab-df-convert:hover {\n",
              "      background-color: #E2EBFA;\n",
              "      box-shadow: 0px 1px 2px rgba(60, 64, 67, 0.3), 0px 1px 3px 1px rgba(60, 64, 67, 0.15);\n",
              "      fill: #174EA6;\n",
              "    }\n",
              "\n",
              "    [theme=dark] .colab-df-convert {\n",
              "      background-color: #3B4455;\n",
              "      fill: #D2E3FC;\n",
              "    }\n",
              "\n",
              "    [theme=dark] .colab-df-convert:hover {\n",
              "      background-color: #434B5C;\n",
              "      box-shadow: 0px 1px 3px 1px rgba(0, 0, 0, 0.15);\n",
              "      filter: drop-shadow(0px 1px 2px rgba(0, 0, 0, 0.3));\n",
              "      fill: #FFFFFF;\n",
              "    }\n",
              "  </style>\n",
              "\n",
              "      <script>\n",
              "        const buttonEl =\n",
              "          document.querySelector('#df-622402b4-3494-445f-b98d-4ec1a6178649 button.colab-df-convert');\n",
              "        buttonEl.style.display =\n",
              "          google.colab.kernel.accessAllowed ? 'block' : 'none';\n",
              "\n",
              "        async function convertToInteractive(key) {\n",
              "          const element = document.querySelector('#df-622402b4-3494-445f-b98d-4ec1a6178649');\n",
              "          const dataTable =\n",
              "            await google.colab.kernel.invokeFunction('convertToInteractive',\n",
              "                                                     [key], {});\n",
              "          if (!dataTable) return;\n",
              "\n",
              "          const docLinkHtml = 'Like what you see? Visit the ' +\n",
              "            '<a target=\"_blank\" href=https://colab.research.google.com/notebooks/data_table.ipynb>data table notebook</a>'\n",
              "            + ' to learn more about interactive tables.';\n",
              "          element.innerHTML = '';\n",
              "          dataTable['output_type'] = 'display_data';\n",
              "          await google.colab.output.renderOutput(dataTable, element);\n",
              "          const docLink = document.createElement('div');\n",
              "          docLink.innerHTML = docLinkHtml;\n",
              "          element.appendChild(docLink);\n",
              "        }\n",
              "      </script>\n",
              "    </div>\n",
              "  </div>\n",
              "  "
            ]
          },
          "metadata": {},
          "execution_count": 148
        }
      ]
    },
    {
      "cell_type": "code",
      "source": [
        "X_train_insurance.iloc[0]"
      ],
      "metadata": {
        "colab": {
          "base_uri": "https://localhost:8080/"
        },
        "id": "UKSOPqMpA8Qb",
        "outputId": "0bc8264a-c9ab-4cbe-a7dc-9f7102dca474"
      },
      "execution_count": 154,
      "outputs": [
        {
          "output_type": "execute_result",
          "data": {
            "text/plain": [
              "age           19.0\n",
              "bmi           27.9\n",
              "children       0.0\n",
              "sex_female     1.0\n",
              "smoker_yes     1.0\n",
              "Name: 0, dtype: float64"
            ]
          },
          "metadata": {},
          "execution_count": 154
        }
      ]
    },
    {
      "cell_type": "code",
      "source": [
        "X_test_insurance.head()"
      ],
      "metadata": {
        "colab": {
          "base_uri": "https://localhost:8080/",
          "height": 206
        },
        "id": "efqlarmo-yfv",
        "outputId": "2335e9ba-0926-4d90-d02e-1a4b34c81580"
      },
      "execution_count": 149,
      "outputs": [
        {
          "output_type": "execute_result",
          "data": {
            "text/plain": [
              "      age     bmi  children  sex_female  smoker_yes\n",
              "1070   37  37.070         1           0           1\n",
              "1071   63  31.445         0           0           0\n",
              "1072   21  31.255         0           0           0\n",
              "1073   54  28.880         2           1           0\n",
              "1074   60  18.335         0           1           0"
            ],
            "text/html": [
              "\n",
              "  <div id=\"df-4deb84ee-f9e7-45e5-9531-dbdccf79bc19\">\n",
              "    <div class=\"colab-df-container\">\n",
              "      <div>\n",
              "<style scoped>\n",
              "    .dataframe tbody tr th:only-of-type {\n",
              "        vertical-align: middle;\n",
              "    }\n",
              "\n",
              "    .dataframe tbody tr th {\n",
              "        vertical-align: top;\n",
              "    }\n",
              "\n",
              "    .dataframe thead th {\n",
              "        text-align: right;\n",
              "    }\n",
              "</style>\n",
              "<table border=\"1\" class=\"dataframe\">\n",
              "  <thead>\n",
              "    <tr style=\"text-align: right;\">\n",
              "      <th></th>\n",
              "      <th>age</th>\n",
              "      <th>bmi</th>\n",
              "      <th>children</th>\n",
              "      <th>sex_female</th>\n",
              "      <th>smoker_yes</th>\n",
              "    </tr>\n",
              "  </thead>\n",
              "  <tbody>\n",
              "    <tr>\n",
              "      <th>1070</th>\n",
              "      <td>37</td>\n",
              "      <td>37.070</td>\n",
              "      <td>1</td>\n",
              "      <td>0</td>\n",
              "      <td>1</td>\n",
              "    </tr>\n",
              "    <tr>\n",
              "      <th>1071</th>\n",
              "      <td>63</td>\n",
              "      <td>31.445</td>\n",
              "      <td>0</td>\n",
              "      <td>0</td>\n",
              "      <td>0</td>\n",
              "    </tr>\n",
              "    <tr>\n",
              "      <th>1072</th>\n",
              "      <td>21</td>\n",
              "      <td>31.255</td>\n",
              "      <td>0</td>\n",
              "      <td>0</td>\n",
              "      <td>0</td>\n",
              "    </tr>\n",
              "    <tr>\n",
              "      <th>1073</th>\n",
              "      <td>54</td>\n",
              "      <td>28.880</td>\n",
              "      <td>2</td>\n",
              "      <td>1</td>\n",
              "      <td>0</td>\n",
              "    </tr>\n",
              "    <tr>\n",
              "      <th>1074</th>\n",
              "      <td>60</td>\n",
              "      <td>18.335</td>\n",
              "      <td>0</td>\n",
              "      <td>1</td>\n",
              "      <td>0</td>\n",
              "    </tr>\n",
              "  </tbody>\n",
              "</table>\n",
              "</div>\n",
              "      <button class=\"colab-df-convert\" onclick=\"convertToInteractive('df-4deb84ee-f9e7-45e5-9531-dbdccf79bc19')\"\n",
              "              title=\"Convert this dataframe to an interactive table.\"\n",
              "              style=\"display:none;\">\n",
              "        \n",
              "  <svg xmlns=\"http://www.w3.org/2000/svg\" height=\"24px\"viewBox=\"0 0 24 24\"\n",
              "       width=\"24px\">\n",
              "    <path d=\"M0 0h24v24H0V0z\" fill=\"none\"/>\n",
              "    <path d=\"M18.56 5.44l.94 2.06.94-2.06 2.06-.94-2.06-.94-.94-2.06-.94 2.06-2.06.94zm-11 1L8.5 8.5l.94-2.06 2.06-.94-2.06-.94L8.5 2.5l-.94 2.06-2.06.94zm10 10l.94 2.06.94-2.06 2.06-.94-2.06-.94-.94-2.06-.94 2.06-2.06.94z\"/><path d=\"M17.41 7.96l-1.37-1.37c-.4-.4-.92-.59-1.43-.59-.52 0-1.04.2-1.43.59L10.3 9.45l-7.72 7.72c-.78.78-.78 2.05 0 2.83L4 21.41c.39.39.9.59 1.41.59.51 0 1.02-.2 1.41-.59l7.78-7.78 2.81-2.81c.8-.78.8-2.07 0-2.86zM5.41 20L4 18.59l7.72-7.72 1.47 1.35L5.41 20z\"/>\n",
              "  </svg>\n",
              "      </button>\n",
              "      \n",
              "  <style>\n",
              "    .colab-df-container {\n",
              "      display:flex;\n",
              "      flex-wrap:wrap;\n",
              "      gap: 12px;\n",
              "    }\n",
              "\n",
              "    .colab-df-convert {\n",
              "      background-color: #E8F0FE;\n",
              "      border: none;\n",
              "      border-radius: 50%;\n",
              "      cursor: pointer;\n",
              "      display: none;\n",
              "      fill: #1967D2;\n",
              "      height: 32px;\n",
              "      padding: 0 0 0 0;\n",
              "      width: 32px;\n",
              "    }\n",
              "\n",
              "    .colab-df-convert:hover {\n",
              "      background-color: #E2EBFA;\n",
              "      box-shadow: 0px 1px 2px rgba(60, 64, 67, 0.3), 0px 1px 3px 1px rgba(60, 64, 67, 0.15);\n",
              "      fill: #174EA6;\n",
              "    }\n",
              "\n",
              "    [theme=dark] .colab-df-convert {\n",
              "      background-color: #3B4455;\n",
              "      fill: #D2E3FC;\n",
              "    }\n",
              "\n",
              "    [theme=dark] .colab-df-convert:hover {\n",
              "      background-color: #434B5C;\n",
              "      box-shadow: 0px 1px 3px 1px rgba(0, 0, 0, 0.15);\n",
              "      filter: drop-shadow(0px 1px 2px rgba(0, 0, 0, 0.3));\n",
              "      fill: #FFFFFF;\n",
              "    }\n",
              "  </style>\n",
              "\n",
              "      <script>\n",
              "        const buttonEl =\n",
              "          document.querySelector('#df-4deb84ee-f9e7-45e5-9531-dbdccf79bc19 button.colab-df-convert');\n",
              "        buttonEl.style.display =\n",
              "          google.colab.kernel.accessAllowed ? 'block' : 'none';\n",
              "\n",
              "        async function convertToInteractive(key) {\n",
              "          const element = document.querySelector('#df-4deb84ee-f9e7-45e5-9531-dbdccf79bc19');\n",
              "          const dataTable =\n",
              "            await google.colab.kernel.invokeFunction('convertToInteractive',\n",
              "                                                     [key], {});\n",
              "          if (!dataTable) return;\n",
              "\n",
              "          const docLinkHtml = 'Like what you see? Visit the ' +\n",
              "            '<a target=\"_blank\" href=https://colab.research.google.com/notebooks/data_table.ipynb>data table notebook</a>'\n",
              "            + ' to learn more about interactive tables.';\n",
              "          element.innerHTML = '';\n",
              "          dataTable['output_type'] = 'display_data';\n",
              "          await google.colab.output.renderOutput(dataTable, element);\n",
              "          const docLink = document.createElement('div');\n",
              "          docLink.innerHTML = docLinkHtml;\n",
              "          element.appendChild(docLink);\n",
              "        }\n",
              "      </script>\n",
              "    </div>\n",
              "  </div>\n",
              "  "
            ]
          },
          "metadata": {},
          "execution_count": 149
        }
      ]
    },
    {
      "cell_type": "code",
      "source": [
        "y_train_insurance = y_insurance[0 : int(len(X_insurance) * 0.8)]\n",
        "\n",
        "y_test_insurance = y_insurance[int(len(X_insurance) * 0.8): ]\n",
        "\n",
        "y_train_insurance.head()"
      ],
      "metadata": {
        "colab": {
          "base_uri": "https://localhost:8080/",
          "height": 206
        },
        "id": "Wvd28_j4_YRG",
        "outputId": "e2de3dec-46fe-4d22-ae45-9bfd627646d3"
      },
      "execution_count": 184,
      "outputs": [
        {
          "output_type": "execute_result",
          "data": {
            "text/plain": [
              "       charges\n",
              "0  16884.92400\n",
              "1   1725.55230\n",
              "2   4449.46200\n",
              "3  21984.47061\n",
              "4   3866.85520"
            ],
            "text/html": [
              "\n",
              "  <div id=\"df-546a01e9-9aea-4a8b-8de5-e1036e63cf44\">\n",
              "    <div class=\"colab-df-container\">\n",
              "      <div>\n",
              "<style scoped>\n",
              "    .dataframe tbody tr th:only-of-type {\n",
              "        vertical-align: middle;\n",
              "    }\n",
              "\n",
              "    .dataframe tbody tr th {\n",
              "        vertical-align: top;\n",
              "    }\n",
              "\n",
              "    .dataframe thead th {\n",
              "        text-align: right;\n",
              "    }\n",
              "</style>\n",
              "<table border=\"1\" class=\"dataframe\">\n",
              "  <thead>\n",
              "    <tr style=\"text-align: right;\">\n",
              "      <th></th>\n",
              "      <th>charges</th>\n",
              "    </tr>\n",
              "  </thead>\n",
              "  <tbody>\n",
              "    <tr>\n",
              "      <th>0</th>\n",
              "      <td>16884.92400</td>\n",
              "    </tr>\n",
              "    <tr>\n",
              "      <th>1</th>\n",
              "      <td>1725.55230</td>\n",
              "    </tr>\n",
              "    <tr>\n",
              "      <th>2</th>\n",
              "      <td>4449.46200</td>\n",
              "    </tr>\n",
              "    <tr>\n",
              "      <th>3</th>\n",
              "      <td>21984.47061</td>\n",
              "    </tr>\n",
              "    <tr>\n",
              "      <th>4</th>\n",
              "      <td>3866.85520</td>\n",
              "    </tr>\n",
              "  </tbody>\n",
              "</table>\n",
              "</div>\n",
              "      <button class=\"colab-df-convert\" onclick=\"convertToInteractive('df-546a01e9-9aea-4a8b-8de5-e1036e63cf44')\"\n",
              "              title=\"Convert this dataframe to an interactive table.\"\n",
              "              style=\"display:none;\">\n",
              "        \n",
              "  <svg xmlns=\"http://www.w3.org/2000/svg\" height=\"24px\"viewBox=\"0 0 24 24\"\n",
              "       width=\"24px\">\n",
              "    <path d=\"M0 0h24v24H0V0z\" fill=\"none\"/>\n",
              "    <path d=\"M18.56 5.44l.94 2.06.94-2.06 2.06-.94-2.06-.94-.94-2.06-.94 2.06-2.06.94zm-11 1L8.5 8.5l.94-2.06 2.06-.94-2.06-.94L8.5 2.5l-.94 2.06-2.06.94zm10 10l.94 2.06.94-2.06 2.06-.94-2.06-.94-.94-2.06-.94 2.06-2.06.94z\"/><path d=\"M17.41 7.96l-1.37-1.37c-.4-.4-.92-.59-1.43-.59-.52 0-1.04.2-1.43.59L10.3 9.45l-7.72 7.72c-.78.78-.78 2.05 0 2.83L4 21.41c.39.39.9.59 1.41.59.51 0 1.02-.2 1.41-.59l7.78-7.78 2.81-2.81c.8-.78.8-2.07 0-2.86zM5.41 20L4 18.59l7.72-7.72 1.47 1.35L5.41 20z\"/>\n",
              "  </svg>\n",
              "      </button>\n",
              "      \n",
              "  <style>\n",
              "    .colab-df-container {\n",
              "      display:flex;\n",
              "      flex-wrap:wrap;\n",
              "      gap: 12px;\n",
              "    }\n",
              "\n",
              "    .colab-df-convert {\n",
              "      background-color: #E8F0FE;\n",
              "      border: none;\n",
              "      border-radius: 50%;\n",
              "      cursor: pointer;\n",
              "      display: none;\n",
              "      fill: #1967D2;\n",
              "      height: 32px;\n",
              "      padding: 0 0 0 0;\n",
              "      width: 32px;\n",
              "    }\n",
              "\n",
              "    .colab-df-convert:hover {\n",
              "      background-color: #E2EBFA;\n",
              "      box-shadow: 0px 1px 2px rgba(60, 64, 67, 0.3), 0px 1px 3px 1px rgba(60, 64, 67, 0.15);\n",
              "      fill: #174EA6;\n",
              "    }\n",
              "\n",
              "    [theme=dark] .colab-df-convert {\n",
              "      background-color: #3B4455;\n",
              "      fill: #D2E3FC;\n",
              "    }\n",
              "\n",
              "    [theme=dark] .colab-df-convert:hover {\n",
              "      background-color: #434B5C;\n",
              "      box-shadow: 0px 1px 3px 1px rgba(0, 0, 0, 0.15);\n",
              "      filter: drop-shadow(0px 1px 2px rgba(0, 0, 0, 0.3));\n",
              "      fill: #FFFFFF;\n",
              "    }\n",
              "  </style>\n",
              "\n",
              "      <script>\n",
              "        const buttonEl =\n",
              "          document.querySelector('#df-546a01e9-9aea-4a8b-8de5-e1036e63cf44 button.colab-df-convert');\n",
              "        buttonEl.style.display =\n",
              "          google.colab.kernel.accessAllowed ? 'block' : 'none';\n",
              "\n",
              "        async function convertToInteractive(key) {\n",
              "          const element = document.querySelector('#df-546a01e9-9aea-4a8b-8de5-e1036e63cf44');\n",
              "          const dataTable =\n",
              "            await google.colab.kernel.invokeFunction('convertToInteractive',\n",
              "                                                     [key], {});\n",
              "          if (!dataTable) return;\n",
              "\n",
              "          const docLinkHtml = 'Like what you see? Visit the ' +\n",
              "            '<a target=\"_blank\" href=https://colab.research.google.com/notebooks/data_table.ipynb>data table notebook</a>'\n",
              "            + ' to learn more about interactive tables.';\n",
              "          element.innerHTML = '';\n",
              "          dataTable['output_type'] = 'display_data';\n",
              "          await google.colab.output.renderOutput(dataTable, element);\n",
              "          const docLink = document.createElement('div');\n",
              "          docLink.innerHTML = docLinkHtml;\n",
              "          element.appendChild(docLink);\n",
              "        }\n",
              "      </script>\n",
              "    </div>\n",
              "  </div>\n",
              "  "
            ]
          },
          "metadata": {},
          "execution_count": 184
        }
      ]
    },
    {
      "cell_type": "code",
      "source": [
        "y_test_insurance.head()"
      ],
      "metadata": {
        "colab": {
          "base_uri": "https://localhost:8080/",
          "height": 206
        },
        "id": "4s76tFpS_wRI",
        "outputId": "97dfe720-6dad-4563-aada-5be13eb2fba6"
      },
      "execution_count": 185,
      "outputs": [
        {
          "output_type": "execute_result",
          "data": {
            "text/plain": [
              "          charges\n",
              "1070  39871.70430\n",
              "1071  13974.45555\n",
              "1072   1909.52745\n",
              "1073  12096.65120\n",
              "1074  13204.28565"
            ],
            "text/html": [
              "\n",
              "  <div id=\"df-8e4ae48d-aad6-4ffd-9b79-ca09ab2d2bea\">\n",
              "    <div class=\"colab-df-container\">\n",
              "      <div>\n",
              "<style scoped>\n",
              "    .dataframe tbody tr th:only-of-type {\n",
              "        vertical-align: middle;\n",
              "    }\n",
              "\n",
              "    .dataframe tbody tr th {\n",
              "        vertical-align: top;\n",
              "    }\n",
              "\n",
              "    .dataframe thead th {\n",
              "        text-align: right;\n",
              "    }\n",
              "</style>\n",
              "<table border=\"1\" class=\"dataframe\">\n",
              "  <thead>\n",
              "    <tr style=\"text-align: right;\">\n",
              "      <th></th>\n",
              "      <th>charges</th>\n",
              "    </tr>\n",
              "  </thead>\n",
              "  <tbody>\n",
              "    <tr>\n",
              "      <th>1070</th>\n",
              "      <td>39871.70430</td>\n",
              "    </tr>\n",
              "    <tr>\n",
              "      <th>1071</th>\n",
              "      <td>13974.45555</td>\n",
              "    </tr>\n",
              "    <tr>\n",
              "      <th>1072</th>\n",
              "      <td>1909.52745</td>\n",
              "    </tr>\n",
              "    <tr>\n",
              "      <th>1073</th>\n",
              "      <td>12096.65120</td>\n",
              "    </tr>\n",
              "    <tr>\n",
              "      <th>1074</th>\n",
              "      <td>13204.28565</td>\n",
              "    </tr>\n",
              "  </tbody>\n",
              "</table>\n",
              "</div>\n",
              "      <button class=\"colab-df-convert\" onclick=\"convertToInteractive('df-8e4ae48d-aad6-4ffd-9b79-ca09ab2d2bea')\"\n",
              "              title=\"Convert this dataframe to an interactive table.\"\n",
              "              style=\"display:none;\">\n",
              "        \n",
              "  <svg xmlns=\"http://www.w3.org/2000/svg\" height=\"24px\"viewBox=\"0 0 24 24\"\n",
              "       width=\"24px\">\n",
              "    <path d=\"M0 0h24v24H0V0z\" fill=\"none\"/>\n",
              "    <path d=\"M18.56 5.44l.94 2.06.94-2.06 2.06-.94-2.06-.94-.94-2.06-.94 2.06-2.06.94zm-11 1L8.5 8.5l.94-2.06 2.06-.94-2.06-.94L8.5 2.5l-.94 2.06-2.06.94zm10 10l.94 2.06.94-2.06 2.06-.94-2.06-.94-.94-2.06-.94 2.06-2.06.94z\"/><path d=\"M17.41 7.96l-1.37-1.37c-.4-.4-.92-.59-1.43-.59-.52 0-1.04.2-1.43.59L10.3 9.45l-7.72 7.72c-.78.78-.78 2.05 0 2.83L4 21.41c.39.39.9.59 1.41.59.51 0 1.02-.2 1.41-.59l7.78-7.78 2.81-2.81c.8-.78.8-2.07 0-2.86zM5.41 20L4 18.59l7.72-7.72 1.47 1.35L5.41 20z\"/>\n",
              "  </svg>\n",
              "      </button>\n",
              "      \n",
              "  <style>\n",
              "    .colab-df-container {\n",
              "      display:flex;\n",
              "      flex-wrap:wrap;\n",
              "      gap: 12px;\n",
              "    }\n",
              "\n",
              "    .colab-df-convert {\n",
              "      background-color: #E8F0FE;\n",
              "      border: none;\n",
              "      border-radius: 50%;\n",
              "      cursor: pointer;\n",
              "      display: none;\n",
              "      fill: #1967D2;\n",
              "      height: 32px;\n",
              "      padding: 0 0 0 0;\n",
              "      width: 32px;\n",
              "    }\n",
              "\n",
              "    .colab-df-convert:hover {\n",
              "      background-color: #E2EBFA;\n",
              "      box-shadow: 0px 1px 2px rgba(60, 64, 67, 0.3), 0px 1px 3px 1px rgba(60, 64, 67, 0.15);\n",
              "      fill: #174EA6;\n",
              "    }\n",
              "\n",
              "    [theme=dark] .colab-df-convert {\n",
              "      background-color: #3B4455;\n",
              "      fill: #D2E3FC;\n",
              "    }\n",
              "\n",
              "    [theme=dark] .colab-df-convert:hover {\n",
              "      background-color: #434B5C;\n",
              "      box-shadow: 0px 1px 3px 1px rgba(0, 0, 0, 0.15);\n",
              "      filter: drop-shadow(0px 1px 2px rgba(0, 0, 0, 0.3));\n",
              "      fill: #FFFFFF;\n",
              "    }\n",
              "  </style>\n",
              "\n",
              "      <script>\n",
              "        const buttonEl =\n",
              "          document.querySelector('#df-8e4ae48d-aad6-4ffd-9b79-ca09ab2d2bea button.colab-df-convert');\n",
              "        buttonEl.style.display =\n",
              "          google.colab.kernel.accessAllowed ? 'block' : 'none';\n",
              "\n",
              "        async function convertToInteractive(key) {\n",
              "          const element = document.querySelector('#df-8e4ae48d-aad6-4ffd-9b79-ca09ab2d2bea');\n",
              "          const dataTable =\n",
              "            await google.colab.kernel.invokeFunction('convertToInteractive',\n",
              "                                                     [key], {});\n",
              "          if (!dataTable) return;\n",
              "\n",
              "          const docLinkHtml = 'Like what you see? Visit the ' +\n",
              "            '<a target=\"_blank\" href=https://colab.research.google.com/notebooks/data_table.ipynb>data table notebook</a>'\n",
              "            + ' to learn more about interactive tables.';\n",
              "          element.innerHTML = '';\n",
              "          dataTable['output_type'] = 'display_data';\n",
              "          await google.colab.output.renderOutput(dataTable, element);\n",
              "          const docLink = document.createElement('div');\n",
              "          docLink.innerHTML = docLinkHtml;\n",
              "          element.appendChild(docLink);\n",
              "        }\n",
              "      </script>\n",
              "    </div>\n",
              "  </div>\n",
              "  "
            ]
          },
          "metadata": {},
          "execution_count": 185
        }
      ]
    },
    {
      "cell_type": "code",
      "source": [
        "from sklearn.model_selection import train_test_split\n",
        "X_train_insurance, X_test_insurance, y_train_insurance, y_test_insurance = train_test_split(\n",
        "    X_insurance, y_insurance, test_size=0.8, random_state=42\n",
        ")\n",
        "len(X_train_insurance), len(X_test_insurance) "
      ],
      "metadata": {
        "colab": {
          "base_uri": "https://localhost:8080/"
        },
        "id": "O8XuE3wKJU3k",
        "outputId": "529a52f5-63bd-4619-df2f-498ca5f1b28d"
      },
      "execution_count": 294,
      "outputs": [
        {
          "output_type": "execute_result",
          "data": {
            "text/plain": [
              "(267, 1071)"
            ]
          },
          "metadata": {},
          "execution_count": 294
        }
      ]
    },
    {
      "cell_type": "code",
      "source": [
        "tf.random.set_seed(42)\n",
        "insurance_model = tf.keras.Sequential([\n",
        "  tf.keras.layers.Dense(100, input_shape=[11]),\n",
        "  tf.keras.layers.Dense(50),\n",
        "  tf.keras.layers.Dense(1)\n",
        "])\n",
        "insurance_model.compile(\n",
        "    loss=tf.keras.losses.mae,\n",
        "    optimizer=tf.keras.optimizers.Adam(lr=0.02),\n",
        "    metrics=[\"mae\"]\n",
        ")\n",
        "history = insurance_model.fit(X_train_insurance, y_train_insurance, epochs=100, verbose=0)"
      ],
      "metadata": {
        "colab": {
          "base_uri": "https://localhost:8080/"
        },
        "id": "GrFeZIwKAeI1",
        "outputId": "81c87f87-717a-4412-9430-92c340ee66af"
      },
      "execution_count": 351,
      "outputs": [
        {
          "output_type": "stream",
          "name": "stderr",
          "text": [
            "/usr/local/lib/python3.7/dist-packages/keras/optimizer_v2/adam.py:105: UserWarning: The `lr` argument is deprecated, use `learning_rate` instead.\n",
            "  super(Adam, self).__init__(name, **kwargs)\n"
          ]
        }
      ]
    },
    {
      "cell_type": "code",
      "source": [
        "# Plot history (also known as a loss curve or a training curve)\n",
        "pd.DataFrame(history.history).plot()\n",
        "plt.ylabel(\"loss\")\n",
        "plt.xlabel(\"epochs\")"
      ],
      "metadata": {
        "colab": {
          "base_uri": "https://localhost:8080/",
          "height": 297
        },
        "id": "BODzbxLYO6fk",
        "outputId": "08da46b3-52d6-44fc-8f33-9c8393cd48d4"
      },
      "execution_count": 362,
      "outputs": [
        {
          "output_type": "execute_result",
          "data": {
            "text/plain": [
              "Text(0.5, 0, 'epochs')"
            ]
          },
          "metadata": {},
          "execution_count": 362
        },
        {
          "output_type": "display_data",
          "data": {
            "text/plain": [
              "<Figure size 432x288 with 1 Axes>"
            ],
            "image/png": "[encoded data removed]"
          },
          "metadata": {
            "needs_background": "light"
          }
        }
      ]
    },
    {
      "cell_type": "code",
      "source": [
        "mae(insurance_model), mse(insurance_model)"
      ],
      "metadata": {
        "colab": {
          "base_uri": "https://localhost:8080/"
        },
        "id": "Mgh1LFHSGJC3",
        "outputId": "5d3762f3-8b42-49c2-fcdc-0b724c93d9de"
      },
      "execution_count": 352,
      "outputs": [
        {
          "output_type": "execute_result",
          "data": {
            "text/plain": [
              "(75.28398, 5799.678)"
            ]
          },
          "metadata": {},
          "execution_count": 352
        }
      ]
    },
    {
      "cell_type": "code",
      "source": [
        "insurance_model.evaluate(X_test_insurance, y_test_insurance)"
      ],
      "metadata": {
        "colab": {
          "base_uri": "https://localhost:8080/"
        },
        "id": "L1J0U7PQL0Zr",
        "outputId": "9ae598cb-0548-4b61-e903-ebdfce578529"
      },
      "execution_count": 353,
      "outputs": [
        {
          "output_type": "stream",
          "name": "stdout",
          "text": [
            "34/34 [==============================] - 1s 6ms/step - loss: 3469.3499 - mae: 3469.3499\n"
          ]
        },
        {
          "output_type": "execute_result",
          "data": {
            "text/plain": [
              "[3469.349853515625, 3469.349853515625]"
            ]
          },
          "metadata": {},
          "execution_count": 353
        }
      ]
    },
    {
      "cell_type": "code",
      "source": [
        "y_pred_insurance = insurance_model.predict(X_test_insurance)"
      ],
      "metadata": {
        "id": "FSR0kFSLBgA7"
      },
      "execution_count": 354,
      "outputs": []
    },
    {
      "cell_type": "code",
      "source": [
        "tf.squeeze(y_pred_insurance).shape, X_test_insurance.shape"
      ],
      "metadata": {
        "colab": {
          "base_uri": "https://localhost:8080/"
        },
        "id": "hCAyIPzaClN8",
        "outputId": "e292727b-58ae-4c4d-8849-59309bde533f"
      },
      "execution_count": 355,
      "outputs": [
        {
          "output_type": "execute_result",
          "data": {
            "text/plain": [
              "(TensorShape([1071]), (1071, 11))"
            ]
          },
          "metadata": {},
          "execution_count": 355
        }
      ]
    },
    {
      "cell_type": "code",
      "source": [
        "X_test_insurance[\"age\"].size, y_test_insurance.size"
      ],
      "metadata": {
        "colab": {
          "base_uri": "https://localhost:8080/"
        },
        "id": "jyZS7NjdDMCe",
        "outputId": "1f5d092f-cf1f-4b99-8b10-e4cd91f41208"
      },
      "execution_count": 356,
      "outputs": [
        {
          "output_type": "execute_result",
          "data": {
            "text/plain": [
              "(1071, 1071)"
            ]
          },
          "metadata": {},
          "execution_count": 356
        }
      ]
    },
    {
      "cell_type": "code",
      "source": [
        "# tf.squeeze(y_test_insurance)\n",
        "plt.figure(figsize=(10,7))\n",
        "plt.scatter(X_train_insurance[\"age\"], y_train_insurance, c=\"y\", label=\"Train\")\n",
        "plt.scatter(X_test_insurance[\"age\"], y_test_insurance, c=\"g\", label=\"Ground data\")\n",
        "plt.scatter(X_test_insurance[\"age\"], y_pred_insurance, c=\"r\", label=\"Prediction\")\n",
        "plt.xlabel(\"Age\")\n",
        "plt.ylabel(\"Charges\")\n",
        "plt.legend()"
      ],
      "metadata": {
        "colab": {
          "base_uri": "https://localhost:8080/",
          "height": 460
        },
        "id": "7PpDl-C3EIT9",
        "outputId": "a4007ac2-de84-4117-d1e9-848a8991eebc"
      },
      "execution_count": 363,
      "outputs": [
        {
          "output_type": "execute_result",
          "data": {
            "text/plain": [
              "<matplotlib.legend.Legend at 0x7f3a8670ebd0>"
            ]
          },
          "metadata": {},
          "execution_count": 363
        },
        {
          "output_type": "display_data",
          "data": {
            "text/plain": [
              "<Figure size 720x504 with 1 Axes>"
            ],
            "image/png": "[encoded data removed]"
          },
          "metadata": {
            "needs_background": "light"
          }
        }
      ]
    },
    {
      "cell_type": "code",
      "source": [
        "y_pred_insurance[0:10]"
      ],
      "metadata": {
        "colab": {
          "base_uri": "https://localhost:8080/"
        },
        "id": "t4fBdvYGFzHr",
        "outputId": "a28c2de2-3216-4044-b390-cc9f488b3035"
      },
      "execution_count": 358,
      "outputs": [
        {
          "output_type": "execute_result",
          "data": {
            "text/plain": [
              "array([[ 9159.888 ],\n",
              "       [ 5919.3604],\n",
              "       [42761.26  ],\n",
              "       [ 8996.533 ],\n",
              "       [31009.072 ],\n",
              "       [ 5393.063 ],\n",
              "       [ 1187.5166],\n",
              "       [12865.41  ],\n",
              "       [ 3491.2205],\n",
              "       [ 9920.977 ]], dtype=float32)"
            ]
          },
          "metadata": {},
          "execution_count": 358
        }
      ]
    },
    {
      "cell_type": "code",
      "source": [
        "y_test_insurance[0:10]"
      ],
      "metadata": {
        "colab": {
          "base_uri": "https://localhost:8080/",
          "height": 363
        },
        "id": "AYauEkdhF53-",
        "outputId": "8b418bfb-c3f0-4314-9d2f-7dcf3f9fc655"
      },
      "execution_count": 308,
      "outputs": [
        {
          "output_type": "execute_result",
          "data": {
            "text/plain": [
              "          charges\n",
              "764    9095.06825\n",
              "887    5272.17580\n",
              "890   29330.98315\n",
              "1293   9301.89355\n",
              "259   33750.29180\n",
              "1312   4536.25900\n",
              "899    2117.33885\n",
              "752   14210.53595\n",
              "1286   3732.62510\n",
              "707   10264.44210"
            ],
            "text/html": [
              "\n",
              "  <div id=\"df-f1189d97-bdfd-4794-bdcc-d96b8103952a\">\n",
              "    <div class=\"colab-df-container\">\n",
              "      <div>\n",
              "<style scoped>\n",
              "    .dataframe tbody tr th:only-of-type {\n",
              "        vertical-align: middle;\n",
              "    }\n",
              "\n",
              "    .dataframe tbody tr th {\n",
              "        vertical-align: top;\n",
              "    }\n",
              "\n",
              "    .dataframe thead th {\n",
              "        text-align: right;\n",
              "    }\n",
              "</style>\n",
              "<table border=\"1\" class=\"dataframe\">\n",
              "  <thead>\n",
              "    <tr style=\"text-align: right;\">\n",
              "      <th></th>\n",
              "      <th>charges</th>\n",
              "    </tr>\n",
              "  </thead>\n",
              "  <tbody>\n",
              "    <tr>\n",
              "      <th>764</th>\n",
              "      <td>9095.06825</td>\n",
              "    </tr>\n",
              "    <tr>\n",
              "      <th>887</th>\n",
              "      <td>5272.17580</td>\n",
              "    </tr>\n",
              "    <tr>\n",
              "      <th>890</th>\n",
              "      <td>29330.98315</td>\n",
              "    </tr>\n",
              "    <tr>\n",
              "      <th>1293</th>\n",
              "      <td>9301.89355</td>\n",
              "    </tr>\n",
              "    <tr>\n",
              "      <th>259</th>\n",
              "      <td>33750.29180</td>\n",
              "    </tr>\n",
              "    <tr>\n",
              "      <th>1312</th>\n",
              "      <td>4536.25900</td>\n",
              "    </tr>\n",
              "    <tr>\n",
              "      <th>899</th>\n",
              "      <td>2117.33885</td>\n",
              "    </tr>\n",
              "    <tr>\n",
              "      <th>752</th>\n",
              "      <td>14210.53595</td>\n",
              "    </tr>\n",
              "    <tr>\n",
              "      <th>1286</th>\n",
              "      <td>3732.62510</td>\n",
              "    </tr>\n",
              "    <tr>\n",
              "      <th>707</th>\n",
              "      <td>10264.44210</td>\n",
              "    </tr>\n",
              "  </tbody>\n",
              "</table>\n",
              "</div>\n",
              "      <button class=\"colab-df-convert\" onclick=\"convertToInteractive('df-f1189d97-bdfd-4794-bdcc-d96b8103952a')\"\n",
              "              title=\"Convert this dataframe to an interactive table.\"\n",
              "              style=\"display:none;\">\n",
              "        \n",
              "  <svg xmlns=\"http://www.w3.org/2000/svg\" height=\"24px\"viewBox=\"0 0 24 24\"\n",
              "       width=\"24px\">\n",
              "    <path d=\"M0 0h24v24H0V0z\" fill=\"none\"/>\n",
              "    <path d=\"M18.56 5.44l.94 2.06.94-2.06 2.06-.94-2.06-.94-.94-2.06-.94 2.06-2.06.94zm-11 1L8.5 8.5l.94-2.06 2.06-.94-2.06-.94L8.5 2.5l-.94 2.06-2.06.94zm10 10l.94 2.06.94-2.06 2.06-.94-2.06-.94-.94-2.06-.94 2.06-2.06.94z\"/><path d=\"M17.41 7.96l-1.37-1.37c-.4-.4-.92-.59-1.43-.59-.52 0-1.04.2-1.43.59L10.3 9.45l-7.72 7.72c-.78.78-.78 2.05 0 2.83L4 21.41c.39.39.9.59 1.41.59.51 0 1.02-.2 1.41-.59l7.78-7.78 2.81-2.81c.8-.78.8-2.07 0-2.86zM5.41 20L4 18.59l7.72-7.72 1.47 1.35L5.41 20z\"/>\n",
              "  </svg>\n",
              "      </button>\n",
              "      \n",
              "  <style>\n",
              "    .colab-df-container {\n",
              "      display:flex;\n",
              "      flex-wrap:wrap;\n",
              "      gap: 12px;\n",
              "    }\n",
              "\n",
              "    .colab-df-convert {\n",
              "      background-color: #E8F0FE;\n",
              "      border: none;\n",
              "      border-radius: 50%;\n",
              "      cursor: pointer;\n",
              "      display: none;\n",
              "      fill: #1967D2;\n",
              "      height: 32px;\n",
              "      padding: 0 0 0 0;\n",
              "      width: 32px;\n",
              "    }\n",
              "\n",
              "    .colab-df-convert:hover {\n",
              "      background-color: #E2EBFA;\n",
              "      box-shadow: 0px 1px 2px rgba(60, 64, 67, 0.3), 0px 1px 3px 1px rgba(60, 64, 67, 0.15);\n",
              "      fill: #174EA6;\n",
              "    }\n",
              "\n",
              "    [theme=dark] .colab-df-convert {\n",
              "      background-color: #3B4455;\n",
              "      fill: #D2E3FC;\n",
              "    }\n",
              "\n",
              "    [theme=dark] .colab-df-convert:hover {\n",
              "      background-color: #434B5C;\n",
              "      box-shadow: 0px 1px 3px 1px rgba(0, 0, 0, 0.15);\n",
              "      filter: drop-shadow(0px 1px 2px rgba(0, 0, 0, 0.3));\n",
              "      fill: #FFFFFF;\n",
              "    }\n",
              "  </style>\n",
              "\n",
              "      <script>\n",
              "        const buttonEl =\n",
              "          document.querySelector('#df-f1189d97-bdfd-4794-bdcc-d96b8103952a button.colab-df-convert');\n",
              "        buttonEl.style.display =\n",
              "          google.colab.kernel.accessAllowed ? 'block' : 'none';\n",
              "\n",
              "        async function convertToInteractive(key) {\n",
              "          const element = document.querySelector('#df-f1189d97-bdfd-4794-bdcc-d96b8103952a');\n",
              "          const dataTable =\n",
              "            await google.colab.kernel.invokeFunction('convertToInteractive',\n",
              "                                                     [key], {});\n",
              "          if (!dataTable) return;\n",
              "\n",
              "          const docLinkHtml = 'Like what you see? Visit the ' +\n",
              "            '<a target=\"_blank\" href=https://colab.research.google.com/notebooks/data_table.ipynb>data table notebook</a>'\n",
              "            + ' to learn more about interactive tables.';\n",
              "          element.innerHTML = '';\n",
              "          dataTable['output_type'] = 'display_data';\n",
              "          await google.colab.output.renderOutput(dataTable, element);\n",
              "          const docLink = document.createElement('div');\n",
              "          docLink.innerHTML = docLinkHtml;\n",
              "          element.appendChild(docLink);\n",
              "        }\n",
              "      </script>\n",
              "    </div>\n",
              "  </div>\n",
              "  "
            ]
          },
          "metadata": {},
          "execution_count": 308
        }
      ]
    },
    {
      "cell_type": "markdown",
      "source": [
        "> 🤔 How long should a model be tranied?\n",
        "\n",
        "It depends on the problem being worked on. However there is a solution in TensoryFlow- ***EarlyStopping Callback***.\n",
        "Example: This can be used to tell tensorflow: stop training if the losses is non-decreasing continuously for 10 (n) epochs"
      ],
      "metadata": {
        "id": "F7N9hSkoB435"
      }
    },
    {
      "cell_type": "markdown",
      "source": [
        "## Preprocessing data (normalization and standardization)"
      ],
      "metadata": {
        "id": "desunEVtCOEO"
      }
    },
    {
      "cell_type": "code",
      "source": [
        ""
      ],
      "metadata": {
        "id": "HvRQ09eoQyaD"
      },
      "execution_count": null,
      "outputs": []
    }
  ]
}