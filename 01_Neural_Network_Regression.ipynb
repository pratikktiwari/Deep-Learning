{
  "nbformat": 4,
  "nbformat_minor": 0,
  "metadata": {
    "colab": {
      "name": "01_Neural Network Regression.ipynb",
      "provenance": [],
      "collapsed_sections": [],
      "authorship_tag": "ABX9TyMs0uACCzP1HEZtEP+gm9AA",
      "include_colab_link": true
    },
    "kernelspec": {
      "name": "python3",
      "display_name": "Python 3"
    },
    "language_info": {
      "name": "python"
    }
  },
  "cells": [
    {
      "cell_type": "markdown",
      "metadata": {
        "id": "view-in-github",
        "colab_type": "text"
      },
      "source": [
        "<a href=\"https://colab.research.google.com/github/pratikktiwari/ML-Learnings/blob/main/01_Neural_Network_Regression.ipynb\" target=\"_parent\"><img src=\"https://colab.research.google.com/assets/colab-badge.svg\" alt=\"Open In Colab\"/></a>"
      ]
    },
    {
      "cell_type": "markdown",
      "source": [
        "# Introduction to Regression with Neural Networks in TensorFlow\n",
        "There are many definitions for a regression problem but in our case, we're going to to simplify it: predicting numerical variables based on some other combination of variables, even shorter... predicting number."
      ],
      "metadata": {
        "id": "Jo5yDLGLPhgt"
      }
    },
    {
      "cell_type": "code",
      "source": [
        "# Import TensforFlow\n",
        "import tensorflow as tf\n",
        "print(tf.__version__)"
      ],
      "metadata": {
        "colab": {
          "base_uri": "https://localhost:8080/"
        },
        "id": "wWnLOMKwQIz5",
        "outputId": "86b2eda0-8f27-48f2-8963-ba5135f291a1"
      },
      "execution_count": 1,
      "outputs": [
        {
          "output_type": "stream",
          "name": "stdout",
          "text": [
            "2.8.2\n"
          ]
        }
      ]
    },
    {
      "cell_type": "markdown",
      "source": [
        "## Creating data to view and fit"
      ],
      "metadata": {
        "id": "UuEvUrlAQeAJ"
      }
    },
    {
      "cell_type": "code",
      "source": [
        "import numpy as np\n",
        "import matplotlib.pyplot as plt\n",
        "\n",
        "# Create features\n",
        "X = np.array([-7.0, -4.0, -1, 2.0, 5.0, 8.0, 11.0, 14.0])\n",
        "\n",
        "# Create labels\n",
        "y = np.array([3.0, 6.0, 9.0, 12.0, 15.0, 18.0, 21.0, 24.0])\n",
        "\n",
        "# Visualize it\n",
        "plt.scatter(X,y)"
      ],
      "metadata": {
        "colab": {
          "base_uri": "https://localhost:8080/",
          "height": 287
        },
        "id": "3uTbTCFNQwoX",
        "outputId": "720897fb-c387-4ce2-8a42-050a01763bfa"
      },
      "execution_count": 45,
      "outputs": [
        {
          "output_type": "execute_result",
          "data": {
            "text/plain": [
              "<matplotlib.collections.PathCollection at 0x7fa9ce8c6810>"
            ]
          },
          "metadata": {},
          "execution_count": 45
        },
        {
          "output_type": "display_data",
          "data": {
            "text/plain": [
              "<Figure size 432x288 with 1 Axes>"
            ],
            "image/png": "[encoded data removed]"
          },
          "metadata": {
            "needs_background": "light"
          }
        }
      ]
    },
    {
      "cell_type": "code",
      "source": [
        "# Relationship\n",
        "\n",
        "y == X + 10"
      ],
      "metadata": {
        "colab": {
          "base_uri": "https://localhost:8080/"
        },
        "id": "ckFcQ18TRTz0",
        "outputId": "a553dfcb-f486-4df5-d250-097638ecf804"
      },
      "execution_count": 46,
      "outputs": [
        {
          "output_type": "execute_result",
          "data": {
            "text/plain": [
              "array([ True,  True,  True,  True,  True,  True,  True,  True])"
            ]
          },
          "metadata": {},
          "execution_count": 46
        }
      ]
    },
    {
      "cell_type": "markdown",
      "source": [
        "## Input and output shapes"
      ],
      "metadata": {
        "id": "F-G5QsghRmm1"
      }
    },
    {
      "cell_type": "code",
      "source": [
        "# Create a demo tensor for our housing price prediction problem\n",
        "house_info = tf.constant([\"bedroom\", \"bathroom\", \"garage\"])\n",
        "house_price = tf.constant([939700])\n",
        "\n",
        "house_info, house_price"
      ],
      "metadata": {
        "colab": {
          "base_uri": "https://localhost:8080/"
        },
        "id": "gamcQ4niRtCR",
        "outputId": "714dabb8-1617-4bf0-f3ef-dd34b7df3a0e"
      },
      "execution_count": 47,
      "outputs": [
        {
          "output_type": "execute_result",
          "data": {
            "text/plain": [
              "(<tf.Tensor: shape=(3,), dtype=string, numpy=array([b'bedroom', b'bathroom', b'garage'], dtype=object)>,\n",
              " <tf.Tensor: shape=(1,), dtype=int32, numpy=array([939700], dtype=int32)>)"
            ]
          },
          "metadata": {},
          "execution_count": 47
        }
      ]
    },
    {
      "cell_type": "code",
      "source": [
        "X[0], y[0]"
      ],
      "metadata": {
        "colab": {
          "base_uri": "https://localhost:8080/"
        },
        "id": "w0jYKXIHSiVU",
        "outputId": "4771d6ab-b41c-4729-90da-61517f7e9ac5"
      },
      "execution_count": 48,
      "outputs": [
        {
          "output_type": "execute_result",
          "data": {
            "text/plain": [
              "(-7.0, 3.0)"
            ]
          },
          "metadata": {},
          "execution_count": 48
        }
      ]
    },
    {
      "cell_type": "code",
      "source": [
        "X[1], y[1]"
      ],
      "metadata": {
        "colab": {
          "base_uri": "https://localhost:8080/"
        },
        "id": "hCVgC1ymSlhU",
        "outputId": "fbac97fc-3ecc-4578-cb56-7306bbdfea1c"
      },
      "execution_count": 49,
      "outputs": [
        {
          "output_type": "execute_result",
          "data": {
            "text/plain": [
              "(-4.0, 6.0)"
            ]
          },
          "metadata": {},
          "execution_count": 49
        }
      ]
    },
    {
      "cell_type": "code",
      "source": [
        "input_shape = X[0].shape\n",
        "output_shape = y[0].shape\n",
        "\n",
        "input_shape, output_shape"
      ],
      "metadata": {
        "colab": {
          "base_uri": "https://localhost:8080/"
        },
        "id": "RONv4K2zSQ-5",
        "outputId": "9f628687-8d38-4d2f-d8c6-75623c910b04"
      },
      "execution_count": 50,
      "outputs": [
        {
          "output_type": "execute_result",
          "data": {
            "text/plain": [
              "((), ())"
            ]
          },
          "metadata": {},
          "execution_count": 50
        }
      ]
    },
    {
      "cell_type": "code",
      "source": [
        "# Scalar has no shape\n",
        "X[0].ndim"
      ],
      "metadata": {
        "colab": {
          "base_uri": "https://localhost:8080/"
        },
        "id": "p8XnSMNNSdLo",
        "outputId": "20764aab-f4e8-4895-be5e-691117702a5f"
      },
      "execution_count": 51,
      "outputs": [
        {
          "output_type": "execute_result",
          "data": {
            "text/plain": [
              "0"
            ]
          },
          "metadata": {},
          "execution_count": 51
        }
      ]
    },
    {
      "cell_type": "code",
      "source": [
        "X[0], y[0]"
      ],
      "metadata": {
        "colab": {
          "base_uri": "https://localhost:8080/"
        },
        "id": "ut_Bm9FbS5sK",
        "outputId": "5f70ade2-0f8b-45ff-bf0d-45f90e655e45"
      },
      "execution_count": 52,
      "outputs": [
        {
          "output_type": "execute_result",
          "data": {
            "text/plain": [
              "(-7.0, 3.0)"
            ]
          },
          "metadata": {},
          "execution_count": 52
        }
      ]
    },
    {
      "cell_type": "code",
      "source": [
        "# Turn our NumPy arrays into tensors\n",
        "X = tf.cast(tf.constant(X), dtype=tf.float32)\n",
        "y = tf.cast(tf.constant(y), dtype=tf.float32)\n",
        "X, y"
      ],
      "metadata": {
        "colab": {
          "base_uri": "https://localhost:8080/"
        },
        "id": "bBOvLcfyS8Sa",
        "outputId": "9f97a9f6-2c41-4ff8-916a-ff505fc010da"
      },
      "execution_count": 57,
      "outputs": [
        {
          "output_type": "execute_result",
          "data": {
            "text/plain": [
              "(<tf.Tensor: shape=(8,), dtype=float32, numpy=array([-7., -4., -1.,  2.,  5.,  8., 11., 14.], dtype=float32)>,\n",
              " <tf.Tensor: shape=(8,), dtype=float32, numpy=array([ 3.,  6.,  9., 12., 15., 18., 21., 24.], dtype=float32)>)"
            ]
          },
          "metadata": {},
          "execution_count": 57
        }
      ]
    },
    {
      "cell_type": "code",
      "source": [
        "input_shape = X[0].shape\n",
        "output_shape = y[0].shape\n",
        "\n",
        "input_shape, output_shape"
      ],
      "metadata": {
        "colab": {
          "base_uri": "https://localhost:8080/"
        },
        "id": "nVES0d0wTSu0",
        "outputId": "82b94034-cccc-45bc-8962-e542aa672f91"
      },
      "execution_count": 58,
      "outputs": [
        {
          "output_type": "execute_result",
          "data": {
            "text/plain": [
              "(TensorShape([]), TensorShape([]))"
            ]
          },
          "metadata": {},
          "execution_count": 58
        }
      ]
    },
    {
      "cell_type": "code",
      "source": [
        "plt.scatter(X, y)"
      ],
      "metadata": {
        "colab": {
          "base_uri": "https://localhost:8080/",
          "height": 287
        },
        "id": "7AW5wdd-Tiw7",
        "outputId": "ee8a597f-f387-4818-8cd3-02a58b15c260"
      },
      "execution_count": 59,
      "outputs": [
        {
          "output_type": "execute_result",
          "data": {
            "text/plain": [
              "<matplotlib.collections.PathCollection at 0x7fa9ce91cd90>"
            ]
          },
          "metadata": {},
          "execution_count": 59
        },
        {
          "output_type": "display_data",
          "data": {
            "text/plain": [
              "<Figure size 432x288 with 1 Axes>"
            ],
            "image/png": "[encoded data removed]"
          },
          "metadata": {
            "needs_background": "light"
          }
        }
      ]
    },
    {
      "cell_type": "markdown",
      "source": [
        "## Steps in modelling with TensorFlow\n",
        "1. **Creating a model** - define the input and output layers, as well as the hidden layers of a deep learning model.\n",
        "2. **Compiling a model** - define the ***loss function*** (in other words, the function which tells out model how wrong it is) and the ***optimizer*** (tells our model how to improve the patterns it is learning) and ***evaluation metrics*** (what we can use to interpret the performance of our model).\n",
        "3. **Fitting a model** - letting the model try to find patterns between X & y (features and labels).\n",
        "\n",
        "![image.png](https://raw.githubusercontent.com/pratikktiwari/ML-Learnings/main/resources/regression-steps.png?token=GHSAT0AAAAAABQ3M2PPCKOGBQU5BDUWWXZUYVURCGA)"
      ],
      "metadata": {
        "id": "j02MadiSTkE9"
      }
    },
    {
      "cell_type": "markdown",
      "source": [
        "* **Loss**: How wrong the model's predictions are compared to the truth labels (this should be minimized)\n",
        "* **Optimizer**: How the model should update its internal patterns to better its predictions\n",
        "* **Metrics**: Human interpretable values for how well the model is doing\n",
        "* **Epochs**: How many times the model will go through all of the training examples"
      ],
      "metadata": {
        "id": "-jrRmI2xK5xo"
      }
    },
    {
      "cell_type": "code",
      "source": [
        "# Set random seed\n",
        "tf.random.set_seed(42)\n",
        "\n",
        "# 1. Create a model using the Sequential API\n",
        "\n",
        "model = tf.keras.Sequential(\n",
        "    [tf.keras.layers.Dense(1, input_shape=[1])] # take 1 neuron, shape of a single feature\n",
        ")\n",
        "\n",
        "# 2. Compile the model\n",
        "model.compile(loss=tf.keras.losses.mae, # Mean absolute error => comparision of predicted vs observed => loss = mean(abs(y_true - y_pred), axis=-1)\n",
        "              optimizer=tf.keras.optimizers.SGD(), # SGD is short for stochasitc gradient descent => tells neural network how it should improve\n",
        "              metrics=[\"mae\"]) \n",
        "\n",
        "# Fit the model\n",
        "model.fit(X, y, epochs=5) # Look at X and y and figure out pattern. Try 5 times.\n",
        "\n"
      ],
      "metadata": {
        "id": "shdpqzI6UGP-",
        "colab": {
          "base_uri": "https://localhost:8080/"
        },
        "outputId": "a82b552f-116c-4cf2-a7aa-39e503e014cc"
      },
      "execution_count": 82,
      "outputs": [
        {
          "output_type": "stream",
          "name": "stdout",
          "text": [
            "Epoch 1/5\n",
            "1/1 [==============================] - 0s 434ms/step - loss: 11.5048 - mae: 11.5048\n",
            "Epoch 2/5\n",
            "1/1 [==============================] - 0s 11ms/step - loss: 11.3723 - mae: 11.3723\n",
            "Epoch 3/5\n",
            "1/1 [==============================] - 0s 9ms/step - loss: 11.2398 - mae: 11.2398\n",
            "Epoch 4/5\n",
            "1/1 [==============================] - 0s 6ms/step - loss: 11.1073 - mae: 11.1073\n",
            "Epoch 5/5\n",
            "1/1 [==============================] - 0s 6ms/step - loss: 10.9748 - mae: 10.9748\n"
          ]
        },
        {
          "output_type": "execute_result",
          "data": {
            "text/plain": [
              "<keras.callbacks.History at 0x7faa5858fe50>"
            ]
          },
          "metadata": {},
          "execution_count": 82
        }
      ]
    },
    {
      "cell_type": "code",
      "source": [
        "X, y"
      ],
      "metadata": {
        "colab": {
          "base_uri": "https://localhost:8080/"
        },
        "id": "2_1jEJKVCDpC",
        "outputId": "16f7f985-a833-4830-86ed-aace64aab094"
      },
      "execution_count": 83,
      "outputs": [
        {
          "output_type": "execute_result",
          "data": {
            "text/plain": [
              "(<tf.Tensor: shape=(8,), dtype=float32, numpy=array([-7., -4., -1.,  2.,  5.,  8., 11., 14.], dtype=float32)>,\n",
              " <tf.Tensor: shape=(8,), dtype=float32, numpy=array([ 3.,  6.,  9., 12., 15., 18., 21., 24.], dtype=float32)>)"
            ]
          },
          "metadata": {},
          "execution_count": 83
        }
      ]
    },
    {
      "cell_type": "code",
      "source": [
        "# Try and make a prediction using our trained model\n",
        "y_pred = model.predict([17.0])\n",
        "y_pred"
      ],
      "metadata": {
        "colab": {
          "base_uri": "https://localhost:8080/"
        },
        "id": "gLN1DnQ8D6IJ",
        "outputId": "abd05419-35c9-487f-9015-a6f3428f3e93"
      },
      "execution_count": 84,
      "outputs": [
        {
          "output_type": "stream",
          "name": "stdout",
          "text": [
            "WARNING:tensorflow:6 out of the last 7 calls to <function Model.make_predict_function.<locals>.predict_function at 0x7fa9ce9a5680> triggered tf.function retracing. Tracing is expensive and the excessive number of tracings could be due to (1) creating @tf.function repeatedly in a loop, (2) passing tensors with different shapes, (3) passing Python objects instead of tensors. For (1), please define your @tf.function outside of the loop. For (2), @tf.function has experimental_relax_shapes=True option that relaxes argument shapes that can avoid unnecessary retracing. For (3), please refer to https://www.tensorflow.org/guide/function#controlling_retracing and https://www.tensorflow.org/api_docs/python/tf/function for  more details.\n"
          ]
        },
        {
          "output_type": "execute_result",
          "data": {
            "text/plain": [
              "array([[12.716021]], dtype=float32)"
            ]
          },
          "metadata": {},
          "execution_count": 84
        }
      ]
    },
    {
      "cell_type": "code",
      "source": [
        "y_pred + 11 # loss = 10.9 ~ 11"
      ],
      "metadata": {
        "colab": {
          "base_uri": "https://localhost:8080/"
        },
        "id": "zrVr4zzSG1MH",
        "outputId": "539df89c-2b2c-4254-f371-6bc44ac4572c"
      },
      "execution_count": 85,
      "outputs": [
        {
          "output_type": "execute_result",
          "data": {
            "text/plain": [
              "array([[23.71602]], dtype=float32)"
            ]
          },
          "metadata": {},
          "execution_count": 85
        }
      ]
    },
    {
      "cell_type": "markdown",
      "source": [
        "## Improving our model\n",
        "We can improve our mode, by altering the steps we took to create a model.\n",
        "1. **Creating a model** - we might add more layers, increase the number of hidden units (also called neurons) within each of the hidden layers, change the activation function of each layer.\n",
        "3. **Compiling a model** - we might change the optimization function or perhaps the **learning rate** of the optimization function.\n",
        "4. **Fitting a model** - we might fit a model for more **epochs** (leave it training for longer) or on more data (give more examples to the model to learn from)"
      ],
      "metadata": {
        "id": "bYvf-4rBHPWp"
      }
    },
    {
      "cell_type": "code",
      "source": [
        "# Let's rebuild our model with higher epoch for fitting\n",
        "\n",
        "# Create the model\n",
        "model = tf.keras.Sequential(\n",
        "  [tf.keras.layers.Dense(1, input_shape=[1])]\n",
        ")\n",
        "\n",
        "# Compile the model\n",
        "model.compile(loss=tf.keras.losses.mae,\n",
        "              optimizer=tf.keras.optimizers.SGD(),\n",
        "              metrics=[\"mae\"]\n",
        ")\n",
        "model.fit(X, y, epochs=100)"
      ],
      "metadata": {
        "colab": {
          "base_uri": "https://localhost:8080/"
        },
        "id": "Vj9XW-ZMHeel",
        "outputId": "df00e690-7d3d-40a3-9d30-b8cbce5937f8"
      },
      "execution_count": 99,
      "outputs": [
        {
          "output_type": "stream",
          "name": "stdout",
          "text": [
            "Epoch 1/100\n",
            "1/1 [==============================] - 0s 255ms/step - loss: 19.2532 - mae: 19.2532\n",
            "Epoch 2/100\n",
            "1/1 [==============================] - 0s 12ms/step - loss: 18.9720 - mae: 18.9720\n",
            "Epoch 3/100\n",
            "1/1 [==============================] - 0s 8ms/step - loss: 18.6907 - mae: 18.6907\n",
            "Epoch 4/100\n",
            "1/1 [==============================] - 0s 8ms/step - loss: 18.4095 - mae: 18.4095\n",
            "Epoch 5/100\n",
            "1/1 [==============================] - 0s 10ms/step - loss: 18.1282 - mae: 18.1282\n",
            "Epoch 6/100\n",
            "1/1 [==============================] - 0s 8ms/step - loss: 17.8470 - mae: 17.8470\n",
            "Epoch 7/100\n",
            "1/1 [==============================] - 0s 13ms/step - loss: 17.5657 - mae: 17.5657\n",
            "Epoch 8/100\n",
            "1/1 [==============================] - 0s 10ms/step - loss: 17.2845 - mae: 17.2845\n",
            "Epoch 9/100\n",
            "1/1 [==============================] - 0s 9ms/step - loss: 17.0032 - mae: 17.0032\n",
            "Epoch 10/100\n",
            "1/1 [==============================] - 0s 9ms/step - loss: 16.7220 - mae: 16.7220\n",
            "Epoch 11/100\n",
            "1/1 [==============================] - 0s 10ms/step - loss: 16.4407 - mae: 16.4407\n",
            "Epoch 12/100\n",
            "1/1 [==============================] - 0s 9ms/step - loss: 16.1595 - mae: 16.1595\n",
            "Epoch 13/100\n",
            "1/1 [==============================] - 0s 10ms/step - loss: 15.8782 - mae: 15.8782\n",
            "Epoch 14/100\n",
            "1/1 [==============================] - 0s 5ms/step - loss: 15.5970 - mae: 15.5970\n",
            "Epoch 15/100\n",
            "1/1 [==============================] - 0s 5ms/step - loss: 15.3157 - mae: 15.3157\n",
            "Epoch 16/100\n",
            "1/1 [==============================] - 0s 6ms/step - loss: 15.0345 - mae: 15.0345\n",
            "Epoch 17/100\n",
            "1/1 [==============================] - 0s 7ms/step - loss: 14.7755 - mae: 14.7755\n",
            "Epoch 18/100\n",
            "1/1 [==============================] - 0s 8ms/step - loss: 14.6430 - mae: 14.6430\n",
            "Epoch 19/100\n",
            "1/1 [==============================] - 0s 6ms/step - loss: 14.5105 - mae: 14.5105\n",
            "Epoch 20/100\n",
            "1/1 [==============================] - 0s 6ms/step - loss: 14.3780 - mae: 14.3780\n",
            "Epoch 21/100\n",
            "1/1 [==============================] - 0s 6ms/step - loss: 14.2455 - mae: 14.2455\n",
            "Epoch 22/100\n",
            "1/1 [==============================] - 0s 5ms/step - loss: 14.1130 - mae: 14.1130\n",
            "Epoch 23/100\n",
            "1/1 [==============================] - 0s 6ms/step - loss: 13.9805 - mae: 13.9805\n",
            "Epoch 24/100\n",
            "1/1 [==============================] - 0s 6ms/step - loss: 13.8480 - mae: 13.8480\n",
            "Epoch 25/100\n",
            "1/1 [==============================] - 0s 5ms/step - loss: 13.7155 - mae: 13.7155\n",
            "Epoch 26/100\n",
            "1/1 [==============================] - 0s 5ms/step - loss: 13.5830 - mae: 13.5830\n",
            "Epoch 27/100\n",
            "1/1 [==============================] - 0s 5ms/step - loss: 13.4505 - mae: 13.4505\n",
            "Epoch 28/100\n",
            "1/1 [==============================] - 0s 5ms/step - loss: 13.3180 - mae: 13.3180\n",
            "Epoch 29/100\n",
            "1/1 [==============================] - 0s 5ms/step - loss: 13.1855 - mae: 13.1855\n",
            "Epoch 30/100\n",
            "1/1 [==============================] - 0s 5ms/step - loss: 13.0530 - mae: 13.0530\n",
            "Epoch 31/100\n",
            "1/1 [==============================] - 0s 5ms/step - loss: 12.9205 - mae: 12.9205\n",
            "Epoch 32/100\n",
            "1/1 [==============================] - 0s 5ms/step - loss: 12.7880 - mae: 12.7880\n",
            "Epoch 33/100\n",
            "1/1 [==============================] - 0s 5ms/step - loss: 12.6555 - mae: 12.6555\n",
            "Epoch 34/100\n",
            "1/1 [==============================] - 0s 5ms/step - loss: 12.5230 - mae: 12.5230\n",
            "Epoch 35/100\n",
            "1/1 [==============================] - 0s 7ms/step - loss: 12.3905 - mae: 12.3905\n",
            "Epoch 36/100\n",
            "1/1 [==============================] - 0s 6ms/step - loss: 12.2580 - mae: 12.2580\n",
            "Epoch 37/100\n",
            "1/1 [==============================] - 0s 6ms/step - loss: 12.1255 - mae: 12.1255\n",
            "Epoch 38/100\n",
            "1/1 [==============================] - 0s 6ms/step - loss: 11.9930 - mae: 11.9930\n",
            "Epoch 39/100\n",
            "1/1 [==============================] - 0s 6ms/step - loss: 11.8605 - mae: 11.8605\n",
            "Epoch 40/100\n",
            "1/1 [==============================] - 0s 6ms/step - loss: 11.7280 - mae: 11.7280\n",
            "Epoch 41/100\n",
            "1/1 [==============================] - 0s 6ms/step - loss: 11.5955 - mae: 11.5955\n",
            "Epoch 42/100\n",
            "1/1 [==============================] - 0s 6ms/step - loss: 11.4630 - mae: 11.4630\n",
            "Epoch 43/100\n",
            "1/1 [==============================] - 0s 7ms/step - loss: 11.3305 - mae: 11.3305\n",
            "Epoch 44/100\n",
            "1/1 [==============================] - 0s 8ms/step - loss: 11.1980 - mae: 11.1980\n",
            "Epoch 45/100\n",
            "1/1 [==============================] - 0s 6ms/step - loss: 11.0655 - mae: 11.0655\n",
            "Epoch 46/100\n",
            "1/1 [==============================] - 0s 6ms/step - loss: 10.9330 - mae: 10.9330\n",
            "Epoch 47/100\n",
            "1/1 [==============================] - 0s 6ms/step - loss: 10.8005 - mae: 10.8005\n",
            "Epoch 48/100\n",
            "1/1 [==============================] - 0s 5ms/step - loss: 10.6680 - mae: 10.6680\n",
            "Epoch 49/100\n",
            "1/1 [==============================] - 0s 6ms/step - loss: 10.5355 - mae: 10.5355\n",
            "Epoch 50/100\n",
            "1/1 [==============================] - 0s 6ms/step - loss: 10.4030 - mae: 10.4030\n",
            "Epoch 51/100\n",
            "1/1 [==============================] - 0s 5ms/step - loss: 10.2705 - mae: 10.2705\n",
            "Epoch 52/100\n",
            "1/1 [==============================] - 0s 5ms/step - loss: 10.1380 - mae: 10.1380\n",
            "Epoch 53/100\n",
            "1/1 [==============================] - 0s 5ms/step - loss: 10.0055 - mae: 10.0055\n",
            "Epoch 54/100\n",
            "1/1 [==============================] - 0s 5ms/step - loss: 9.8730 - mae: 9.8730\n",
            "Epoch 55/100\n",
            "1/1 [==============================] - 0s 5ms/step - loss: 9.7405 - mae: 9.7405\n",
            "Epoch 56/100\n",
            "1/1 [==============================] - 0s 9ms/step - loss: 9.6080 - mae: 9.6080\n",
            "Epoch 57/100\n",
            "1/1 [==============================] - 0s 7ms/step - loss: 9.4755 - mae: 9.4755\n",
            "Epoch 58/100\n",
            "1/1 [==============================] - 0s 14ms/step - loss: 9.3430 - mae: 9.3430\n",
            "Epoch 59/100\n",
            "1/1 [==============================] - 0s 9ms/step - loss: 9.2105 - mae: 9.2105\n",
            "Epoch 60/100\n",
            "1/1 [==============================] - 0s 10ms/step - loss: 9.0780 - mae: 9.0780\n",
            "Epoch 61/100\n",
            "1/1 [==============================] - 0s 10ms/step - loss: 8.9455 - mae: 8.9455\n",
            "Epoch 62/100\n",
            "1/1 [==============================] - 0s 14ms/step - loss: 8.8130 - mae: 8.8130\n",
            "Epoch 63/100\n",
            "1/1 [==============================] - 0s 11ms/step - loss: 8.6805 - mae: 8.6805\n",
            "Epoch 64/100\n",
            "1/1 [==============================] - 0s 10ms/step - loss: 8.5480 - mae: 8.5480\n",
            "Epoch 65/100\n",
            "1/1 [==============================] - 0s 10ms/step - loss: 8.4155 - mae: 8.4155\n",
            "Epoch 66/100\n",
            "1/1 [==============================] - 0s 10ms/step - loss: 8.2830 - mae: 8.2830\n",
            "Epoch 67/100\n",
            "1/1 [==============================] - 0s 7ms/step - loss: 8.1505 - mae: 8.1505\n",
            "Epoch 68/100\n",
            "1/1 [==============================] - 0s 6ms/step - loss: 8.0180 - mae: 8.0180\n",
            "Epoch 69/100\n",
            "1/1 [==============================] - 0s 5ms/step - loss: 7.8855 - mae: 7.8855\n",
            "Epoch 70/100\n",
            "1/1 [==============================] - 0s 6ms/step - loss: 7.7530 - mae: 7.7530\n",
            "Epoch 71/100\n",
            "1/1 [==============================] - 0s 5ms/step - loss: 7.6205 - mae: 7.6205\n",
            "Epoch 72/100\n",
            "1/1 [==============================] - 0s 14ms/step - loss: 7.4880 - mae: 7.4880\n",
            "Epoch 73/100\n",
            "1/1 [==============================] - 0s 7ms/step - loss: 7.3555 - mae: 7.3555\n",
            "Epoch 74/100\n",
            "1/1 [==============================] - 0s 8ms/step - loss: 7.2230 - mae: 7.2230\n",
            "Epoch 75/100\n",
            "1/1 [==============================] - 0s 7ms/step - loss: 7.0905 - mae: 7.0905\n",
            "Epoch 76/100\n",
            "1/1 [==============================] - 0s 8ms/step - loss: 6.9675 - mae: 6.9675\n",
            "Epoch 77/100\n",
            "1/1 [==============================] - 0s 8ms/step - loss: 6.9619 - mae: 6.9619\n",
            "Epoch 78/100\n",
            "1/1 [==============================] - 0s 9ms/step - loss: 6.9563 - mae: 6.9563\n",
            "Epoch 79/100\n",
            "1/1 [==============================] - 0s 7ms/step - loss: 6.9506 - mae: 6.9506\n",
            "Epoch 80/100\n",
            "1/1 [==============================] - 0s 8ms/step - loss: 6.9450 - mae: 6.9450\n",
            "Epoch 81/100\n",
            "1/1 [==============================] - 0s 7ms/step - loss: 6.9394 - mae: 6.9394\n",
            "Epoch 82/100\n",
            "1/1 [==============================] - 0s 7ms/step - loss: 6.9338 - mae: 6.9338\n",
            "Epoch 83/100\n",
            "1/1 [==============================] - 0s 8ms/step - loss: 6.9281 - mae: 6.9281\n",
            "Epoch 84/100\n",
            "1/1 [==============================] - 0s 5ms/step - loss: 6.9225 - mae: 6.9225\n",
            "Epoch 85/100\n",
            "1/1 [==============================] - 0s 7ms/step - loss: 6.9169 - mae: 6.9169\n",
            "Epoch 86/100\n",
            "1/1 [==============================] - 0s 6ms/step - loss: 6.9113 - mae: 6.9113\n",
            "Epoch 87/100\n",
            "1/1 [==============================] - 0s 5ms/step - loss: 6.9056 - mae: 6.9056\n",
            "Epoch 88/100\n",
            "1/1 [==============================] - 0s 5ms/step - loss: 6.9000 - mae: 6.9000\n",
            "Epoch 89/100\n",
            "1/1 [==============================] - 0s 6ms/step - loss: 6.8944 - mae: 6.8944\n",
            "Epoch 90/100\n",
            "1/1 [==============================] - 0s 6ms/step - loss: 6.8888 - mae: 6.8888\n",
            "Epoch 91/100\n",
            "1/1 [==============================] - 0s 6ms/step - loss: 6.8831 - mae: 6.8831\n",
            "Epoch 92/100\n",
            "1/1 [==============================] - 0s 17ms/step - loss: 6.8775 - mae: 6.8775\n",
            "Epoch 93/100\n",
            "1/1 [==============================] - 0s 7ms/step - loss: 6.8719 - mae: 6.8719\n",
            "Epoch 94/100\n",
            "1/1 [==============================] - 0s 7ms/step - loss: 6.8663 - mae: 6.8663\n",
            "Epoch 95/100\n",
            "1/1 [==============================] - 0s 7ms/step - loss: 6.8606 - mae: 6.8606\n",
            "Epoch 96/100\n",
            "1/1 [==============================] - 0s 6ms/step - loss: 6.8550 - mae: 6.8550\n",
            "Epoch 97/100\n",
            "1/1 [==============================] - 0s 8ms/step - loss: 6.8494 - mae: 6.8494\n",
            "Epoch 98/100\n",
            "1/1 [==============================] - 0s 10ms/step - loss: 6.8438 - mae: 6.8438\n",
            "Epoch 99/100\n",
            "1/1 [==============================] - 0s 7ms/step - loss: 6.8381 - mae: 6.8381\n",
            "Epoch 100/100\n",
            "1/1 [==============================] - 0s 5ms/step - loss: 6.8325 - mae: 6.8325\n"
          ]
        },
        {
          "output_type": "execute_result",
          "data": {
            "text/plain": [
              "<keras.callbacks.History at 0x7faa58118950>"
            ]
          },
          "metadata": {},
          "execution_count": 99
        }
      ]
    },
    {
      "cell_type": "code",
      "source": [
        "X, y"
      ],
      "metadata": {
        "colab": {
          "base_uri": "https://localhost:8080/"
        },
        "id": "MhWaknOIH7uI",
        "outputId": "b51fd416-f786-4197-9fd3-561493d63f83"
      },
      "execution_count": 100,
      "outputs": [
        {
          "output_type": "execute_result",
          "data": {
            "text/plain": [
              "(<tf.Tensor: shape=(8,), dtype=float32, numpy=array([-7., -4., -1.,  2.,  5.,  8., 11., 14.], dtype=float32)>,\n",
              " <tf.Tensor: shape=(8,), dtype=float32, numpy=array([ 3.,  6.,  9., 12., 15., 18., 21., 24.], dtype=float32)>)"
            ]
          },
          "metadata": {},
          "execution_count": 100
        }
      ]
    },
    {
      "cell_type": "code",
      "source": [
        "# Check if model prediction has improved\n",
        "model.predict([17.0])"
      ],
      "metadata": {
        "colab": {
          "base_uri": "https://localhost:8080/"
        },
        "id": "6Tq87-B9N0lQ",
        "outputId": "74e8dc55-8fc5-4fcc-a5f1-2293bde389ca"
      },
      "execution_count": 102,
      "outputs": [
        {
          "output_type": "execute_result",
          "data": {
            "text/plain": [
              "array([[29.22438]], dtype=float32)"
            ]
          },
          "metadata": {},
          "execution_count": 102
        }
      ]
    },
    {
      "cell_type": "code",
      "source": [
        "# Alter layers and check accuracy\n",
        "model = tf.keras.Sequential([\n",
        "  tf.keras.layers.Dense(100, input_shape=[1])\n",
        "])\n",
        "model.compile(loss=tf.keras.losses.mae,\n",
        "              optimizer=tf.keras.optimizers.SGD(),\n",
        "              metrics=[\"mae\"])\n",
        "model.fit(X, y, epochs=100)"
      ],
      "metadata": {
        "colab": {
          "base_uri": "https://localhost:8080/"
        },
        "id": "BfLDh-a7N29C",
        "outputId": "a8bcfda0-ffeb-488b-e4c8-c2e09344ee9a"
      },
      "execution_count": 103,
      "outputs": [
        {
          "output_type": "stream",
          "name": "stdout",
          "text": [
            "Epoch 1/100\n",
            "1/1 [==============================] - 1s 547ms/step - loss: 13.3994 - mae: 13.3994\n",
            "Epoch 2/100\n",
            "1/1 [==============================] - 0s 12ms/step - loss: 13.3981 - mae: 13.3981\n",
            "Epoch 3/100\n",
            "1/1 [==============================] - 0s 6ms/step - loss: 13.3967 - mae: 13.3967\n",
            "Epoch 4/100\n",
            "1/1 [==============================] - 0s 6ms/step - loss: 13.3954 - mae: 13.3954\n",
            "Epoch 5/100\n",
            "1/1 [==============================] - 0s 19ms/step - loss: 13.3941 - mae: 13.3941\n",
            "Epoch 6/100\n",
            "1/1 [==============================] - 0s 6ms/step - loss: 13.3928 - mae: 13.3928\n",
            "Epoch 7/100\n",
            "1/1 [==============================] - 0s 6ms/step - loss: 13.3914 - mae: 13.3914\n",
            "Epoch 8/100\n",
            "1/1 [==============================] - 0s 6ms/step - loss: 13.3901 - mae: 13.3901\n",
            "Epoch 9/100\n",
            "1/1 [==============================] - 0s 6ms/step - loss: 13.3888 - mae: 13.3888\n",
            "Epoch 10/100\n",
            "1/1 [==============================] - 0s 6ms/step - loss: 13.3875 - mae: 13.3875\n",
            "Epoch 11/100\n",
            "1/1 [==============================] - 0s 5ms/step - loss: 13.3861 - mae: 13.3861\n",
            "Epoch 12/100\n",
            "1/1 [==============================] - 0s 6ms/step - loss: 13.3848 - mae: 13.3848\n",
            "Epoch 13/100\n",
            "1/1 [==============================] - 0s 11ms/step - loss: 13.3835 - mae: 13.3835\n",
            "Epoch 14/100\n",
            "1/1 [==============================] - 0s 9ms/step - loss: 13.3822 - mae: 13.3822\n",
            "Epoch 15/100\n",
            "1/1 [==============================] - 0s 11ms/step - loss: 13.3808 - mae: 13.3808\n",
            "Epoch 16/100\n",
            "1/1 [==============================] - 0s 6ms/step - loss: 13.3795 - mae: 13.3795\n",
            "Epoch 17/100\n",
            "1/1 [==============================] - 0s 6ms/step - loss: 13.3782 - mae: 13.3782\n",
            "Epoch 18/100\n",
            "1/1 [==============================] - 0s 12ms/step - loss: 13.3769 - mae: 13.3769\n",
            "Epoch 19/100\n",
            "1/1 [==============================] - 0s 6ms/step - loss: 13.3755 - mae: 13.3755\n",
            "Epoch 20/100\n",
            "1/1 [==============================] - 0s 10ms/step - loss: 13.3742 - mae: 13.3742\n",
            "Epoch 21/100\n",
            "1/1 [==============================] - 0s 13ms/step - loss: 13.3729 - mae: 13.3729\n",
            "Epoch 22/100\n",
            "1/1 [==============================] - 0s 5ms/step - loss: 13.3716 - mae: 13.3716\n",
            "Epoch 23/100\n",
            "1/1 [==============================] - 0s 13ms/step - loss: 13.3702 - mae: 13.3702\n",
            "Epoch 24/100\n",
            "1/1 [==============================] - 0s 6ms/step - loss: 13.3689 - mae: 13.3689\n",
            "Epoch 25/100\n",
            "1/1 [==============================] - 0s 11ms/step - loss: 13.3676 - mae: 13.3676\n",
            "Epoch 26/100\n",
            "1/1 [==============================] - 0s 10ms/step - loss: 13.3663 - mae: 13.3663\n",
            "Epoch 27/100\n",
            "1/1 [==============================] - 0s 15ms/step - loss: 13.3649 - mae: 13.3649\n",
            "Epoch 28/100\n",
            "1/1 [==============================] - 0s 6ms/step - loss: 13.3636 - mae: 13.3636\n",
            "Epoch 29/100\n",
            "1/1 [==============================] - 0s 13ms/step - loss: 13.3623 - mae: 13.3623\n",
            "Epoch 30/100\n",
            "1/1 [==============================] - 0s 11ms/step - loss: 13.3610 - mae: 13.3610\n",
            "Epoch 31/100\n",
            "1/1 [==============================] - 0s 9ms/step - loss: 13.3596 - mae: 13.3596\n",
            "Epoch 32/100\n",
            "1/1 [==============================] - 0s 11ms/step - loss: 13.3583 - mae: 13.3583\n",
            "Epoch 33/100\n",
            "1/1 [==============================] - 0s 9ms/step - loss: 13.3570 - mae: 13.3570\n",
            "Epoch 34/100\n",
            "1/1 [==============================] - 0s 9ms/step - loss: 13.3557 - mae: 13.3557\n",
            "Epoch 35/100\n",
            "1/1 [==============================] - 0s 13ms/step - loss: 13.3543 - mae: 13.3543\n",
            "Epoch 36/100\n",
            "1/1 [==============================] - 0s 6ms/step - loss: 13.3530 - mae: 13.3530\n",
            "Epoch 37/100\n",
            "1/1 [==============================] - 0s 8ms/step - loss: 13.3517 - mae: 13.3517\n",
            "Epoch 38/100\n",
            "1/1 [==============================] - 0s 8ms/step - loss: 13.3504 - mae: 13.3504\n",
            "Epoch 39/100\n",
            "1/1 [==============================] - 0s 11ms/step - loss: 13.3490 - mae: 13.3490\n",
            "Epoch 40/100\n",
            "1/1 [==============================] - 0s 10ms/step - loss: 13.3477 - mae: 13.3477\n",
            "Epoch 41/100\n",
            "1/1 [==============================] - 0s 21ms/step - loss: 13.3464 - mae: 13.3464\n",
            "Epoch 42/100\n",
            "1/1 [==============================] - 0s 9ms/step - loss: 13.3451 - mae: 13.3451\n",
            "Epoch 43/100\n",
            "1/1 [==============================] - 0s 16ms/step - loss: 13.3437 - mae: 13.3437\n",
            "Epoch 44/100\n",
            "1/1 [==============================] - 0s 13ms/step - loss: 13.3424 - mae: 13.3424\n",
            "Epoch 45/100\n",
            "1/1 [==============================] - 0s 11ms/step - loss: 13.3411 - mae: 13.3411\n",
            "Epoch 46/100\n",
            "1/1 [==============================] - 0s 10ms/step - loss: 13.3398 - mae: 13.3398\n",
            "Epoch 47/100\n",
            "1/1 [==============================] - 0s 9ms/step - loss: 13.3384 - mae: 13.3384\n",
            "Epoch 48/100\n",
            "1/1 [==============================] - 0s 9ms/step - loss: 13.3371 - mae: 13.3371\n",
            "Epoch 49/100\n",
            "1/1 [==============================] - 0s 7ms/step - loss: 13.3358 - mae: 13.3358\n",
            "Epoch 50/100\n",
            "1/1 [==============================] - 0s 8ms/step - loss: 13.3345 - mae: 13.3345\n",
            "Epoch 51/100\n",
            "1/1 [==============================] - 0s 8ms/step - loss: 13.3331 - mae: 13.3331\n",
            "Epoch 52/100\n",
            "1/1 [==============================] - 0s 9ms/step - loss: 13.3318 - mae: 13.3318\n",
            "Epoch 53/100\n",
            "1/1 [==============================] - 0s 7ms/step - loss: 13.3305 - mae: 13.3305\n",
            "Epoch 54/100\n",
            "1/1 [==============================] - 0s 8ms/step - loss: 13.3292 - mae: 13.3292\n",
            "Epoch 55/100\n",
            "1/1 [==============================] - 0s 7ms/step - loss: 13.3278 - mae: 13.3278\n",
            "Epoch 56/100\n",
            "1/1 [==============================] - 0s 8ms/step - loss: 13.3265 - mae: 13.3265\n",
            "Epoch 57/100\n",
            "1/1 [==============================] - 0s 8ms/step - loss: 13.3252 - mae: 13.3252\n",
            "Epoch 58/100\n",
            "1/1 [==============================] - 0s 8ms/step - loss: 13.3239 - mae: 13.3239\n",
            "Epoch 59/100\n",
            "1/1 [==============================] - 0s 8ms/step - loss: 13.3225 - mae: 13.3225\n",
            "Epoch 60/100\n",
            "1/1 [==============================] - 0s 9ms/step - loss: 13.3212 - mae: 13.3212\n",
            "Epoch 61/100\n",
            "1/1 [==============================] - 0s 7ms/step - loss: 13.3199 - mae: 13.3199\n",
            "Epoch 62/100\n",
            "1/1 [==============================] - 0s 7ms/step - loss: 13.3186 - mae: 13.3186\n",
            "Epoch 63/100\n",
            "1/1 [==============================] - 0s 7ms/step - loss: 13.3172 - mae: 13.3172\n",
            "Epoch 64/100\n",
            "1/1 [==============================] - 0s 9ms/step - loss: 13.3159 - mae: 13.3159\n",
            "Epoch 65/100\n",
            "1/1 [==============================] - 0s 7ms/step - loss: 13.3146 - mae: 13.3146\n",
            "Epoch 66/100\n",
            "1/1 [==============================] - 0s 10ms/step - loss: 13.3133 - mae: 13.3133\n",
            "Epoch 67/100\n",
            "1/1 [==============================] - 0s 10ms/step - loss: 13.3119 - mae: 13.3119\n",
            "Epoch 68/100\n",
            "1/1 [==============================] - 0s 10ms/step - loss: 13.3106 - mae: 13.3106\n",
            "Epoch 69/100\n",
            "1/1 [==============================] - 0s 9ms/step - loss: 13.3093 - mae: 13.3093\n",
            "Epoch 70/100\n",
            "1/1 [==============================] - 0s 9ms/step - loss: 13.3080 - mae: 13.3080\n",
            "Epoch 71/100\n",
            "1/1 [==============================] - 0s 9ms/step - loss: 13.3066 - mae: 13.3066\n",
            "Epoch 72/100\n",
            "1/1 [==============================] - 0s 6ms/step - loss: 13.3053 - mae: 13.3053\n",
            "Epoch 73/100\n",
            "1/1 [==============================] - 0s 6ms/step - loss: 13.3040 - mae: 13.3040\n",
            "Epoch 74/100\n",
            "1/1 [==============================] - 0s 6ms/step - loss: 13.3027 - mae: 13.3027\n",
            "Epoch 75/100\n",
            "1/1 [==============================] - 0s 6ms/step - loss: 13.3013 - mae: 13.3013\n",
            "Epoch 76/100\n",
            "1/1 [==============================] - 0s 6ms/step - loss: 13.3000 - mae: 13.3000\n",
            "Epoch 77/100\n",
            "1/1 [==============================] - 0s 6ms/step - loss: 13.2987 - mae: 13.2987\n",
            "Epoch 78/100\n",
            "1/1 [==============================] - 0s 6ms/step - loss: 13.2974 - mae: 13.2974\n",
            "Epoch 79/100\n",
            "1/1 [==============================] - 0s 6ms/step - loss: 13.2960 - mae: 13.2960\n",
            "Epoch 80/100\n",
            "1/1 [==============================] - 0s 6ms/step - loss: 13.2947 - mae: 13.2947\n",
            "Epoch 81/100\n",
            "1/1 [==============================] - 0s 5ms/step - loss: 13.2934 - mae: 13.2934\n",
            "Epoch 82/100\n",
            "1/1 [==============================] - 0s 5ms/step - loss: 13.2921 - mae: 13.2921\n",
            "Epoch 83/100\n",
            "1/1 [==============================] - 0s 5ms/step - loss: 13.2907 - mae: 13.2907\n",
            "Epoch 84/100\n",
            "1/1 [==============================] - 0s 8ms/step - loss: 13.2894 - mae: 13.2894\n",
            "Epoch 85/100\n",
            "1/1 [==============================] - 0s 11ms/step - loss: 13.2881 - mae: 13.2881\n",
            "Epoch 86/100\n",
            "1/1 [==============================] - 0s 7ms/step - loss: 13.2868 - mae: 13.2868\n",
            "Epoch 87/100\n",
            "1/1 [==============================] - 0s 6ms/step - loss: 13.2854 - mae: 13.2854\n",
            "Epoch 88/100\n",
            "1/1 [==============================] - 0s 9ms/step - loss: 13.2841 - mae: 13.2841\n",
            "Epoch 89/100\n",
            "1/1 [==============================] - 0s 8ms/step - loss: 13.2828 - mae: 13.2828\n",
            "Epoch 90/100\n",
            "1/1 [==============================] - 0s 9ms/step - loss: 13.2815 - mae: 13.2815\n",
            "Epoch 91/100\n",
            "1/1 [==============================] - 0s 8ms/step - loss: 13.2801 - mae: 13.2801\n",
            "Epoch 92/100\n",
            "1/1 [==============================] - 0s 7ms/step - loss: 13.2788 - mae: 13.2788\n",
            "Epoch 93/100\n",
            "1/1 [==============================] - 0s 7ms/step - loss: 13.2775 - mae: 13.2775\n",
            "Epoch 94/100\n",
            "1/1 [==============================] - 0s 6ms/step - loss: 13.2762 - mae: 13.2762\n",
            "Epoch 95/100\n",
            "1/1 [==============================] - 0s 7ms/step - loss: 13.2748 - mae: 13.2748\n",
            "Epoch 96/100\n",
            "1/1 [==============================] - 0s 7ms/step - loss: 13.2735 - mae: 13.2735\n",
            "Epoch 97/100\n",
            "1/1 [==============================] - 0s 21ms/step - loss: 13.2722 - mae: 13.2722\n",
            "Epoch 98/100\n",
            "1/1 [==============================] - 0s 15ms/step - loss: 13.2709 - mae: 13.2709\n",
            "Epoch 99/100\n",
            "1/1 [==============================] - 0s 22ms/step - loss: 13.2695 - mae: 13.2695\n",
            "Epoch 100/100\n",
            "1/1 [==============================] - 0s 38ms/step - loss: 13.2682 - mae: 13.2682\n"
          ]
        },
        {
          "output_type": "execute_result",
          "data": {
            "text/plain": [
              "<keras.callbacks.History at 0x7faa5800b810>"
            ]
          },
          "metadata": {},
          "execution_count": 103
        }
      ]
    },
    {
      "cell_type": "code",
      "source": [
        "X, y"
      ],
      "metadata": {
        "colab": {
          "base_uri": "https://localhost:8080/"
        },
        "id": "YZfPVuKHPaV6",
        "outputId": "01c7b4a2-ec09-493b-8c14-f8e80d4befe5"
      },
      "execution_count": 104,
      "outputs": [
        {
          "output_type": "execute_result",
          "data": {
            "text/plain": [
              "(<tf.Tensor: shape=(8,), dtype=float32, numpy=array([-7., -4., -1.,  2.,  5.,  8., 11., 14.], dtype=float32)>,\n",
              " <tf.Tensor: shape=(8,), dtype=float32, numpy=array([ 3.,  6.,  9., 12., 15., 18., 21., 24.], dtype=float32)>)"
            ]
          },
          "metadata": {},
          "execution_count": 104
        }
      ]
    },
    {
      "cell_type": "code",
      "source": [
        "model.predict([17.0])\n",
        "# To DO ^^^^"
      ],
      "metadata": {
        "colab": {
          "base_uri": "https://localhost:8080/"
        },
        "id": "OZ01ajV7PbsP",
        "outputId": "6b42b69e-63b2-47b4-ee49-24add8b7b739"
      },
      "execution_count": 113,
      "outputs": [
        {
          "output_type": "execute_result",
          "data": {
            "text/plain": [
              "array([[-1.8429513 ,  3.2964416 ,  3.2298732 ,  1.2524989 ,  2.4531443 ,\n",
              "         4.660363  , -0.7309248 ,  0.16580184, -1.4751815 , -1.9281203 ,\n",
              "         1.358767  , -2.168755  , -1.5543343 ,  4.255847  , -2.4851825 ,\n",
              "        -2.0449595 ,  2.2463615 ,  3.3278382 , -0.22690026, -1.8591623 ,\n",
              "         0.49859866,  2.4206479 ,  2.7338028 ,  4.6400366 ,  0.8603649 ,\n",
              "         2.8073876 , -3.4604151 , -2.0942223 , -2.322374  ,  3.9824963 ,\n",
              "         4.2805357 ,  4.04103   ,  1.6861691 ,  2.8500812 ,  3.7339988 ,\n",
              "         4.5728416 ,  0.35140565,  3.3595583 , -3.4233341 , -0.5782769 ,\n",
              "         4.257764  ,  4.393013  ,  1.1046216 , -2.064174  ,  3.4517393 ,\n",
              "         4.272791  ,  1.8899304 ,  3.3143427 ,  0.36897516,  0.40241387,\n",
              "        -0.18576472,  2.4236903 , -0.03168455, -0.15803567, -3.2826018 ,\n",
              "         1.4849055 ,  1.1970472 ,  1.4373878 ,  0.17915305,  0.9705483 ,\n",
              "        -1.6303892 , -1.3983164 , -2.2469623 ,  0.58806795,  0.3871995 ,\n",
              "         1.4581261 ,  4.4811077 ,  1.5175301 ,  2.4182343 , -1.6116836 ,\n",
              "         2.5768256 , -1.4617383 , -0.44962472,  4.1617584 ,  4.635949  ,\n",
              "        -0.9242903 ,  4.0435715 ,  1.9012563 ,  0.44438896, -2.1623445 ,\n",
              "        -2.635436  ,  1.7908459 ,  2.532471  , -0.9734156 , -1.5348217 ,\n",
              "        -0.7675277 ,  2.48968   , -2.7285388 ,  4.139303  ,  1.4858707 ,\n",
              "         4.265147  ,  1.1061994 , -1.814615  ,  0.8919826 ,  3.9704134 ,\n",
              "         4.708454  ,  4.503274  ,  3.6542158 ,  0.08251976,  1.1781485 ]],\n",
              "      dtype=float32)"
            ]
          },
          "metadata": {},
          "execution_count": 113
        }
      ]
    },
    {
      "cell_type": "code",
      "source": [
        ""
      ],
      "metadata": {
        "id": "CtTN3yxDPeBK"
      },
      "execution_count": null,
      "outputs": []
    }
  ]
}