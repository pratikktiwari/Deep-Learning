{
  "nbformat": 4,
  "nbformat_minor": 0,
  "metadata": {
    "colab": {
      "name": "Tensorflow-Fundamentals.ipynb",
      "provenance": [],
      "collapsed_sections": [],
      "authorship_tag": "ABX9TyPWpO/gyG4Yp0G8xDvqYjdR",
      "include_colab_link": true
    },
    "kernelspec": {
      "name": "python3",
      "display_name": "Python 3"
    },
    "language_info": {
      "name": "python"
    }
  },
  "cells": [
    {
      "cell_type": "markdown",
      "metadata": {
        "id": "view-in-github",
        "colab_type": "text"
      },
      "source": [
        "<a href=\"https://colab.research.google.com/github/pratikktiwari/ML-Learnings/blob/main/Tensorflow_Fundamentals.ipynb\" target=\"_parent\"><img src=\"https://colab.research.google.com/assets/colab-badge.svg\" alt=\"Open In Colab\"/></a>"
      ]
    },
    {
      "cell_type": "markdown",
      "source": [
        "# Tensors\n",
        "\n",
        "* Introduction to tensors\n",
        "* Getting information from tensors\n",
        "* Manipulating tensors\n",
        "* Tensors & Numpy\n",
        "* Using @tf.function (a way to speed up regular Python functions)\n",
        "* Using GPUs with TensorFlow (or TPUs)\n",
        "* Exercies"
      ],
      "metadata": {
        "id": "iurZbeuHV-8I"
      }
    },
    {
      "cell_type": "markdown",
      "source": [
        "## Introduction to Tensors"
      ],
      "metadata": {
        "id": "KfhsVVFSWtwD"
      }
    },
    {
      "cell_type": "code",
      "source": [
        "# Import TensorFlow\n",
        "import tensorflow as tf\n",
        "print(tf.__version__)"
      ],
      "metadata": {
        "colab": {
          "base_uri": "https://localhost:8080/"
        },
        "id": "Jjzwmh2EXV0n",
        "outputId": "54452975-860c-44dd-aeff-0b83574306b5"
      },
      "execution_count": 2,
      "outputs": [
        {
          "output_type": "stream",
          "name": "stdout",
          "text": [
            "2.8.2\n"
          ]
        }
      ]
    },
    {
      "cell_type": "code",
      "source": [
        "# Create tensors with tf.constant()\n",
        "\n",
        "scalar = tf.constant(7) # Cmd Shift Space to get more infor about functions\n",
        "scalar"
      ],
      "metadata": {
        "colab": {
          "base_uri": "https://localhost:8080/"
        },
        "id": "877NkYAlXlEg",
        "outputId": "998c5e00-428f-427b-8b3f-5c602943a372"
      },
      "execution_count": 3,
      "outputs": [
        {
          "output_type": "execute_result",
          "data": {
            "text/plain": [
              "<tf.Tensor: shape=(), dtype=int32, numpy=7>"
            ]
          },
          "metadata": {},
          "execution_count": 3
        }
      ]
    },
    {
      "cell_type": "code",
      "source": [
        "# Check the number of dimensions of tensor (ndim)\n",
        "scalar.ndim"
      ],
      "metadata": {
        "colab": {
          "base_uri": "https://localhost:8080/"
        },
        "id": "rCpPtryBX6El",
        "outputId": "a52d14d9-3fad-40da-d0fe-7ae46a296e33"
      },
      "execution_count": 4,
      "outputs": [
        {
          "output_type": "execute_result",
          "data": {
            "text/plain": [
              "0"
            ]
          },
          "metadata": {},
          "execution_count": 4
        }
      ]
    },
    {
      "cell_type": "code",
      "source": [
        "# Create a vector\n",
        "vector = tf.constant([10,10])\n",
        "vector"
      ],
      "metadata": {
        "colab": {
          "base_uri": "https://localhost:8080/"
        },
        "id": "2oNbL65XYQy1",
        "outputId": "22def4ae-717e-427a-dd58-d28c51fdb170"
      },
      "execution_count": 5,
      "outputs": [
        {
          "output_type": "execute_result",
          "data": {
            "text/plain": [
              "<tf.Tensor: shape=(2,), dtype=int32, numpy=array([10, 10], dtype=int32)>"
            ]
          },
          "metadata": {},
          "execution_count": 5
        }
      ]
    },
    {
      "cell_type": "code",
      "source": [
        "# Check the dimension of vector\n",
        "vector.ndim"
      ],
      "metadata": {
        "colab": {
          "base_uri": "https://localhost:8080/"
        },
        "id": "l8dE8uJhYYYI",
        "outputId": "61d98711-4e84-4c32-a61e-15bfdf6e6a1c"
      },
      "execution_count": 6,
      "outputs": [
        {
          "output_type": "execute_result",
          "data": {
            "text/plain": [
              "1"
            ]
          },
          "metadata": {},
          "execution_count": 6
        }
      ]
    },
    {
      "cell_type": "code",
      "source": [
        "# Create a matrix (more than 1 Dimension)\n",
        "matrix = tf.constant([[10,7], [7,10]])\n",
        "matrix"
      ],
      "metadata": {
        "colab": {
          "base_uri": "https://localhost:8080/"
        },
        "id": "nBZG-PppYkUz",
        "outputId": "89008a27-6a22-46c5-d541-0c45f9cfd932"
      },
      "execution_count": 7,
      "outputs": [
        {
          "output_type": "execute_result",
          "data": {
            "text/plain": [
              "<tf.Tensor: shape=(2, 2), dtype=int32, numpy=\n",
              "array([[10,  7],\n",
              "       [ 7, 10]], dtype=int32)>"
            ]
          },
          "metadata": {},
          "execution_count": 7
        }
      ]
    },
    {
      "cell_type": "code",
      "source": [
        "# Dimensions of matrix\n",
        "matrix.ndim"
      ],
      "metadata": {
        "colab": {
          "base_uri": "https://localhost:8080/"
        },
        "id": "sLmb9dY3Yw3k",
        "outputId": "42066259-0a22-4225-e2e1-3f40ba313015"
      },
      "execution_count": 8,
      "outputs": [
        {
          "output_type": "execute_result",
          "data": {
            "text/plain": [
              "2"
            ]
          },
          "metadata": {},
          "execution_count": 8
        }
      ]
    },
    {
      "cell_type": "code",
      "source": [
        "# Another matrix\n",
        "another_matrix = tf.constant([[10., 7.],\n",
        "                              [3., 2.],\n",
        "                             [8., 9.]], dtype=tf.float16) # specify the data type \n",
        "another_matrix"
      ],
      "metadata": {
        "colab": {
          "base_uri": "https://localhost:8080/"
        },
        "id": "CA0btZLNY9pa",
        "outputId": "aa92985f-3164-4804-faca-193eb4e1df4b"
      },
      "execution_count": 9,
      "outputs": [
        {
          "output_type": "execute_result",
          "data": {
            "text/plain": [
              "<tf.Tensor: shape=(3, 2), dtype=float16, numpy=\n",
              "array([[10.,  7.],\n",
              "       [ 3.,  2.],\n",
              "       [ 8.,  9.]], dtype=float16)>"
            ]
          },
          "metadata": {},
          "execution_count": 9
        }
      ]
    },
    {
      "cell_type": "code",
      "source": [
        "# Dimenstion of another_matrix 2 x 3\n",
        "another_matrix.ndim"
      ],
      "metadata": {
        "colab": {
          "base_uri": "https://localhost:8080/"
        },
        "id": "F9TM-5agk-Ju",
        "outputId": "d0c91e7a-fc0d-4c21-a6c6-15d4a29079a6"
      },
      "execution_count": 10,
      "outputs": [
        {
          "output_type": "execute_result",
          "data": {
            "text/plain": [
              "2"
            ]
          },
          "metadata": {},
          "execution_count": 10
        }
      ]
    },
    {
      "cell_type": "code",
      "source": [
        "# Tensor\n",
        "tensor = tf.constant([[[1,2,3,],\n",
        "                       [4,5,6,]],\n",
        "                      [[7,8,9],\n",
        "                       [10,11,12]],\n",
        "                      [[13,14,15],\n",
        "                       [16,17,18]]])\n",
        "tensor"
      ],
      "metadata": {
        "colab": {
          "base_uri": "https://localhost:8080/"
        },
        "id": "VmTa-J9wlDMw",
        "outputId": "e4a8c6ef-76ea-49c1-b393-568110203313"
      },
      "execution_count": 11,
      "outputs": [
        {
          "output_type": "execute_result",
          "data": {
            "text/plain": [
              "<tf.Tensor: shape=(3, 2, 3), dtype=int32, numpy=\n",
              "array([[[ 1,  2,  3],\n",
              "        [ 4,  5,  6]],\n",
              "\n",
              "       [[ 7,  8,  9],\n",
              "        [10, 11, 12]],\n",
              "\n",
              "       [[13, 14, 15],\n",
              "        [16, 17, 18]]], dtype=int32)>"
            ]
          },
          "metadata": {},
          "execution_count": 11
        }
      ]
    },
    {
      "cell_type": "code",
      "source": [
        "# Dimension of tensor\n",
        "tensor.ndim"
      ],
      "metadata": {
        "colab": {
          "base_uri": "https://localhost:8080/"
        },
        "id": "wIe9STOZlpx7",
        "outputId": "4e29b335-3171-460b-9b01-8f0e7db69022"
      },
      "execution_count": 12,
      "outputs": [
        {
          "output_type": "execute_result",
          "data": {
            "text/plain": [
              "3"
            ]
          },
          "metadata": {},
          "execution_count": 12
        }
      ]
    },
    {
      "cell_type": "markdown",
      "source": [
        "###Summary\n",
        "* Scalar: a singal number\n",
        "* Vector: a number with direction (e.g. wind speed and direction)\n",
        "* Matrix: a 2D array of numbers\n",
        "* Tensors: an N dimensional number (where n can be any number, a 0D tensor is a scalar, 1D tensor is a vector)"
      ],
      "metadata": {
        "id": "aF3RJn-olt2l"
      }
    },
    {
      "cell_type": "markdown",
      "source": [
        "### Creating Tensors with `tf.Variable`"
      ],
      "metadata": {
        "id": "o-kw53RzmTDy"
      }
    },
    {
      "cell_type": "code",
      "source": [
        "# Create the same tensor with tf.Variable() as above\n",
        "\n",
        "changeable_tensor = tf.Variable([10,7])\n",
        "unchangeable_tensor = tf.constant([10,7])\n",
        "\n",
        "changeable_tensor, unchangeable_tensor"
      ],
      "metadata": {
        "colab": {
          "base_uri": "https://localhost:8080/"
        },
        "id": "ifSGgSGymjC5",
        "outputId": "1991a089-0b30-485f-e5e0-fd1d3d3e7a97"
      },
      "execution_count": 13,
      "outputs": [
        {
          "output_type": "execute_result",
          "data": {
            "text/plain": [
              "(<tf.Variable 'Variable:0' shape=(2,) dtype=int32, numpy=array([10,  7], dtype=int32)>,\n",
              " <tf.Tensor: shape=(2,), dtype=int32, numpy=array([10,  7], dtype=int32)>)"
            ]
          },
          "metadata": {},
          "execution_count": 13
        }
      ]
    },
    {
      "cell_type": "code",
      "source": [
        "# Change one of the elements in changeable tensor\n",
        "changeable_tensor[0] = 7\n",
        "\n",
        "changeable_tensor[0]"
      ],
      "metadata": {
        "colab": {
          "base_uri": "https://localhost:8080/",
          "height": 226
        },
        "id": "4bwsZNCRm-DN",
        "outputId": "7fb4e9a4-57f3-4b07-ec38-906f00d4ef77"
      },
      "execution_count": 15,
      "outputs": [
        {
          "output_type": "error",
          "ename": "TypeError",
          "evalue": "ignored",
          "traceback": [
            "\u001b[0;31m---------------------------------------------------------------------------\u001b[0m",
            "\u001b[0;31mTypeError\u001b[0m                                 Traceback (most recent call last)",
            "\u001b[0;32m<ipython-input-15-29f6d5d66911>\u001b[0m in \u001b[0;36m<module>\u001b[0;34m()\u001b[0m\n\u001b[1;32m      1\u001b[0m \u001b[0;31m# Change one of the elements in changeable tensor\u001b[0m\u001b[0;34m\u001b[0m\u001b[0;34m\u001b[0m\u001b[0;34m\u001b[0m\u001b[0m\n\u001b[0;32m----> 2\u001b[0;31m \u001b[0mchangeable_tensor\u001b[0m\u001b[0;34m[\u001b[0m\u001b[0;36m0\u001b[0m\u001b[0;34m]\u001b[0m \u001b[0;34m=\u001b[0m \u001b[0;36m7\u001b[0m\u001b[0;34m\u001b[0m\u001b[0;34m\u001b[0m\u001b[0m\n\u001b[0m\u001b[1;32m      3\u001b[0m \u001b[0;34m\u001b[0m\u001b[0m\n\u001b[1;32m      4\u001b[0m \u001b[0mchangeable_tensor\u001b[0m\u001b[0;34m[\u001b[0m\u001b[0;36m0\u001b[0m\u001b[0;34m]\u001b[0m\u001b[0;34m\u001b[0m\u001b[0;34m\u001b[0m\u001b[0m\n",
            "\u001b[0;31mTypeError\u001b[0m: 'ResourceVariable' object does not support item assignment"
          ]
        }
      ]
    },
    {
      "cell_type": "code",
      "source": [
        "# Use .assign() method\n",
        "changeable_tensor[0].assign(7)\n",
        "changeable_tensor"
      ],
      "metadata": {
        "colab": {
          "base_uri": "https://localhost:8080/"
        },
        "id": "DhgslLgFnNTK",
        "outputId": "3634b51b-2116-4c28-8e0b-dc28a748d262"
      },
      "execution_count": 16,
      "outputs": [
        {
          "output_type": "execute_result",
          "data": {
            "text/plain": [
              "<tf.Variable 'Variable:0' shape=(2,) dtype=int32, numpy=array([7, 7], dtype=int32)>"
            ]
          },
          "metadata": {},
          "execution_count": 16
        }
      ]
    },
    {
      "cell_type": "code",
      "source": [
        "# Change value of unchangeable tensor - declared using constant\n",
        "unchangeable_tensor[0].assign(7)\n",
        "unchangeable_tensor"
      ],
      "metadata": {
        "colab": {
          "base_uri": "https://localhost:8080/",
          "height": 336
        },
        "id": "QOdBEW2Wnhdt",
        "outputId": "d43ae33a-74bc-4ee9-c035-b2594690bc50"
      },
      "execution_count": 17,
      "outputs": [
        {
          "output_type": "error",
          "ename": "AttributeError",
          "evalue": "ignored",
          "traceback": [
            "\u001b[0;31m---------------------------------------------------------------------------\u001b[0m",
            "\u001b[0;31mAttributeError\u001b[0m                            Traceback (most recent call last)",
            "\u001b[0;32m<ipython-input-17-d6aac4792d55>\u001b[0m in \u001b[0;36m<module>\u001b[0;34m()\u001b[0m\n\u001b[1;32m      1\u001b[0m \u001b[0;31m# Change value of unchangeable tensor - declared using constant\u001b[0m\u001b[0;34m\u001b[0m\u001b[0;34m\u001b[0m\u001b[0;34m\u001b[0m\u001b[0m\n\u001b[0;32m----> 2\u001b[0;31m \u001b[0munchangeable_tensor\u001b[0m\u001b[0;34m[\u001b[0m\u001b[0;36m0\u001b[0m\u001b[0;34m]\u001b[0m\u001b[0;34m.\u001b[0m\u001b[0massign\u001b[0m\u001b[0;34m(\u001b[0m\u001b[0;36m7\u001b[0m\u001b[0;34m)\u001b[0m\u001b[0;34m\u001b[0m\u001b[0;34m\u001b[0m\u001b[0m\n\u001b[0m\u001b[1;32m      3\u001b[0m \u001b[0munchangeable_tensor\u001b[0m\u001b[0;34m\u001b[0m\u001b[0;34m\u001b[0m\u001b[0m\n",
            "\u001b[0;32m/usr/local/lib/python3.7/dist-packages/tensorflow/python/framework/ops.py\u001b[0m in \u001b[0;36m__getattr__\u001b[0;34m(self, name)\u001b[0m\n\u001b[1;32m    511\u001b[0m         \u001b[0;32mfrom\u001b[0m \u001b[0mtensorflow\u001b[0m\u001b[0;34m.\u001b[0m\u001b[0mpython\u001b[0m\u001b[0;34m.\u001b[0m\u001b[0mops\u001b[0m\u001b[0;34m.\u001b[0m\u001b[0mnumpy_ops\u001b[0m \u001b[0;32mimport\u001b[0m \u001b[0mnp_config\u001b[0m\u001b[0;34m\u001b[0m\u001b[0;34m\u001b[0m\u001b[0m\n\u001b[1;32m    512\u001b[0m         np_config.enable_numpy_behavior()\"\"\".format(type(self).__name__, name))\n\u001b[0;32m--> 513\u001b[0;31m     \u001b[0mself\u001b[0m\u001b[0;34m.\u001b[0m\u001b[0m__getattribute__\u001b[0m\u001b[0;34m(\u001b[0m\u001b[0mname\u001b[0m\u001b[0;34m)\u001b[0m\u001b[0;34m\u001b[0m\u001b[0;34m\u001b[0m\u001b[0m\n\u001b[0m\u001b[1;32m    514\u001b[0m \u001b[0;34m\u001b[0m\u001b[0m\n\u001b[1;32m    515\u001b[0m   \u001b[0;34m@\u001b[0m\u001b[0mstaticmethod\u001b[0m\u001b[0;34m\u001b[0m\u001b[0;34m\u001b[0m\u001b[0m\n",
            "\u001b[0;31mAttributeError\u001b[0m: 'tensorflow.python.framework.ops.EagerTensor' object has no attribute 'assign'"
          ]
        }
      ]
    },
    {
      "cell_type": "markdown",
      "source": [
        "🔑 **Note** Rarely in practise we need to decide whether to use `tf.constant(..)` or `tf.Variable(..)` to create tensors, as TensorFlow does this automatically. If in doubt, use `tf.constant(..)` and change it later if needed."
      ],
      "metadata": {
        "id": "FlQEkvMGoukh"
      }
    },
    {
      "cell_type": "markdown",
      "source": [
        "### Creating Random Tensors"
      ],
      "metadata": {
        "id": "641w4YjJnoiW"
      }
    },
    {
      "cell_type": "markdown",
      "source": [
        " Random tensors are tensors of some arbitrary numbers"
      ],
      "metadata": {
        "id": "SePTGj4YoJ-E"
      }
    },
    {
      "cell_type": "code",
      "source": [
        "from tensorflow._api.v2 import random\n",
        "# Create two random (but the same) tensors\n",
        "random_1 = tf.random.Generator.from_seed(42) # set seed for reproducibility\n",
        "random_1 = random_1.normal(shape=(3,2))\n",
        "\n",
        "random_2 = tf.random.Generator.from_seed(42)\n",
        "random_2 = random_2.normal(shape=(3,2))\n",
        "\n",
        "# Are they equal?\n",
        "random_1, random_2, random_1 == random_2"
      ],
      "metadata": {
        "colab": {
          "base_uri": "https://localhost:8080/"
        },
        "id": "l8mQDRn2pZw7",
        "outputId": "a50c1f0b-a44e-4aa2-9862-a8c237284302"
      },
      "execution_count": 18,
      "outputs": [
        {
          "output_type": "execute_result",
          "data": {
            "text/plain": [
              "(<tf.Tensor: shape=(3, 2), dtype=float32, numpy=\n",
              " array([[-0.7565803 , -0.06854702],\n",
              "        [ 0.07595026, -1.2573844 ],\n",
              "        [-0.23193763, -1.8107855 ]], dtype=float32)>,\n",
              " <tf.Tensor: shape=(3, 2), dtype=float32, numpy=\n",
              " array([[-0.7565803 , -0.06854702],\n",
              "        [ 0.07595026, -1.2573844 ],\n",
              "        [-0.23193763, -1.8107855 ]], dtype=float32)>,\n",
              " <tf.Tensor: shape=(3, 2), dtype=bool, numpy=\n",
              " array([[ True,  True],\n",
              "        [ True,  True],\n",
              "        [ True,  True]])>)"
            ]
          },
          "metadata": {},
          "execution_count": 18
        }
      ]
    },
    {
      "cell_type": "markdown",
      "source": [
        "### Shuffle the order of elements in a tensor"
      ],
      "metadata": {
        "id": "ykQ_SLv6pboc"
      }
    },
    {
      "cell_type": "code",
      "source": [
        "# Shuffle a tensor (valuable when you want to shuffle a tensor so that the inherent order does not effect learning)\n",
        "\n",
        "not_shuffled = tf.constant([[10,7],\n",
        "                            [3,4],\n",
        "                            [2,5]])\n",
        "\n",
        "# shuffle the tensor along the first dimension\n",
        "tf.random.shuffle(not_shuffled)"
      ],
      "metadata": {
        "colab": {
          "base_uri": "https://localhost:8080/"
        },
        "id": "92SeU4ECrUGs",
        "outputId": "6de32b9e-e2f3-4a52-ea49-df3591fe5f70"
      },
      "execution_count": 19,
      "outputs": [
        {
          "output_type": "execute_result",
          "data": {
            "text/plain": [
              "<tf.Tensor: shape=(3, 2), dtype=int32, numpy=\n",
              "array([[10,  7],\n",
              "       [ 2,  5],\n",
              "       [ 3,  4]], dtype=int32)>"
            ]
          },
          "metadata": {},
          "execution_count": 19
        }
      ]
    },
    {
      "cell_type": "code",
      "source": [
        "# shuffle the tensor along the first dimension\n",
        "tf.random.set_seed(42)\n",
        "tf.random.shuffle(not_shuffled, seed=42)"
      ],
      "metadata": {
        "colab": {
          "base_uri": "https://localhost:8080/"
        },
        "id": "CoRHc7swsAvU",
        "outputId": "fdb6b974-1d69-442e-f790-452183527180"
      },
      "execution_count": 20,
      "outputs": [
        {
          "output_type": "execute_result",
          "data": {
            "text/plain": [
              "<tf.Tensor: shape=(3, 2), dtype=int32, numpy=\n",
              "array([[10,  7],\n",
              "       [ 3,  4],\n",
              "       [ 2,  5]], dtype=int32)>"
            ]
          },
          "metadata": {},
          "execution_count": 20
        }
      ]
    },
    {
      "cell_type": "markdown",
      "source": [
        "> 🛠 **Exercise**: Read through TensorFlow docs on random seed generation:\n",
        "https://www.tensorflow.org/api_docs/python/tf/random/set_seed and practise writing 5 random tensors and shuffle them."
      ],
      "metadata": {
        "id": "WiKtNCt_tEjp"
      }
    },
    {
      "cell_type": "code",
      "source": [
        "# If neither the global seed nor the operation seed is set: A randomly picked seed is used for this op\n",
        "test_not_shuffled_tensor = tf.constant([[1,2],\n",
        "                            [3,4],\n",
        "                            [5,6],\n",
        "                            [7,8],\n",
        "                            [9,10]])\n",
        "tf.random.shuffle(test_not_shuffled_tensor)"
      ],
      "metadata": {
        "colab": {
          "base_uri": "https://localhost:8080/"
        },
        "id": "WWssHhe3t903",
        "outputId": "ce3480b8-dff9-488a-cfd9-9cd6bbddb622"
      },
      "execution_count": 21,
      "outputs": [
        {
          "output_type": "execute_result",
          "data": {
            "text/plain": [
              "<tf.Tensor: shape=(5, 2), dtype=int32, numpy=\n",
              "array([[ 5,  6],\n",
              "       [ 1,  2],\n",
              "       [ 9, 10],\n",
              "       [ 7,  8],\n",
              "       [ 3,  4]], dtype=int32)>"
            ]
          },
          "metadata": {},
          "execution_count": 21
        }
      ]
    },
    {
      "cell_type": "code",
      "source": [
        "# If the global seed is set, but the operation seed is not: \n",
        "# The system deterministically picks an operation seed in conjunction with the global seed so that it gets a unique random sequence. \n",
        "# Within the same version of tensorflow and user code, this sequence is deterministic. \n",
        "# However across different versions, this sequence might change. \n",
        "# If the code depends on particular seeds to work, specify both global and operation-level seeds explicitly.\n",
        "\n",
        "test_not_shuffled_tensor = tf.constant([[1,2],\n",
        "                            [3,4],\n",
        "                            [5,6],\n",
        "                            [7,8],\n",
        "                            [9,10]])\n",
        "tf.random.set_seed(13)\n",
        "\n",
        "tf.random.shuffle(test_not_shuffled_tensor)"
      ],
      "metadata": {
        "colab": {
          "base_uri": "https://localhost:8080/"
        },
        "id": "XUjZciAZuWVO",
        "outputId": "e39b9d4b-702a-4afb-901f-4e5f0e91e2f6"
      },
      "execution_count": 22,
      "outputs": [
        {
          "output_type": "execute_result",
          "data": {
            "text/plain": [
              "<tf.Tensor: shape=(5, 2), dtype=int32, numpy=\n",
              "array([[ 1,  2],\n",
              "       [ 9, 10],\n",
              "       [ 7,  8],\n",
              "       [ 5,  6],\n",
              "       [ 3,  4]], dtype=int32)>"
            ]
          },
          "metadata": {},
          "execution_count": 22
        }
      ]
    },
    {
      "cell_type": "code",
      "source": [
        "# If the operation seed is set, but the global seed is not set: \n",
        "# A default global seed and the specified operation seed are used to determine the random sequence.\n",
        "\n",
        "tf.random.shuffle(test_not_shuffled_tensor, seed=13)"
      ],
      "metadata": {
        "colab": {
          "base_uri": "https://localhost:8080/"
        },
        "id": "QayIMKz0vWJs",
        "outputId": "da3946dc-e34c-439a-d587-74e303a73845"
      },
      "execution_count": 23,
      "outputs": [
        {
          "output_type": "execute_result",
          "data": {
            "text/plain": [
              "<tf.Tensor: shape=(5, 2), dtype=int32, numpy=\n",
              "array([[ 3,  4],\n",
              "       [ 1,  2],\n",
              "       [ 9, 10],\n",
              "       [ 5,  6],\n",
              "       [ 7,  8]], dtype=int32)>"
            ]
          },
          "metadata": {},
          "execution_count": 23
        }
      ]
    },
    {
      "cell_type": "code",
      "source": [
        "# If both the global and the operation seed are set: \n",
        "# Both seeds are used in conjunction to determine the random sequence.\n",
        "\n",
        "tf.random.set_seed(19) # global random seed\n",
        "\n",
        "tf.random.shuffle(test_not_shuffled_tensor, seed=19) # operational level random seed"
      ],
      "metadata": {
        "colab": {
          "base_uri": "https://localhost:8080/"
        },
        "id": "GVi8ICfGvqhf",
        "outputId": "0fffef82-a69d-46b4-9fd5-79ef8418f2c1"
      },
      "execution_count": 24,
      "outputs": [
        {
          "output_type": "execute_result",
          "data": {
            "text/plain": [
              "<tf.Tensor: shape=(5, 2), dtype=int32, numpy=\n",
              "array([[ 7,  8],\n",
              "       [ 9, 10],\n",
              "       [ 3,  4],\n",
              "       [ 1,  2],\n",
              "       [ 5,  6]], dtype=int32)>"
            ]
          },
          "metadata": {},
          "execution_count": 24
        }
      ]
    },
    {
      "cell_type": "markdown",
      "source": [
        "### Other ways to make tensors"
      ],
      "metadata": {
        "id": "ly5CqPiqv3KE"
      }
    },
    {
      "cell_type": "code",
      "source": [
        "# Create a tensor of all ones\n",
        "tf.ones([10,3])"
      ],
      "metadata": {
        "colab": {
          "base_uri": "https://localhost:8080/"
        },
        "id": "zADU6o8ZxEHh",
        "outputId": "1d67a4d2-abab-4d9e-bcac-645b8e6942d6"
      },
      "execution_count": 25,
      "outputs": [
        {
          "output_type": "execute_result",
          "data": {
            "text/plain": [
              "<tf.Tensor: shape=(10, 3), dtype=float32, numpy=\n",
              "array([[1., 1., 1.],\n",
              "       [1., 1., 1.],\n",
              "       [1., 1., 1.],\n",
              "       [1., 1., 1.],\n",
              "       [1., 1., 1.],\n",
              "       [1., 1., 1.],\n",
              "       [1., 1., 1.],\n",
              "       [1., 1., 1.],\n",
              "       [1., 1., 1.],\n",
              "       [1., 1., 1.]], dtype=float32)>"
            ]
          },
          "metadata": {},
          "execution_count": 25
        }
      ]
    },
    {
      "cell_type": "code",
      "source": [
        "# Create a tensor of all zeros\n",
        "tf.zeros(shape=(3,4))"
      ],
      "metadata": {
        "colab": {
          "base_uri": "https://localhost:8080/"
        },
        "id": "5OjRxnqsxTPh",
        "outputId": "89725ade-706d-485c-eb17-52efa77e5471"
      },
      "execution_count": 26,
      "outputs": [
        {
          "output_type": "execute_result",
          "data": {
            "text/plain": [
              "<tf.Tensor: shape=(3, 4), dtype=float32, numpy=\n",
              "array([[0., 0., 0., 0.],\n",
              "       [0., 0., 0., 0.],\n",
              "       [0., 0., 0., 0.]], dtype=float32)>"
            ]
          },
          "metadata": {},
          "execution_count": 26
        }
      ]
    },
    {
      "cell_type": "markdown",
      "source": [
        "### Turn NumPy array into tensors\n",
        "The main difference between NumPy arrays and TensorFlow tensors is that tensors can run on GPUs"
      ],
      "metadata": {
        "id": "q69Nijg7xZV0"
      }
    },
    {
      "cell_type": "code",
      "source": [
        "import numpy as np\n",
        "\n",
        "numpy_A = np.arange(1, 25, dtype=np.int32) # create a NumPy array between 1 and 25\n",
        "numpy_A\n",
        "\n",
        "# X = tf.constant(some_matrix) # capital letter for matrix or tensor\n",
        "# y = tf.constant(vector) # non-capital for vector"
      ],
      "metadata": {
        "colab": {
          "base_uri": "https://localhost:8080/"
        },
        "id": "cG-pcPjixuFW",
        "outputId": "4a384662-919d-4eea-c5da-f9aa63a6aafd"
      },
      "execution_count": 27,
      "outputs": [
        {
          "output_type": "execute_result",
          "data": {
            "text/plain": [
              "array([ 1,  2,  3,  4,  5,  6,  7,  8,  9, 10, 11, 12, 13, 14, 15, 16, 17,\n",
              "       18, 19, 20, 21, 22, 23, 24], dtype=int32)"
            ]
          },
          "metadata": {},
          "execution_count": 27
        }
      ]
    },
    {
      "cell_type": "code",
      "source": [
        "A = tf.constant(numpy_A, shape=(2, 3, 4)) # Shape: 2 * 3 * 4 = 24; 1st-D with 2 elements; 2nd-D with 3 elements; 3rd-D with 4 elements\n",
        "B = tf.constant(numpy_A)\n",
        "A, B"
      ],
      "metadata": {
        "colab": {
          "base_uri": "https://localhost:8080/"
        },
        "id": "0SsPiKR-yCFp",
        "outputId": "e9a06fe2-1554-4e2d-ade8-5b598ef3bb44"
      },
      "execution_count": 28,
      "outputs": [
        {
          "output_type": "execute_result",
          "data": {
            "text/plain": [
              "(<tf.Tensor: shape=(2, 3, 4), dtype=int32, numpy=\n",
              " array([[[ 1,  2,  3,  4],\n",
              "         [ 5,  6,  7,  8],\n",
              "         [ 9, 10, 11, 12]],\n",
              " \n",
              "        [[13, 14, 15, 16],\n",
              "         [17, 18, 19, 20],\n",
              "         [21, 22, 23, 24]]], dtype=int32)>,\n",
              " <tf.Tensor: shape=(24,), dtype=int32, numpy=\n",
              " array([ 1,  2,  3,  4,  5,  6,  7,  8,  9, 10, 11, 12, 13, 14, 15, 16, 17,\n",
              "        18, 19, 20, 21, 22, 23, 24], dtype=int32)>)"
            ]
          },
          "metadata": {},
          "execution_count": 28
        }
      ]
    },
    {
      "cell_type": "markdown",
      "source": [
        "### Getting information from tensors\n",
        "\n",
        "* **Shape**: Number of elements of each dimension of the tensor\n",
        "* **Axis or dimension** **bold text**: A particular dimension of the tensor\n",
        "* **Size**: The total number of items in the tensor\n",
        "* **Rank**: The number of tensor dimensions. A scalar has rank *0*, vector *1*, matrix *2*, tensor *n*"
      ],
      "metadata": {
        "id": "rDjjxx7nyQj4"
      }
    },
    {
      "cell_type": "code",
      "source": [
        "# Create a rank 4 tensor (4 dimensions)\n",
        "rank_4_tensor = tf.zeros(shape=[2, 3, 4, 5])\n",
        "rank_4_tensor"
      ],
      "metadata": {
        "colab": {
          "base_uri": "https://localhost:8080/"
        },
        "id": "YxnzZWpkzNyD",
        "outputId": "ce5ea05c-384f-4ca5-81c6-880b3f544bcc"
      },
      "execution_count": 29,
      "outputs": [
        {
          "output_type": "execute_result",
          "data": {
            "text/plain": [
              "<tf.Tensor: shape=(2, 3, 4, 5), dtype=float32, numpy=\n",
              "array([[[[0., 0., 0., 0., 0.],\n",
              "         [0., 0., 0., 0., 0.],\n",
              "         [0., 0., 0., 0., 0.],\n",
              "         [0., 0., 0., 0., 0.]],\n",
              "\n",
              "        [[0., 0., 0., 0., 0.],\n",
              "         [0., 0., 0., 0., 0.],\n",
              "         [0., 0., 0., 0., 0.],\n",
              "         [0., 0., 0., 0., 0.]],\n",
              "\n",
              "        [[0., 0., 0., 0., 0.],\n",
              "         [0., 0., 0., 0., 0.],\n",
              "         [0., 0., 0., 0., 0.],\n",
              "         [0., 0., 0., 0., 0.]]],\n",
              "\n",
              "\n",
              "       [[[0., 0., 0., 0., 0.],\n",
              "         [0., 0., 0., 0., 0.],\n",
              "         [0., 0., 0., 0., 0.],\n",
              "         [0., 0., 0., 0., 0.]],\n",
              "\n",
              "        [[0., 0., 0., 0., 0.],\n",
              "         [0., 0., 0., 0., 0.],\n",
              "         [0., 0., 0., 0., 0.],\n",
              "         [0., 0., 0., 0., 0.]],\n",
              "\n",
              "        [[0., 0., 0., 0., 0.],\n",
              "         [0., 0., 0., 0., 0.],\n",
              "         [0., 0., 0., 0., 0.],\n",
              "         [0., 0., 0., 0., 0.]]]], dtype=float32)>"
            ]
          },
          "metadata": {},
          "execution_count": 29
        }
      ]
    },
    {
      "cell_type": "code",
      "source": [
        "rank_4_tensor.shape, rank_4_tensor.ndim, tf.size(rank_4_tensor)"
      ],
      "metadata": {
        "colab": {
          "base_uri": "https://localhost:8080/"
        },
        "id": "_7xcQSwB1AZO",
        "outputId": "d4649ab0-362f-4e42-d1d9-8ff53d4e9da8"
      },
      "execution_count": 30,
      "outputs": [
        {
          "output_type": "execute_result",
          "data": {
            "text/plain": [
              "(TensorShape([2, 3, 4, 5]), 4, <tf.Tensor: shape=(), dtype=int32, numpy=120>)"
            ]
          },
          "metadata": {},
          "execution_count": 30
        }
      ]
    },
    {
      "cell_type": "code",
      "source": [
        "# Get various attributes of out tensors\n",
        "print(\"Datatype of every element: \", rank_4_tensor.dtype)\n",
        "print(\"Number of dimensions (rank): \", rank_4_tensor.ndim)\n",
        "print(\"Shape of tensor: \", rank_4_tensor.shape)\n",
        "print(\"Elements along 0 axis: \", rank_4_tensor.shape[0])\n",
        "print(\"Elements along the last axis: \", rank_4_tensor.shape[-1])\n",
        "print(\"Total number of elements in tensor: \", tf.size(rank_4_tensor).numpy())\n",
        "print(\"Total number of elements in tensor: \", tf.size(rank_4_tensor))"
      ],
      "metadata": {
        "colab": {
          "base_uri": "https://localhost:8080/"
        },
        "id": "kwxeiDlB1biQ",
        "outputId": "85acaf00-e80e-4c9d-d7e9-8f4115bad013"
      },
      "execution_count": 31,
      "outputs": [
        {
          "output_type": "stream",
          "name": "stdout",
          "text": [
            "Datatype of every element:  <dtype: 'float32'>\n",
            "Number of dimensions (rank):  4\n",
            "Shape of tensor:  (2, 3, 4, 5)\n",
            "Elements along 0 axis:  2\n",
            "Elements along the last axis:  5\n",
            "Total number of elements in tensor:  120\n",
            "Total number of elements in tensor:  tf.Tensor(120, shape=(), dtype=int32)\n"
          ]
        }
      ]
    },
    {
      "cell_type": "markdown",
      "source": [
        "### Indexing tensors\n",
        "\n",
        "Tensors can be indexed just like Python lists"
      ],
      "metadata": {
        "id": "r6pqnV3S2Jsr"
      }
    },
    {
      "cell_type": "code",
      "source": [
        "# Get the first 2 elements of each dimension\n",
        "rank_4_tensor[:2, :2, :2, :2]"
      ],
      "metadata": {
        "colab": {
          "base_uri": "https://localhost:8080/"
        },
        "id": "JUcuduPG27zV",
        "outputId": "36d874c5-aa09-486c-e062-60aa4cd9e0b6"
      },
      "execution_count": 32,
      "outputs": [
        {
          "output_type": "execute_result",
          "data": {
            "text/plain": [
              "<tf.Tensor: shape=(2, 2, 2, 2), dtype=float32, numpy=\n",
              "array([[[[0., 0.],\n",
              "         [0., 0.]],\n",
              "\n",
              "        [[0., 0.],\n",
              "         [0., 0.]]],\n",
              "\n",
              "\n",
              "       [[[0., 0.],\n",
              "         [0., 0.]],\n",
              "\n",
              "        [[0., 0.],\n",
              "         [0., 0.]]]], dtype=float32)>"
            ]
          },
          "metadata": {},
          "execution_count": 32
        }
      ]
    },
    {
      "cell_type": "code",
      "source": [
        "# Get the first eleemnt from each dimension from each index except for the final one\n",
        "rank_4_tensor[:1, :1, :1, :] # or rank_4_tensor[:1, :1, :1]"
      ],
      "metadata": {
        "colab": {
          "base_uri": "https://localhost:8080/"
        },
        "id": "OZTJ3vCz28Hn",
        "outputId": "1751d883-d1cb-4872-a6b0-6dca5debe18d"
      },
      "execution_count": 33,
      "outputs": [
        {
          "output_type": "execute_result",
          "data": {
            "text/plain": [
              "<tf.Tensor: shape=(1, 1, 1, 5), dtype=float32, numpy=array([[[[0., 0., 0., 0., 0.]]]], dtype=float32)>"
            ]
          },
          "metadata": {},
          "execution_count": 33
        }
      ]
    },
    {
      "cell_type": "markdown",
      "source": [
        "### Reshape tensor"
      ],
      "metadata": {
        "id": "Ob5mqg0Z4fHO"
      }
    },
    {
      "cell_type": "code",
      "source": [
        "# Create a rank 2 tensor (2 dimensions)\n",
        "rank_2_tensor = tf.constant([[1,2],\n",
        "                             [3,4]])\n",
        "\n",
        "rank_2_tensor.shape, rank_2_tensor.ndim"
      ],
      "metadata": {
        "colab": {
          "base_uri": "https://localhost:8080/"
        },
        "id": "Hry2Beu63kgd",
        "outputId": "a556e94b-c44d-40d0-c4cc-81284d506551"
      },
      "execution_count": 34,
      "outputs": [
        {
          "output_type": "execute_result",
          "data": {
            "text/plain": [
              "(TensorShape([2, 2]), 2)"
            ]
          },
          "metadata": {},
          "execution_count": 34
        }
      ]
    },
    {
      "cell_type": "code",
      "source": [
        "# Get the last item of each of row our rank 2 tensor\n",
        "rank_2_tensor[:, -1]"
      ],
      "metadata": {
        "colab": {
          "base_uri": "https://localhost:8080/"
        },
        "id": "4uf1WYRk4Rby",
        "outputId": "750d6077-b8f3-4bfe-e9ab-02f85717b15d"
      },
      "execution_count": 35,
      "outputs": [
        {
          "output_type": "execute_result",
          "data": {
            "text/plain": [
              "<tf.Tensor: shape=(2,), dtype=int32, numpy=array([2, 4], dtype=int32)>"
            ]
          },
          "metadata": {},
          "execution_count": 35
        }
      ]
    },
    {
      "cell_type": "code",
      "source": [
        "# Add in extra dimension to rank to tensor\n",
        "rank_3_tensor = rank_2_tensor[..., tf.newaxis]\n",
        "rank_3_tensor"
      ],
      "metadata": {
        "colab": {
          "base_uri": "https://localhost:8080/"
        },
        "id": "Cfl-xYgx42uZ",
        "outputId": "a58cad5c-2d42-45e4-851a-7377bd74f0e4"
      },
      "execution_count": 36,
      "outputs": [
        {
          "output_type": "execute_result",
          "data": {
            "text/plain": [
              "<tf.Tensor: shape=(2, 2, 1), dtype=int32, numpy=\n",
              "array([[[1],\n",
              "        [2]],\n",
              "\n",
              "       [[3],\n",
              "        [4]]], dtype=int32)>"
            ]
          },
          "metadata": {},
          "execution_count": 36
        }
      ]
    },
    {
      "cell_type": "code",
      "source": [
        "# Same as above, add a new dimension\n",
        "rank_3_tensor = rank_2_tensor[:, :, tf.newaxis]\n",
        "rank_3_tensor"
      ],
      "metadata": {
        "colab": {
          "base_uri": "https://localhost:8080/"
        },
        "id": "fYPiMBV85hNz",
        "outputId": "37026c0d-2911-4099-ff6b-3f32bf549f60"
      },
      "execution_count": 37,
      "outputs": [
        {
          "output_type": "execute_result",
          "data": {
            "text/plain": [
              "<tf.Tensor: shape=(2, 2, 1), dtype=int32, numpy=\n",
              "array([[[1],\n",
              "        [2]],\n",
              "\n",
              "       [[3],\n",
              "        [4]]], dtype=int32)>"
            ]
          },
          "metadata": {},
          "execution_count": 37
        }
      ]
    },
    {
      "cell_type": "code",
      "source": [
        "# Alternative to tf.newaxis\n",
        "tf.expand_dims(rank_2_tensor, axis=-1) # -1 means expand the final axis"
      ],
      "metadata": {
        "colab": {
          "base_uri": "https://localhost:8080/"
        },
        "id": "tq3gdnDF52-U",
        "outputId": "c07d6cb7-e649-4de0-c505-16ec7d718236"
      },
      "execution_count": 38,
      "outputs": [
        {
          "output_type": "execute_result",
          "data": {
            "text/plain": [
              "<tf.Tensor: shape=(2, 2, 1), dtype=int32, numpy=\n",
              "array([[[1],\n",
              "        [2]],\n",
              "\n",
              "       [[3],\n",
              "        [4]]], dtype=int32)>"
            ]
          },
          "metadata": {},
          "execution_count": 38
        }
      ]
    },
    {
      "cell_type": "code",
      "source": [
        "# Expand the 0 axis\n",
        "tf.expand_dims(rank_2_tensor, axis=1) # expand the 0 axis"
      ],
      "metadata": {
        "colab": {
          "base_uri": "https://localhost:8080/"
        },
        "id": "G-4CiD1D6HEI",
        "outputId": "45b45f08-dc1f-4a44-e7e7-bb7f40ebfee2"
      },
      "execution_count": 39,
      "outputs": [
        {
          "output_type": "execute_result",
          "data": {
            "text/plain": [
              "<tf.Tensor: shape=(2, 1, 2), dtype=int32, numpy=\n",
              "array([[[1, 2]],\n",
              "\n",
              "       [[3, 4]]], dtype=int32)>"
            ]
          },
          "metadata": {},
          "execution_count": 39
        }
      ]
    },
    {
      "cell_type": "code",
      "source": [
        "rank_2_tensor"
      ],
      "metadata": {
        "colab": {
          "base_uri": "https://localhost:8080/"
        },
        "id": "_850cBWh6k19",
        "outputId": "e8dc1110-7491-48d3-f86d-0e2102e069cf"
      },
      "execution_count": 40,
      "outputs": [
        {
          "output_type": "execute_result",
          "data": {
            "text/plain": [
              "<tf.Tensor: shape=(2, 2), dtype=int32, numpy=\n",
              "array([[1, 2],\n",
              "       [3, 4]], dtype=int32)>"
            ]
          },
          "metadata": {},
          "execution_count": 40
        }
      ]
    },
    {
      "cell_type": "markdown",
      "source": [
        "### Manipulating Tensors (Tensor operations)\n",
        "**Basic Operations**\n",
        "`+`, `-`, `*`, `/`"
      ],
      "metadata": {
        "id": "dzDav6D96uDH"
      }
    },
    {
      "cell_type": "code",
      "source": [
        "# Add values to tensor\n",
        "tensor = tf.constant([[10,7], [3,4]])\n",
        "tensor + 10"
      ],
      "metadata": {
        "colab": {
          "base_uri": "https://localhost:8080/"
        },
        "id": "3wxP2w4a63V_",
        "outputId": "20d46057-eb80-4f27-f8a1-f26631d10b12"
      },
      "execution_count": 41,
      "outputs": [
        {
          "output_type": "execute_result",
          "data": {
            "text/plain": [
              "<tf.Tensor: shape=(2, 2), dtype=int32, numpy=\n",
              "array([[20, 17],\n",
              "       [13, 14]], dtype=int32)>"
            ]
          },
          "metadata": {},
          "execution_count": 41
        }
      ]
    },
    {
      "cell_type": "code",
      "source": [
        "# Original tensor is unchanged\n",
        "tensor"
      ],
      "metadata": {
        "id": "ensimDiy65pJ",
        "colab": {
          "base_uri": "https://localhost:8080/"
        },
        "outputId": "846f9721-7596-4fee-b5e0-17a8d62c9951"
      },
      "execution_count": 42,
      "outputs": [
        {
          "output_type": "execute_result",
          "data": {
            "text/plain": [
              "<tf.Tensor: shape=(2, 2), dtype=int32, numpy=\n",
              "array([[10,  7],\n",
              "       [ 3,  4]], dtype=int32)>"
            ]
          },
          "metadata": {},
          "execution_count": 42
        }
      ]
    },
    {
      "cell_type": "code",
      "source": [
        "# Multiplication\n",
        "tensor * 10"
      ],
      "metadata": {
        "colab": {
          "base_uri": "https://localhost:8080/"
        },
        "id": "7VLvJUi0S3JQ",
        "outputId": "fc5b38fd-df9c-4cd0-c4af-ae802c357ac0"
      },
      "execution_count": 43,
      "outputs": [
        {
          "output_type": "execute_result",
          "data": {
            "text/plain": [
              "<tf.Tensor: shape=(2, 2), dtype=int32, numpy=\n",
              "array([[100,  70],\n",
              "       [ 30,  40]], dtype=int32)>"
            ]
          },
          "metadata": {},
          "execution_count": 43
        }
      ]
    },
    {
      "cell_type": "code",
      "source": [
        "# Subtraction\n",
        "tensor - 10"
      ],
      "metadata": {
        "colab": {
          "base_uri": "https://localhost:8080/"
        },
        "id": "LbjVj1XNTGQj",
        "outputId": "047cd270-3375-45f3-9c2e-3786272ba3dd"
      },
      "execution_count": 44,
      "outputs": [
        {
          "output_type": "execute_result",
          "data": {
            "text/plain": [
              "<tf.Tensor: shape=(2, 2), dtype=int32, numpy=\n",
              "array([[ 0, -3],\n",
              "       [-7, -6]], dtype=int32)>"
            ]
          },
          "metadata": {},
          "execution_count": 44
        }
      ]
    },
    {
      "cell_type": "code",
      "source": [
        "# We can use the tensorflow built-in functions\n",
        "tf.multiply(tensor, 10) # tf.math.multiply(tensor, 10)"
      ],
      "metadata": {
        "colab": {
          "base_uri": "https://localhost:8080/"
        },
        "id": "erlrwvu6TIVy",
        "outputId": "f76cdd15-8518-4a4d-f6bf-1901d1491026"
      },
      "execution_count": 45,
      "outputs": [
        {
          "output_type": "execute_result",
          "data": {
            "text/plain": [
              "<tf.Tensor: shape=(2, 2), dtype=int32, numpy=\n",
              "array([[100,  70],\n",
              "       [ 30,  40]], dtype=int32)>"
            ]
          },
          "metadata": {},
          "execution_count": 45
        }
      ]
    },
    {
      "cell_type": "code",
      "source": [
        "# Addition\n",
        "tf.add(tensor, 10)"
      ],
      "metadata": {
        "colab": {
          "base_uri": "https://localhost:8080/"
        },
        "id": "nRQggwXVTSl6",
        "outputId": "933caa95-b664-48dd-aa9c-83b2dea8c448"
      },
      "execution_count": 46,
      "outputs": [
        {
          "output_type": "execute_result",
          "data": {
            "text/plain": [
              "<tf.Tensor: shape=(2, 2), dtype=int32, numpy=\n",
              "array([[20, 17],\n",
              "       [13, 14]], dtype=int32)>"
            ]
          },
          "metadata": {},
          "execution_count": 46
        }
      ]
    },
    {
      "cell_type": "code",
      "source": [
        "# Subtract\n",
        "tf.subtract(tensor, 10)"
      ],
      "metadata": {
        "colab": {
          "base_uri": "https://localhost:8080/"
        },
        "id": "Y-4o_uxgTrj4",
        "outputId": "b4c537e4-4e5f-471a-c42d-d139978c0074"
      },
      "execution_count": 47,
      "outputs": [
        {
          "output_type": "execute_result",
          "data": {
            "text/plain": [
              "<tf.Tensor: shape=(2, 2), dtype=int32, numpy=\n",
              "array([[ 0, -3],\n",
              "       [-7, -6]], dtype=int32)>"
            ]
          },
          "metadata": {},
          "execution_count": 47
        }
      ]
    },
    {
      "cell_type": "code",
      "source": [
        "# Divide\n",
        "tf.divide(tensor, 10)"
      ],
      "metadata": {
        "colab": {
          "base_uri": "https://localhost:8080/"
        },
        "id": "U9rAOw7RTuGa",
        "outputId": "e684b27b-b74a-42be-dd36-9ada131dfd2d"
      },
      "execution_count": 48,
      "outputs": [
        {
          "output_type": "execute_result",
          "data": {
            "text/plain": [
              "<tf.Tensor: shape=(2, 2), dtype=float64, numpy=\n",
              "array([[1. , 0.7],\n",
              "       [0.3, 0.4]])>"
            ]
          },
          "metadata": {},
          "execution_count": 48
        }
      ]
    },
    {
      "cell_type": "code",
      "source": [
        "# Multiply element with themselves\n",
        "tensor * tensor"
      ],
      "metadata": {
        "colab": {
          "base_uri": "https://localhost:8080/"
        },
        "id": "Qf17t1DRVU0c",
        "outputId": "99c5902f-b690-43b5-faf0-441f3dd80da4"
      },
      "execution_count": 49,
      "outputs": [
        {
          "output_type": "execute_result",
          "data": {
            "text/plain": [
              "<tf.Tensor: shape=(2, 2), dtype=int32, numpy=\n",
              "array([[100,  49],\n",
              "       [  9,  16]], dtype=int32)>"
            ]
          },
          "metadata": {},
          "execution_count": 49
        }
      ]
    },
    {
      "cell_type": "markdown",
      "source": [
        "**Matrix Multiplication**\n",
        "\n",
        "In ML, matrix multiplication is one the common operations"
      ],
      "metadata": {
        "id": "KRp1jvBzTwTm"
      }
    },
    {
      "cell_type": "code",
      "source": [
        "#tf.linalg.matmul - linear algebra\n",
        "\n",
        "tensor_1 = tf.constant([[1,2,5],\n",
        "                        [7,2,1],\n",
        "                        [3,3,3]])\n",
        "\n",
        "tensor_2 = tf.constant([[3,5],\n",
        "                        [6,7],\n",
        "                        [1,8]])\n",
        "\n",
        "tf.matmul(tensor_1, tensor_2)"
      ],
      "metadata": {
        "colab": {
          "base_uri": "https://localhost:8080/"
        },
        "id": "lI7585-oUDy4",
        "outputId": "e85d7475-09ce-40bc-88ab-e3fb7a9bbd1a"
      },
      "execution_count": 50,
      "outputs": [
        {
          "output_type": "execute_result",
          "data": {
            "text/plain": [
              "<tf.Tensor: shape=(3, 2), dtype=int32, numpy=\n",
              "array([[20, 59],\n",
              "       [34, 57],\n",
              "       [30, 60]], dtype=int32)>"
            ]
          },
          "metadata": {},
          "execution_count": 50
        }
      ]
    },
    {
      "cell_type": "code",
      "source": [
        "# Matrix multiplication with python operator \"@\"\n",
        "tensor_1 @ tensor_2"
      ],
      "metadata": {
        "colab": {
          "base_uri": "https://localhost:8080/"
        },
        "id": "hU2GTyoEVIh2",
        "outputId": "7b7b3734-38d2-4816-ed30-c5c4d1c4e18d"
      },
      "execution_count": 51,
      "outputs": [
        {
          "output_type": "execute_result",
          "data": {
            "text/plain": [
              "<tf.Tensor: shape=(3, 2), dtype=int32, numpy=\n",
              "array([[20, 59],\n",
              "       [34, 57],\n",
              "       [30, 60]], dtype=int32)>"
            ]
          },
          "metadata": {},
          "execution_count": 51
        }
      ]
    },
    {
      "cell_type": "code",
      "source": [
        "# Transpose\n",
        "tensor_2, tf.transpose(tensor_2)"
      ],
      "metadata": {
        "colab": {
          "base_uri": "https://localhost:8080/"
        },
        "id": "X5tEMinnV654",
        "outputId": "8d0ff4e5-2d0e-4e2f-b43c-24e6ff7d5c20"
      },
      "execution_count": 52,
      "outputs": [
        {
          "output_type": "execute_result",
          "data": {
            "text/plain": [
              "(<tf.Tensor: shape=(3, 2), dtype=int32, numpy=\n",
              " array([[3, 5],\n",
              "        [6, 7],\n",
              "        [1, 8]], dtype=int32)>, <tf.Tensor: shape=(2, 3), dtype=int32, numpy=\n",
              " array([[3, 6, 1],\n",
              "        [5, 7, 8]], dtype=int32)>)"
            ]
          },
          "metadata": {},
          "execution_count": 52
        }
      ]
    },
    {
      "cell_type": "markdown",
      "source": [
        "**Dot Product**\n",
        "Matrix multiplication is also referred to as the dot Product\n",
        "Matrix multiplication can be performed using:\n",
        "* `tf.matmul()`\n",
        "* `tf.tensordot()`\n",
        "* `@`"
      ],
      "metadata": {
        "id": "21t8G4ZXZOGQ"
      }
    },
    {
      "cell_type": "code",
      "source": [
        "tf.tensordot(tensor_1, tensor_2, axes=1)"
      ],
      "metadata": {
        "colab": {
          "base_uri": "https://localhost:8080/"
        },
        "id": "1fm-w2zBak63",
        "outputId": "ba8c7ef6-489b-46bb-c4ef-3e2fa31ef5d6"
      },
      "execution_count": 53,
      "outputs": [
        {
          "output_type": "execute_result",
          "data": {
            "text/plain": [
              "<tf.Tensor: shape=(3, 2), dtype=int32, numpy=\n",
              "array([[20, 59],\n",
              "       [34, 57],\n",
              "       [30, 60]], dtype=int32)>"
            ]
          },
          "metadata": {},
          "execution_count": 53
        }
      ]
    },
    {
      "cell_type": "markdown",
      "source": [
        "### Changing the datatype of a tensor"
      ],
      "metadata": {
        "id": "R9saydr6a3hH"
      }
    },
    {
      "cell_type": "code",
      "source": [
        "# Create a new tensor with default datatype (float32)\n",
        "B = tf.constant([1.7, 7.4])\n",
        "B, B.dtype"
      ],
      "metadata": {
        "colab": {
          "base_uri": "https://localhost:8080/"
        },
        "id": "YPJ57vnx9aH3",
        "outputId": "29f9759f-5ffa-4b72-a409-a1a74f140641"
      },
      "execution_count": 57,
      "outputs": [
        {
          "output_type": "execute_result",
          "data": {
            "text/plain": [
              "(<tf.Tensor: shape=(2,), dtype=float32, numpy=array([1.7, 7.4], dtype=float32)>,\n",
              " tf.float32)"
            ]
          },
          "metadata": {},
          "execution_count": 57
        }
      ]
    },
    {
      "cell_type": "code",
      "source": [
        "C = tf.constant([7, 10])\n",
        "C, C.dtype"
      ],
      "metadata": {
        "colab": {
          "base_uri": "https://localhost:8080/"
        },
        "id": "d3QY-M8E9haO",
        "outputId": "564045a8-fa49-493f-9975-e8e0176a7639"
      },
      "execution_count": 61,
      "outputs": [
        {
          "output_type": "execute_result",
          "data": {
            "text/plain": [
              "(<tf.Tensor: shape=(2,), dtype=int32, numpy=array([ 7, 10], dtype=int32)>,\n",
              " tf.int32)"
            ]
          },
          "metadata": {},
          "execution_count": 61
        }
      ]
    },
    {
      "cell_type": "code",
      "source": [
        "# Change from float32 to float16 => Reduced precision\n",
        "D = tf.cast(B, dtype=tf.float16)\n",
        "D, D.dtype"
      ],
      "metadata": {
        "colab": {
          "base_uri": "https://localhost:8080/"
        },
        "id": "wIixgIez9kIj",
        "outputId": "2b53ae45-ff9b-4cd7-9018-fab72ca6a713"
      },
      "execution_count": 62,
      "outputs": [
        {
          "output_type": "execute_result",
          "data": {
            "text/plain": [
              "(<tf.Tensor: shape=(2,), dtype=float16, numpy=array([1.7, 7.4], dtype=float16)>,\n",
              " tf.float16)"
            ]
          },
          "metadata": {},
          "execution_count": 62
        }
      ]
    },
    {
      "cell_type": "code",
      "source": [
        "# Change from int32 to float32\n",
        "E = tf.cast(C, dtype=tf.float32)\n",
        "E, E.dtype"
      ],
      "metadata": {
        "colab": {
          "base_uri": "https://localhost:8080/"
        },
        "id": "APey0lGHFWCm",
        "outputId": "81449efe-9e29-416d-d3f4-c6bd35868335"
      },
      "execution_count": 63,
      "outputs": [
        {
          "output_type": "execute_result",
          "data": {
            "text/plain": [
              "(<tf.Tensor: shape=(2,), dtype=float32, numpy=array([ 7., 10.], dtype=float32)>,\n",
              " tf.float32)"
            ]
          },
          "metadata": {},
          "execution_count": 63
        }
      ]
    },
    {
      "cell_type": "markdown",
      "source": [
        "### Aggregating Tensors"
      ],
      "metadata": {
        "id": "hwhnlMQ5F1XA"
      }
    },
    {
      "cell_type": "code",
      "source": [
        ""
      ],
      "metadata": {
        "id": "hDutRhhdF7k_"
      },
      "execution_count": null,
      "outputs": []
    }
  ]
}